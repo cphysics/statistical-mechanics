{
 "cells": [
  {
   "cell_type": "markdown",
   "metadata": {
    "heading_collapsed": true
   },
   "source": [
    "# Statistical Mechanics Notebook Lectures 1 - 4 \n",
    "# From Leonard Susskind's Lectures \"Statistical Mechanics\", Stanford\n",
    "## http://theoreticalminimum.com/courses/statistical-mechanics/2013/spring\n",
    "## Galen J. Wilkerson\n",
    "## July 16, 2017"
   ]
  },
  {
   "cell_type": "code",
   "execution_count": 1,
   "metadata": {
    "collapsed": true,
    "hidden": true
   },
   "outputs": [],
   "source": [
    "import numpy as np\n",
    "import matplotlib.pyplot as plt\n",
    "import networkx as nx\n",
    "\n",
    "%matplotlib inline\n",
    "\n",
    "# don't show warnings - nicer output\n",
    "import warnings\n",
    "warnings.filterwarnings('ignore')\n",
    "\n",
    "# display all results, not just last\n",
    "from IPython.core.interactiveshell import InteractiveShell\n",
    "InteractiveShell.ast_node_interactivity = \"all\""
   ]
  },
  {
   "cell_type": "markdown",
   "metadata": {
    "heading_collapsed": true
   },
   "source": [
    "# Lecture 1 - Entropy, Conservation of Information"
   ]
  },
  {
   "cell_type": "markdown",
   "metadata": {
    "hidden": true
   },
   "source": [
    "Statistical mechanics most important physics.\n",
    "\n",
    "**In large numbers, can make rather certain statistical statements about certain properties of matter.**\n",
    "\n",
    "> Note, **fluctuations** seems to be physics origin of what we now call variance.  That is, a system can have an average behavior, but there can be fluctuations away from that average, captured statistically by the variance."
   ]
  },
  {
   "cell_type": "markdown",
   "metadata": {
    "hidden": true
   },
   "source": [
    "## Probability and average\n",
    "\n",
    "\"statistics has to do with ignorance\"\n",
    "\n",
    "$i$ is the state-space or space of possible outcomes \n",
    "\n",
    "$i = 1 ... N$ discrete, finite possibilities.\n",
    "\n",
    "> e.g. flipping coins $i \\in \\{heads, tails\\}$, rolling a die $i \\in \\{1,2,3,4,5,6\\}$, etc.\n",
    "\n",
    "$P(i)$ is the probability of $i$\n",
    "\n",
    "$P(i) \\ge 0$\n",
    "\n",
    "$\\sum_i P(i) = 1$\n",
    "\n",
    "$N(i)$ is the number of times the experiment turned up the $ith$ possibility.\n",
    "\n",
    "$N$ is the total number of trials.\n",
    "\n",
    "$$\n",
    "\\lim_{N \\to \\infty}\\frac{N(i)}{N} = P(i)\n",
    "$$\n",
    "\n",
    "Let $F(i)$ be some quantity associated with the $ith$ state. \n",
    "\n",
    "> E.g. if coin flipping, $F(H) = +1$, $F(T) = -1$, if $i \\in \\{H, T\\}$\n",
    "\n",
    "> $F(i)$ could be the energy or momentum if $i$, etc.\n",
    "\n",
    "$$\n",
    "<F(i)> = \\sum_i F(i) P(i) = \\sum_i \\frac{F(i) N(i)}{N}\n",
    "$$\n",
    "\n",
    "> (This is also the expected value.)\n",
    "\n",
    "> Note, the average $<F(i)>$ does not need to be one of the experimental outputs."
   ]
  },
  {
   "cell_type": "markdown",
   "metadata": {
    "hidden": true
   },
   "source": [
    "## Symmetry and Coin flipping or Die Rolling"
   ]
  },
  {
   "cell_type": "markdown",
   "metadata": {
    "hidden": true
   },
   "source": [
    "Flipping a coin many times, we get that probability of heads = tails = $1/2$ due to **symmetry** of coin.\n",
    "\n",
    "> Probablilities are usually taken to be equal for configurations which are related to each other by some symmetry."
   ]
  },
  {
   "cell_type": "code",
   "execution_count": 2,
   "metadata": {
    "collapsed": false,
    "hidden": true
   },
   "outputs": [
    {
     "data": {
      "text/plain": [
       "['T', 'H', 'H', 'T', 'T', 'H', 'H', 'T', 'H', 'H']"
      ]
     },
     "execution_count": 2,
     "metadata": {},
     "output_type": "execute_result"
    },
    {
     "data": {
      "text/plain": [
       "0.6"
      ]
     },
     "execution_count": 2,
     "metadata": {},
     "output_type": "execute_result"
    }
   ],
   "source": [
    "i = [\"H\", \"T\"]\n",
    "\n",
    "flips = list(np.random.choice(i, p=[.5,.5], size=10))\n",
    "flips\n",
    "\n",
    "num_heads = flips.count(\"H\")\n",
    "P = num_heads/len(flips)\n",
    "P"
   ]
  },
  {
   "cell_type": "markdown",
   "metadata": {
    "hidden": true
   },
   "source": [
    "Similarly with rolling a die.\n",
    "\n",
    "\n",
    "$P(i) = \\frac16$"
   ]
  },
  {
   "cell_type": "code",
   "execution_count": 3,
   "metadata": {
    "collapsed": false,
    "hidden": true
   },
   "outputs": [
    {
     "data": {
      "text/plain": [
       "[1, 2, 3, 4, 5, 6]"
      ]
     },
     "execution_count": 3,
     "metadata": {},
     "output_type": "execute_result"
    },
    {
     "data": {
      "text/plain": [
       "[3, 2, 6, 1, 1, 1, 4, 2, 4, 1]"
      ]
     },
     "execution_count": 3,
     "metadata": {},
     "output_type": "execute_result"
    },
    {
     "data": {
      "text/plain": [
       "0.4"
      ]
     },
     "execution_count": 3,
     "metadata": {},
     "output_type": "execute_result"
    }
   ],
   "source": [
    "i = list(range(1,7)) #sides {1,2,...,6}\n",
    "i\n",
    "rolls = list(np.random.choice(i, size=10))\n",
    "rolls\n",
    "num_ones = rolls.count(1)\n",
    "P = num_ones / len(rolls)\n",
    "P"
   ]
  },
  {
   "cell_type": "markdown",
   "metadata": {
    "hidden": true
   },
   "source": [
    "## What if system is not symmetric?\n",
    "\n",
    "## Law of Motion of a system - describes transitions between states of a system, or a rule of updating configurations\n",
    "\n",
    "> For example, at each time interval:\n",
    "> $ R \\to B$,\n",
    "> $ B \\to Y$,\n",
    "> $ Y \\to G$,\n",
    "> $ G \\to O$,\n",
    "> $ O \\to P$,\n",
    "> $ P \\to R$\n",
    "\n",
    "> This is a closed cycle passing through each state once.  Just important to know it is a particular *kind* of law."
   ]
  },
  {
   "cell_type": "code",
   "execution_count": 4,
   "metadata": {
    "collapsed": false,
    "hidden": true
   },
   "outputs": [
    {
     "data": {
      "image/png": "[encoded data removed]",
      "text/plain": [
       "<Figure size 432x288 with 1 Axes>"
      ]
     },
     "metadata": {},
     "output_type": "display_data"
    }
   ],
   "source": [
    "rules = {\"R\":\"B\", \"B\":\"Y\", \"Y\":\"G\", \"G\":\"O\", \"O\":\"P\", \"P\":\"R\"}\n",
    "edges = zip(list(rules.keys()), list(rules.values()))\n",
    "G = nx.DiGraph(data= edges)\n",
    "nx.draw_spring(G, node_color=\"lightblue\", with_labels=True);"
   ]
  },
  {
   "cell_type": "markdown",
   "metadata": {
    "hidden": true
   },
   "source": [
    "*** \n",
    "> Example of another kind of law:\n",
    "\n",
    "> $R \\to B, B \\to G, G \\to R$  -- call this cycle \"+1 energy\"\n",
    "\n",
    "> $Y \\to O, O \\to P, P \\to Y$  -- call this cycle \"-1 energy\"\n",
    "\n",
    "> If start in the upper cycle (R, B, or G), there is a $1/3$ probability of each of these states, with $0$ probability of (Y, O, or P)\n",
    "\n",
    "> $P(+1) \\frac13 = P(R, B, G)$\n",
    "\n",
    "> $P(-1) \\frac13 = P(Y, O, P)$"
   ]
  },
  {
   "cell_type": "code",
   "execution_count": 5,
   "metadata": {
    "collapsed": false,
    "hidden": true
   },
   "outputs": [
    {
     "data": {
      "image/png": "[encoded data removed]",
      "text/plain": [
       "<Figure size 432x288 with 1 Axes>"
      ]
     },
     "metadata": {},
     "output_type": "display_data"
    }
   ],
   "source": [
    "rules = {\"R\":\"B\", \"B\":\"G\", \"G\":\"R\", \"Y\":\"O\", \"O\":\"P\", \"P\":\"Y\"}\n",
    "edges = zip(list(rules.keys()), list(rules.values()))\n",
    "G = nx.DiGraph(data= edges)\n",
    "nx.draw_spring(G, node_color=\"lightblue\", with_labels=True);"
   ]
  },
  {
   "cell_type": "code",
   "execution_count": 6,
   "metadata": {
    "collapsed": false,
    "hidden": true
   },
   "outputs": [
    {
     "name": "stdout",
     "output_type": "stream",
     "text": [
      "start node  G\n",
      "end node  R\n"
     ]
    },
    {
     "data": {
      "image/png": "[encoded data removed]",
      "text/plain": [
       "<Figure size 432x288 with 1 Axes>"
      ]
     },
     "metadata": {},
     "output_type": "display_data"
    }
   ],
   "source": [
    "# start somewhere randomly, and step number_of_steps\n",
    "\n",
    "number_of_steps = np.random.randint(10)\n",
    "\n",
    "start = np.random.choice(list(rules.keys()), size=1)[0]\n",
    "print(\"start node \", start)\n",
    "tempnode = start\n",
    "\n",
    "for step in range(number_of_steps):\n",
    "    tempnode = G.successors(tempnode)[0]\n",
    "    tempnode\n",
    "    \n",
    "endnode = tempnode\n",
    "\n",
    "print(\"end node \", endnode)\n",
    "\n",
    "nx.draw_spring(G, node_color=\"lightblue\", with_labels=True);\n",
    "plt.title(\"cycles same size\");"
   ]
  },
  {
   "cell_type": "markdown",
   "metadata": {
    "hidden": true
   },
   "source": [
    "## Conservation Law\n",
    "\n",
    "The configuration space divides up into **cycles**.\n",
    "\n",
    "Cycle don't have to have same size.\n",
    "\n",
    "> E.g.  \n",
    "> $R \\to B \\to G \\to P \\to R$, \n",
    "\n",
    "> $Y \\to O \\to Y$"
   ]
  },
  {
   "cell_type": "code",
   "execution_count": 7,
   "metadata": {
    "collapsed": false,
    "hidden": true
   },
   "outputs": [
    {
     "data": {
      "image/png": "[encoded data removed]",
      "text/plain": [
       "<Figure size 432x288 with 1 Axes>"
      ]
     },
     "metadata": {},
     "output_type": "display_data"
    }
   ],
   "source": [
    "rules = {\"R\":\"B\", \"B\":\"G\", \"G\":\"P\", \"P\":\"R\", \"Y\":\"O\", \"O\":\"Y\"}\n",
    "edges = zip(list(rules.keys()), list(rules.values()))\n",
    "G = nx.DiGraph(data= edges)\n",
    "nx.draw_spring(G, node_color=\"lightblue\", with_labels=True);\n",
    "plt.title(\"cycles different size\");"
   ]
  },
  {
   "cell_type": "markdown",
   "metadata": {
    "hidden": true
   },
   "source": [
    "![closed_system](./images/closed_system.png)\n",
    "\n",
    "One closed system, energy is conserved."
   ]
  },
  {
   "cell_type": "markdown",
   "metadata": {
    "hidden": true
   },
   "source": [
    "![closed_system](./images/two_closed_systems.png)\n",
    "\n",
    "Two closed systems, energy is conserved within each system.  Therefore there are **two conserved quantities**."
   ]
  },
  {
   "cell_type": "markdown",
   "metadata": {
    "hidden": true
   },
   "source": [
    "![two_connected_systems](./images/two_connected_systems.png)\n",
    "\n",
    "Two connected systems, energy is conserved between the two.  **One conserved quantity**.\n",
    "\n",
    "Can ask, \"What is the probability that the energy in system A is X?\"  Given some global information."
   ]
  },
  {
   "cell_type": "markdown",
   "metadata": {
    "hidden": true
   },
   "source": [
    "### \"bad laws\" - violate the **conservation of information** (the most basic rule of physics)\n",
    "### \"-1st law of physics\"\n",
    "\n",
    "Rule that you can 'keep track' of going forward and backward.\n",
    "\n",
    "> $R \\to R$\n",
    "\n",
    "> $B \\to R, Y \\to R, P \\to R, G \\to R, O \\to R$\n",
    "\n",
    "> Is not **reversible**\n",
    "\n",
    "> \"bad\" because loses track of where you started.\n",
    "\n",
    "> not allowed in classical or quantum physics"
   ]
  },
  {
   "cell_type": "code",
   "execution_count": 8,
   "metadata": {
    "collapsed": false,
    "hidden": true
   },
   "outputs": [
    {
     "data": {
      "image/png": "[encoded data removed]",
      "text/plain": [
       "<Figure size 432x288 with 1 Axes>"
      ]
     },
     "metadata": {},
     "output_type": "display_data"
    }
   ],
   "source": [
    "rules = {\"R\":\"R\", \"B\":\"R\", \"G\":\"R\", \"P\":\"R\", \"Y\":\"R\", \"O\":\"R\"}\n",
    "edges = zip(list(rules.keys()), list(rules.values()))\n",
    "G = nx.DiGraph(data= edges)\n",
    "nx.draw_spring(G, node_color=\"lightblue\", with_labels=True);\n",
    "plt.title(\"not reversible: violates conservation of information\");"
   ]
  },
  {
   "cell_type": "markdown",
   "metadata": {
    "hidden": true
   },
   "source": [
    "### Called \"Liouville's Theorem\"  (classical mechanics version of '-1st law')\n",
    "\n",
    "> **Friction** *seems* like a case of Liouville's Theorem, since wherever you start, you come to rest.\n",
    "\n",
    "> (similar to the above case that wherever you start, you go to R)\n",
    "\n",
    "> Actually, since kinetic energy is converted to heat in the surrounding molecules, the distinction between starting points *is recorded*.\n",
    "\n",
    ">Differential equation of friction:\n",
    "\n",
    ">$$\n",
    "\\frac{d^2 x_n}{dt^2} = -\\gamma \\frac{dx_n}{dt}\n",
    "$$\n",
    "\n",
    ">Very deterministic, and every particle comes to rest.\n",
    "\n",
    ">Something wrong from the point of view of conservation of energy, and thermodynamics.\n",
    "Says \"things get simpler\"."
   ]
  },
  {
   "cell_type": "markdown",
   "metadata": {
    "hidden": true
   },
   "source": [
    "suppose we have a collection of $N$ possible states\n",
    "\n",
    "and we have \"occupied\" $M < N$ states, equaly probable, where $p = 1/M$, and $p = 0$ for all others.\n",
    "\n",
    "By **Liouville's theorem**, the number of \"occupied\" states that have non-zero probability will remain constant ($M$), and the probabilities will remain $1/M$.\n",
    "\n",
    "$M$ is characterizing **ignorance (or uncertainty)**.  If $M = N$ we have maximal ignorance.\n",
    "\n",
    "\n",
    ">**\"Entropy increases because our ignorance increases, not because anything has happened in the system.  If we could follow (the details of the system), we would find that it would be conserved.\"**"
   ]
  },
  {
   "cell_type": "markdown",
   "metadata": {
    "hidden": true
   },
   "source": [
    "### Entropy - approximately measures the number of states that have a non-zero probability\n",
    "\n",
    "$S = \\log M$    \n",
    "\n",
    "(here in the uniform distribution case)\n",
    "\n",
    "The maximum value of $S = \\log N$. (log of the system size)\n",
    "\n",
    "**Maximum entropy** is a notion of how many states there are all together.\n",
    "\n",
    "\n",
    "Entropy depends on two things:  \n",
    "1. the system\n",
    "2. your *state of knowledge* about the system"
   ]
  },
  {
   "cell_type": "markdown",
   "metadata": {
    "hidden": true
   },
   "source": [
    "### Phase space of a system - \"occupied space\" of positions and momenta of each particle:\n",
    "\n",
    "![Liouville's Theorem](./images/liouville_theorem.png)\n",
    "\n",
    "Basically, the state is position and velocity.\n",
    "\n",
    "If there are $10^{23}$ particles, there would be $10^{23}$ P axes, and $10^{23}$ V axes.\n",
    "\n",
    "Think of the occuped patch as a fluid that changes over time (and keeps the same volume)."
   ]
  },
  {
   "cell_type": "markdown",
   "metadata": {
    "hidden": true
   },
   "source": [
    "### Liouville's Theorem: \n",
    "\n",
    "#### Volume of occupied phase space must remain the same.\n",
    "####                                    and if you start with a uniform probability distribution at start time, the probability distribution will be uniform in the new occupied space\n",
    "\n",
    ">  I.e.  If the occupied space is squeezed in one direction, it must expand in the other.\n",
    "\n",
    ">  Example, when sliding an eraser across the desk, the eraser stops.  It appears at first that this violates Liouville's theorem, since the momentum has all gone to 0.   However, the molecules on the table surface are part of the system and have heated up, meaning that their position and momentum have both expanded due to heat.  Therefore, the compressed volume of the eraser's occupied phase space has transferred to the volume of the occupied phase space of the table-top molecules."
   ]
  },
  {
   "cell_type": "markdown",
   "metadata": {
    "hidden": true
   },
   "source": [
    ">![friction_liouville](./images/friction_liouville.png)\n",
    "\n",
    "> **back to friction**: if we consider the eraser coming to a stop due to friction, it *seems* that the phase space of the particles in the eraser is collapsing down to zero volume along the 1-dimensional x-axis.\n",
    "\n",
    "> What is really happening is that the phase space is changing shape and being spread 'thin' among the particles on the table surface, and this is happening in high dimensions (of P), since there are many particles.\n"
   ]
  },
  {
   "cell_type": "markdown",
   "metadata": {
    "collapsed": true,
    "hidden": true
   },
   "source": [
    "## Zeroth law of thermodynamics - \"~Transitive property of thermal equilibrium.\"\n",
    "\n",
    "If A is in thermal equilibrium with B, and B is in thermal equilibrium with C,\n",
    "\n",
    "then A is in thermal equilibrium with C\n",
    "\n",
    "(skip for now)\n"
   ]
  },
  {
   "cell_type": "markdown",
   "metadata": {
    "collapsed": true,
    "hidden": true
   },
   "source": [
    "## First law of thermodynamics:\n",
    "## Energy Conservation (for a closed system)\n",
    "\n",
    "$$\n",
    "\\frac{dE}{dt} = 0\n",
    "$$\n",
    "\n",
    "![two_connected_systems](./images/two_connected_systems.png)\n",
    "\n",
    "If a system is made of two parts (1,2) with a link between them, then\n",
    "\n",
    "$$\n",
    "\\frac{dE_1}{dt} + \\frac{dE_2}{dt} = 0 \\implies \\frac{dE_1}{dt} = - \\frac{dE_2}{dt}\n",
    "$$\n",
    "\n",
    "Roughly, energy is the sum of the energy of the two, plus a small amount for their interactions.\n",
    "\n",
    "> Note, in some systems, you can't just add up all the parts to get the energy, since there may be a potential energy as a result of the two parts interacting.  However, often the energy of interactions is negligible in comparison with the energy of each part. \n",
    "\n",
    ">(basically, because surface area is small compared to volume)"
   ]
  },
  {
   "cell_type": "markdown",
   "metadata": {
    "hidden": true
   },
   "source": [
    "### Entropy (continued)"
   ]
  },
  {
   "cell_type": "markdown",
   "metadata": {
    "hidden": true
   },
   "source": [
    "![M_elements_uniform](./images/M_elements_uniform.png)\n",
    "\n",
    "In this simple uniform case (above), we have defined entropy to be $\\log M$."
   ]
  },
  {
   "cell_type": "markdown",
   "metadata": {
    "hidden": true
   },
   "source": [
    "![non_uniform_entropy](./images/non_uniform_entropy.png)\n",
    "\n",
    "Using our new definition:  \n",
    "$$\n",
    "S = - \\sum p(i) \\log_2 p(i),\n",
    "$$ \n",
    "\n",
    "for this uniform case of M elements we get:\n",
    "\n",
    "$$\n",
    "S = - M \\sum \\frac1M \\log_2 \\frac1M  = - \\log \\frac1m = - (- \\log M)  = \\log M\n",
    "$$.\n",
    "\n",
    "\n",
    "***\n",
    "\n",
    ">  Example, flip $n$ coins \n",
    "\n",
    ">  Total number of states is $N = 2^n (= M)$\n",
    "\n",
    "> Similar to the uniform M elements example above, we just take the logarithm of N\n",
    "\n",
    "> $ S = \\log 2^n = n \\log 2$"
   ]
  },
  {
   "cell_type": "code",
   "execution_count": 9,
   "metadata": {
    "collapsed": false,
    "hidden": true
   },
   "outputs": [
    {
     "data": {
      "text/plain": [
       "1024"
      ]
     },
     "execution_count": 9,
     "metadata": {},
     "output_type": "execute_result"
    },
    {
     "data": {
      "text/plain": [
       "10.0"
      ]
     },
     "execution_count": 9,
     "metadata": {},
     "output_type": "execute_result"
    }
   ],
   "source": [
    "n = 10 \n",
    "N = 2 ** n\n",
    "N\n",
    "\n",
    "S = np.log2(N)\n",
    "S"
   ]
  },
  {
   "cell_type": "code",
   "execution_count": 10,
   "metadata": {
    "collapsed": false,
    "hidden": true
   },
   "outputs": [
    {
     "data": {
      "text/plain": [
       "10.0"
      ]
     },
     "execution_count": 10,
     "metadata": {},
     "output_type": "execute_result"
    }
   ],
   "source": [
    "# Let's verify from the equation above:\n",
    "\n",
    "- N * np.sum(1/N * np.log2(1/N))"
   ]
  },
  {
   "cell_type": "markdown",
   "metadata": {
    "hidden": true
   },
   "source": [
    "### More on Entropy\n",
    "\n",
    "* **Entropy is _proportional_ to the number of degrees of freedom $n$.**  (see the width of the uniform distribution above)\n",
    "\n",
    "  (Example, if we think of a robot arm with one 'elbow' that can only fold, it cannot surprise us with ununusual poses, but if we think of a complex robot with many joints, it can strike interesting and unusual poses.  This robot will tend to have higher entropy.)\n",
    "\n",
    "* a low probability event has a high \"surprise\" when it occurs\n",
    "\n",
    "\n",
    "* the log of the probability of each event can therefore be thought of as \"the amount of surprise\" for that event occuring.  This is called **information gain** from that event.\n",
    "\n",
    "\n",
    "* we can also think of entropy as the **expected number of bits** to describe a distribution, since **$\\log_2(p)$ tells us the number of bits** to express $p$, \n",
    "and **$p *$ a value is the expectation of that value**.  We put these together by writing $p \\log_2 p$, the expected value of the number of bits.\n",
    "\n",
    "\n",
    "* Notice that $p$ and $- \\log p$ are in conflict when contributing to entropy.  As $\\lim_{p \\to 0} -\\log p = \\infty$.\n",
    "\n",
    "  We can use L'Hopital's Rule to understand this weighted information gain:\n",
    "  \n",
    "  $$\n",
    "  p * - \\log p\n",
    "  $$\n",
    "  \n",
    "  $$\n",
    "  = \\frac{- \\log p}{1/p}\n",
    "  $$\n",
    "  \n",
    "\n",
    "  $$\n",
    "  \\lim_{p \\to 0} \\frac{- \\log p}{1/p}\n",
    "  $$\n",
    "  \n",
    "  $$\n",
    "= \\lim_{p \\to 0} \\frac{\\frac d{dp}  - \\log p}{\\frac d{dp}  1/p}   \\space{         } \\text{       (l'Hopital)}\n",
    "  $$\n",
    "  \n",
    "  $$\n",
    "= \\lim_{p \\to 0} \\frac{\\frac d{dp}  - \\log p}{\\frac d{dp}  p^{-1}}\n",
    "  $$\n",
    "  \n",
    "  \n",
    "\n",
    "$$\n",
    "= \\lim_{p \\to 0} \\frac{- 1/p}{-1 p ^{-2}}\n",
    "$$\n",
    "\n",
    "$$\n",
    "= \\lim_{p \\to 0} \\frac{p^2}{p} \n",
    "$$\n",
    "\n",
    "$$\n",
    "= \\lim_{p \\to 0} p\n",
    "$$\n",
    "\n",
    "$$\n",
    "= 0\n",
    "$$\n",
    "\n",
    "#### Hmm, but what about $\\lim_{p \\to \\infty} p$ ?  This should go to $\\infty$ , but it doesn't according to the plot below.  Why not?"
   ]
  },
  {
   "cell_type": "code",
   "execution_count": 11,
   "metadata": {
    "collapsed": false,
    "hidden": true
   },
   "outputs": [
    {
     "data": {
      "image/png": "[encoded data removed]",
      "text/plain": [
       "<Figure size 432x288 with 1 Axes>"
      ]
     },
     "metadata": {},
     "output_type": "display_data"
    }
   ],
   "source": [
    "# demonstrate that weighted information gain does indeed go to 0 as p -> 0\n",
    "\n",
    "p = np.arange(0,1,.001)\n",
    "plt.figure()\n",
    "plt.plot(p, p, label = 'p:                        probability')\n",
    "plt.plot(p, - np.log2(p), label = '- np.log2(p):       info gain');\n",
    "plt.plot(p, - p * np.log2(p), label = '- p * np.log2(p): weighted info gain')\n",
    "plt.legend();\n",
    "plt.show();"
   ]
  },
  {
   "cell_type": "markdown",
   "metadata": {
    "hidden": true
   },
   "source": [
    "***\n",
    "\n",
    "> Note that if the system can only take on one state, then we have\n",
    "\n",
    "> $S = \\sum 1 \\log 1 = 0$\n",
    "\n",
    "> ### \"The more you know, the less the entropy\""
   ]
  },
  {
   "cell_type": "markdown",
   "metadata": {
    "hidden": true
   },
   "source": [
    "**Note, if we asked \"what is the entropy if one coin is heads?\", that is just equal to the degrees of freedom, $n$, since there are $n$ ways one coin can be heads.**"
   ]
  },
  {
   "cell_type": "markdown",
   "metadata": {
    "hidden": true
   },
   "source": [
    "### Entropy of a more complicated (and less random) distribution from coin flipping:\n",
    "\n",
    "Find the probability of the number of heads by flipping 10 coins 10000 times:"
   ]
  },
  {
   "cell_type": "code",
   "execution_count": 12,
   "metadata": {
    "collapsed": false,
    "hidden": true
   },
   "outputs": [
    {
     "data": {
      "image/png": "[encoded data removed]",
      "text/plain": [
       "<Figure size 432x288 with 1 Axes>"
      ]
     },
     "metadata": {},
     "output_type": "display_data"
    }
   ],
   "source": [
    "i = [\"H\", \"T\"]\n",
    "\n",
    "ps = []\n",
    "\n",
    "for x in range(10000):\n",
    "    flips = list(np.random.choice(a = i, size=n))\n",
    "    num_heads = flips.count(\"H\")\n",
    "    ps.append(num_heads)\n",
    "\n",
    "h = np.histogram(ps, density=True)\n",
    "p = h[0]\n",
    "plt.plot(p);\n",
    "plt.xlim([0,10]);"
   ]
  },
  {
   "cell_type": "code",
   "execution_count": 13,
   "metadata": {
    "collapsed": false,
    "hidden": true
   },
   "outputs": [
    {
     "data": {
      "text/plain": [
       "2.7032212790393992"
      ]
     },
     "execution_count": 13,
     "metadata": {},
     "output_type": "execute_result"
    }
   ],
   "source": [
    "# calculate the Shannon entropy\n",
    "S = - np.sum(p * np.log2(p))\n",
    "S"
   ]
  },
  {
   "cell_type": "markdown",
   "metadata": {
    "hidden": true
   },
   "source": [
    "**Here we know more than the uniform distribution, so entropy is less.**"
   ]
  },
  {
   "cell_type": "markdown",
   "metadata": {
    "collapsed": true,
    "hidden": true
   },
   "source": [
    "## In continuous systems, the entropy is the log of the volume in phase space\n",
    "\n",
    "![entropy_of_phase_space](./images/entropy_of_phase_space.png)\n",
    "\n",
    "\n",
    "$S = \\log V_{ph}$\n",
    "\n",
    "Occupied states: $\\int P(p, x) = 1$\n",
    "\n",
    "$$\n",
    "S = - \\int  dp dx P(p, x) \\log P(p, x)\n",
    "$$"
   ]
  },
  {
   "cell_type": "markdown",
   "metadata": {
    "heading_collapsed": true
   },
   "source": [
    "# Lecture 2 - Boltzmann Constant and Temperature"
   ]
  },
  {
   "cell_type": "markdown",
   "metadata": {
    "collapsed": true,
    "hidden": true
   },
   "source": [
    "## Boltzmann constant (a conversion factor)\n",
    "\n",
    "Can convert between \"human units\" to more fundamental units.\n",
    "\n",
    "**Temperature is really an energy.**  Measuring kinetic energy.\n",
    "\n",
    "Natural units for temperature is energy.  But human units for temperature were created before it was realized that temperature is an 'energy'.\n",
    "\n",
    "$E = \\frac32 k_B t_k$,\n",
    "\n",
    "Factor of 3 comes from dimension.\n",
    "\n",
    "$k_B$ is the Boltzmann constant ($1.4 \\times 10^{-23} \\frac Jk $), and $t_k$ is the temperature in Kelvin.\n",
    "\n",
    "$T = k_B t$ is a redefined unit of temperature that allows us to get rid of conversion to Boltzmann units in all other formulas.\n",
    "\n",
    "$S_{carnot} $ is Carnot's entropy (units joules/kelvin) was a macroscopic measure used for steam engines.\n",
    "\n",
    "Boltzmann's Entropy: $S = - \\sum_i p_i \\log p_i = \\frac{1}{k_B} S_{carnot}$\n",
    "\n",
    "Boltzmann's Entropy is proportional to the number of molecules in a system (since it scales with the degrees of freedom of a system.)\n",
    "\n",
    "$i$ is the exact micro-scopic description of the system, labeled in ascending order of average energy.\n",
    "\n",
    "\n",
    "Entropy becomes a function of average energy:\n",
    "\n",
    "$S(E) = - \\sum_i p(i,E) \\log p(i,E)$  \n",
    "\n",
    "Boltzmann entropy is dimensionless."
   ]
  },
  {
   "cell_type": "markdown",
   "metadata": {
    "hidden": true
   },
   "source": [
    "## Temperature"
   ]
  },
  {
   "cell_type": "markdown",
   "metadata": {
    "hidden": true
   },
   "source": [
    "![system](./images/system.png)\n",
    "\n",
    "System in heat bath.\n",
    "\n",
    "Temperature is a rate of change between energy and entropy:\n",
    "$$\n",
    "T = \\frac{dE}{dS}\n",
    "$$\n",
    "\n",
    "Sum of probabilities of states is 1:\n",
    "\n",
    "$$\n",
    "\\sum p(i) = 1\n",
    "$$\n",
    "\n",
    "Average energy is\n",
    "$$\n",
    "\\sum_i p(i) E(i) = <E>\n",
    "$$\n",
    "\n"
   ]
  },
  {
   "cell_type": "markdown",
   "metadata": {
    "hidden": true
   },
   "source": [
    "There is a one-parameter family of probability distribution for each value of $E$, each one having an average energy.\n",
    "\n",
    "$$\n",
    "P(i,E)\n",
    "$$\n",
    "\n",
    "![average_energy](./images/average_energy.png)\n",
    "\n",
    "\n",
    "Each value of $E$ has an $S$\n",
    "\n",
    "$$\n",
    "S(E) = - \\sum_i p(i,E) \\log p(i,E)\n",
    "$$\n",
    "\n",
    "$S$ becomes a function of the energy, since for each energy we have a different probabilty dstribution."
   ]
  },
  {
   "cell_type": "markdown",
   "metadata": {
    "collapsed": true,
    "hidden": true
   },
   "source": [
    "## How much do you have to change the average energy to change the entropy by one bit $(\\log_2)$?\n",
    "\n",
    "$$\n",
    "\\Delta E = \\frac{\\partial E}{\\partial S} \\Delta S = T \\Delta S\n",
    "$$\n",
    "\n",
    "$$\n",
    "\\Delta S = \\frac1{\\partial E/\\partial S} \\Delta E = \\frac{\\partial S}{\\partial E} \\Delta E\n",
    "$$\n",
    "\n",
    "$$\n",
    " \\frac1{\\partial E/\\partial S} = T\n",
    "$$\n",
    "\n",
    "$$\n",
    "dE = T dS\n",
    "$$\n",
    "\n",
    "$$\n",
    "= t_K dS_{carnot} \\text{,         but Boltzmann factors cancel to give you above}\n",
    "$$\n",
    "\n",
    "\n",
    "# Temperature equals the rate of change of energy / entropy\n",
    "\n",
    "## i.e.  when you increase the energy you spread the possible states over a wider distribution.\n",
    "\n",
    "![aSystem composed of two parts](./images/System composed of two parts.png)\n",
    "\n",
    "Two connected systems A and B at different temperatures, $T_A$ and $T_B$.\n",
    "\n",
    "By 2nd Law of Thermodynamics, entropy increases.\n",
    "\n",
    "$$\n",
    "S = S_A + S_B\n",
    "$$\n",
    "\n",
    "Entropy is additive (due to logs).\n",
    "\n",
    "1st law: $dE_A = - dE_B$  (Conservation of total energy.)\n",
    "\n",
    "2nd law: $dS_A + dS_B >0$  (Entropy increases) \n",
    "\n",
    "**Definition of temperature:**\n",
    "\n",
    "$dE_A = T_A dS_A$\n",
    "\n",
    "$dE_B = T_B dS_B$\n",
    "\n",
    "***"
   ]
  },
  {
   "cell_type": "markdown",
   "metadata": {
    "heading_collapsed": true
   },
   "source": [
    "# Lecture 3 - Equilibrium and Temperature"
   ]
  },
  {
   "cell_type": "markdown",
   "metadata": {
    "hidden": true
   },
   "source": [
    "The entropy of a probabilty distribution is the sum of the probabilties of states times the logaritm of the probabilities of the states:\n",
    "\n",
    "$S = - \\sum_i p_i \\log p_i$\n",
    "\n",
    "Each state has a probability:\n",
    "\n",
    "$ p_i $, such that $\\sum_i p_i = 1$\n",
    "\n",
    "Energy of the ith state\n",
    "\n",
    "$E_i$, such that $\\sum_i p_i E_i  = <E>$, the average energy.\n",
    "\n",
    "\n",
    "The ** ground state ** of a system is described by an energy distribution that is zero everywhere except the state of lowest energy.  At lowest energy the entropy is exactly zero.\n",
    "\n",
    "As the average energy increases, the entropy increases.\n",
    "\n",
    "**Entropy is a monotonically increasing function of energy.**"
   ]
  },
  {
   "cell_type": "markdown",
   "metadata": {
    "hidden": true
   },
   "source": [
    "![average_energy](./images/average_energy.png)\n",
    "\n",
    "\n",
    "## -1st law - information is conserved (Liouville's Theorem)"
   ]
  },
  {
   "cell_type": "markdown",
   "metadata": {
    "hidden": true
   },
   "source": [
    "![0th_law](./images/0th_law.png)\n",
    "\n",
    "## 0th law - thermal equilibrium is 'transitive'\n",
    "\n",
    "> There is such a thing as thermal equilibrium.\n",
    "\n",
    "> If the system is made of different parts, there is a concept called \"temperature\", such that energy flows from larger temperature to smaller temperature when the system is not in equilibrium.  When the temperatures are equal, the heat stops flowing.  if A is in equilibrium with B, and B in equilibrium with C, then A is in equilibrium with C.  Can say the same with temperature.  if A same temp as B, and B same temp as C, then A same temp as C.\n",
    "\n",
    ">* Temperature flows from higher to lower\n",
    ">* Thermal equilibrium occurs when all parts of system are the same.\n",
    "    \n",
    "    \n",
    "> Can also think of temperature as telling you which way energy flows."
   ]
  },
  {
   "cell_type": "markdown",
   "metadata": {
    "hidden": true
   },
   "source": [
    "## 1st law - energy is conserved"
   ]
  },
  {
   "cell_type": "markdown",
   "metadata": {
    "hidden": true
   },
   "source": [
    "## 2nd law of thermodynamics - entropy increases over time"
   ]
  },
  {
   "cell_type": "markdown",
   "metadata": {
    "hidden": true
   },
   "source": [
    "> means that, if you have a system described by a given probability distribution, and is ** not in equilibrium **, as it comes to equilibrium the distribution broadens.\n",
    "\n",
    "> if talking about a complex system with many degrees of freedom, you tend to \"lose track of things\" = more uncertainty = more entropy\n",
    "\n",
    "\n",
    "From last lecture, \n",
    "\n",
    "$$\n",
    "T = \\frac{dE}{dS}\n",
    "$$"
   ]
  },
  {
   "cell_type": "markdown",
   "metadata": {
    "hidden": true
   },
   "source": [
    "## Now let's look at a simple system made of two parts to understand equilibrium and temperature.\n",
    "\n",
    "![aSystem composed of two parts](./images/System composed of two parts.png)"
   ]
  },
  {
   "cell_type": "markdown",
   "metadata": {
    "hidden": true
   },
   "source": [
    "Assume: $T_B > T_A$\n",
    "\n",
    "Let's write what we know and see what we get:\n",
    "\n",
    "1. $dE_A + dE_B = 0 $  (1st law, conservation of energy: total energy doesn't change.)\n",
    "\n",
    "2. $dS_A + dS_B > 0$  (2nd Law, Entropy increases as the system moves toward equilibrium.)\n",
    "> The probability distribution of the combined systems shifts in such a way that the distribution becomes broader.\n",
    "\n",
    "3. $dE = T dS$ (0th law)\n",
    "> $dE_A = T_A dS_A$\n",
    "and\n",
    "> $dE_B = T_B dS_B$\n",
    "\n",
    "Using (3.), can rewrite (1.) as:\n",
    "\n",
    "$T_A dS_A +  T_B dS_B = 0$\n",
    "\n",
    "Solving for $dS_B$, we get\n",
    "\n",
    "$dS_B = - \\frac{T_A}{T_B}dS_A$\n",
    "\n",
    "Replacing in (2.), we get\n",
    "\n",
    "$ dS_A - \\frac{T_A}{T_B}dS_A > 0  \\implies$\n",
    "\n",
    "(multiply by $T_B$, assuming temperatures are positive)\n",
    "\n",
    "$ T_B dS_A - T_A dS_A > 0  \\implies$\n",
    "\n",
    "$ (T_B - T_A) dS_A > 0$   (A positive number (since $T_B > T_A$) times a positive number is positive.)\n",
    "\n",
    "$ \\implies dS_A > 0 \\implies$ \n",
    "\n",
    "$ T_A dS_A > 0 \\implies $ (since $T_A$ is positive)\n",
    "\n",
    "$ dE_A > 0 \\implies$  (by 3. above)\n",
    "\n",
    "$ dE_B < 0$  (by 1. above)\n",
    "\n",
    "That is, A increases in energy and B decreases.  i.e. energy flows from B to A. $\\square$\n",
    "\n",
    "**The definition of temperature (equation 3:  $dE = T dS$) is such that energy (heat) flows from B to A until the temperatures become the same, when equilibrium is established.  This is the 0th Law of Thermodynamics.**\n"
   ]
  },
  {
   "cell_type": "markdown",
   "metadata": {
    "hidden": true
   },
   "source": [
    "** In equilibrium, what is the probability distribution for the system to be in its different micro-states? **\n",
    "\n",
    "** In other words, for a system to be at a certain average energy, what is the possible distribution of energy levels of its subsystems? **\n",
    " "
   ]
  },
  {
   "cell_type": "markdown",
   "metadata": {
    "hidden": true
   },
   "source": [
    "## System of many parts"
   ]
  },
  {
   "cell_type": "markdown",
   "metadata": {
    "hidden": true
   },
   "source": [
    "![aSystem composed of many parts](./images/System composed of many parts.png)"
   ]
  },
  {
   "cell_type": "markdown",
   "metadata": {
    "hidden": true
   },
   "source": [
    "Each of the identical systems is in a possible state.  Each state has different energy:\n",
    "\n",
    "![apossible states](./images/possible states.png)\n",
    "\n",
    "$n_i$ is the number of systems in state (energy) $i$ ($n_i$s are also called \"occupation numbers\")\n",
    "\n",
    "$$\n",
    "n_i = (n_1, n_2, n_3, ...)\n",
    "$$\n",
    "\n",
    "$p(i) = \\frac{n_i}{N} \\implies N p(i) = n_i$  :  The number of systems in that state / total number of systems."
   ]
  },
  {
   "cell_type": "markdown",
   "metadata": {
    "collapsed": true,
    "hidden": true
   },
   "source": [
    "## How many ways are there of redistributing the systems among the states for a given number of $n_i$s (occupied states)?\n",
    "\n",
    "There are two **constraints:** \n",
    "\n",
    "1. $n_1 + n_2 + n_3... = \\sum_i n_i = N$      ( **The total number of systems is fixed.**)\n",
    "\n",
    "    $\\implies \\sum_i p(i) N = N $   (by definition of $n_i$ above)\n",
    "    \n",
    "    $\\implies \\sum p(i) = 1$\n",
    "\n",
    "2. Energy constraint: **The total energy is fixed.**\n",
    "\n",
    "    $n_1 E_1 + n_2 E_2 + ... = \\sum n_i E_i  = N E$\n",
    "    \n",
    "    $\\implies \\sum p(i) N E_i = NE$  (by definition of $n_i$ above)\n",
    "    \n",
    "    $\\implies \\sum p(i) E_i = E $ (average energy)\n",
    "    \n",
    "    The total energy is proportional to the number of systems.\n",
    "    \n",
    "What is the probability that a given one of these systems is in the ith state?\n",
    "\n",
    "\n",
    "   \n",
    "If N is finite, how many arrangements (number of ways) of keeping occupation numbers fixed but re-distributing the systems among the occupied energy levels (states)?\n",
    "\n",
    "Number of arrangements = $ \\frac{N!}{n_1! n_2! n_3! ...} = \\frac{N!}{\\prod_i n_i!}$\n",
    "\n",
    "> This is the number of ways of arranging $N$ systems divided by the number of ways of arranging each of the occupation numbers of systems.\n",
    "\n",
    "What about unoccupied states?  $0! = 1$, so no problem.\n",
    "\n",
    "When $N$ gets very large, the occupation numbers cluster about a particular set of occupation numbers.  The distribution gets peaked."
   ]
  },
  {
   "cell_type": "markdown",
   "metadata": {
    "hidden": true
   },
   "source": [
    ">This is similar to n choose k, as we see elsewhere in probability with the **Binomial Theorem**.\n",
    "\n",
    ">That is, if we have N systems and want to allocate them in k states.\n",
    "\n",
    ">Suppose we have 6 systems and want to allocate them in 2 states.\n",
    "\n",
    ">Then, for the first state, we have 6 ways of choosing it, and for the 2nd state, we have 5 ways of choosing it.\n",
    "\n",
    "> This is \n",
    "$$\n",
    "\\frac{6!}{4!} = 6 * 5\n",
    "$$\n",
    "\n",
    "> So, generally if we have $N$ things and want to choose from them $k$ items, we have "
   ]
  },
  {
   "cell_type": "markdown",
   "metadata": {
    "hidden": true
   },
   "source": [
    "## Approximating factorial with Stirling's Approximation"
   ]
  },
  {
   "cell_type": "markdown",
   "metadata": {
    "collapsed": true,
    "hidden": true
   },
   "source": [
    "> $N! \\approx N^N e^{-N} = (\\frac{N}{e}) ^N $\n",
    "\n",
    "> $N! = 1 \\times 2 \\times ... \\times N$\n",
    "\n",
    "> $\\log N! = \\log 1 + \\log 2 + ... + \\log N$\n",
    "\n",
    "> $\\log N! = \\sum_{x=1}^N \\log x$\n",
    "\n",
    "> Approximate $\\sum \\log x$ by $\\int \\log x$  (see figure)\n",
    "\n",
    "> $\\approx \\int_1^N dx \\log x$\n",
    "\n",
    "> ![astirling_approx](./images/stirling_approx.gif)\n",
    "\n",
    "> To integrate, try taking the derivative of a guess at the integral.\n",
    "\n",
    "> $\\frac{d}{dx}x \\log x - x = \\log x + 1 -1 = \\log x \\implies$\n",
    "\n",
    "\n",
    "> $\\log N! \\approx \\int_1^N dx \\log x = N \\log N - N \\implies$\n",
    "\n",
    "> $N! \\approx e^{N\\log N} e^{-N}$\n",
    "\n",
    "> Since $e^{N \\log N} = e^{\\log N^N} = N^N$, \n",
    "\n",
    "> $N!= N^N e^{-N}$"
   ]
  },
  {
   "cell_type": "markdown",
   "metadata": {
    "hidden": true
   },
   "source": [
    "## Maximizing Number of arrangements = $ \\frac{N!}{n_1! n_2! n_3! ...} = \\frac{N!}{\\prod_i n_i!}$"
   ]
  },
  {
   "cell_type": "markdown",
   "metadata": {
    "hidden": true
   },
   "source": [
    "**Given two constraints:**\n",
    "\n",
    "1. $\\sum n_i = N$\n",
    "2. $\\sum n_i E_i = E$\n",
    "\n",
    "**What is the set of occupation numbers ($n_i$s) that makes the number of arrangements as large as possible?**\n",
    "\n",
    "Once we know the occupation numbers we know the probabilities."
   ]
  },
  {
   "cell_type": "markdown",
   "metadata": {
    "hidden": true
   },
   "source": [
    "### How maximize?  Differentiate. However, maximizing is the same as maximizing its logarithm."
   ]
  },
  {
   "cell_type": "markdown",
   "metadata": {
    "hidden": true
   },
   "source": [
    "Use Stirling's approximation:\n",
    "\n",
    "$$\n",
    "C= \\frac{N!}{\\prod_i n_i!} \\approx \\frac{N^N e^{-N}}{n_1^{n_1}n_2^{n_2}n_3^{n_3}... e^{-n_1-n_2-n_3}...}\n",
    "$$\n",
    "\n",
    "> (Since $\\sum_i n_i = N$, cancel the $e^{n_i}$ terms with $e^N$)\n",
    "\n",
    "$ C = \\frac{N^N}{n_1^{n_1}n_2^{n_2}n_3^{n_3}}...$\n",
    "\n",
    "> (take logarithm)\n",
    "\n",
    "$ \\implies \\log C = N \\log N - \\sum_i n_i \\log n_i$  (right-hand side looks like **entropy**)\n",
    "\n",
    "> but since $N p(i) = n_i$\n",
    "\n",
    "\n",
    "$\\implies N \\log N - \\sum_i p(i)N \\log p(i) N $\n",
    "\n",
    "$= N \\log N - \\sum_i p(i)N (\\log p(i) + \\log N) $\n",
    "\n",
    "> but - $\\sum_i p(i) N \\log N  = - N \\log N \\times 1 = - N \\log N $, which cancels the $N \\log N $ term.\n",
    "\n",
    "$=   - \\sum_i   p(i) N \\log p(i)$\n",
    "\n",
    "$=   - N \\sum_i p(i) \\log p(i)$ (**N times the entropy!**)\n",
    "\n",
    "### $N$ fixed, so to maximize the number of system arrangements, \n",
    "\n",
    "### just need to maximize the entropy. (subject to constraints)"
   ]
  },
  {
   "cell_type": "markdown",
   "metadata": {
    "hidden": true
   },
   "source": [
    "## Find p(i) that maximizes $- N \\sum_i p(i) \\log p(i)$ subject to constraints\n",
    "\n",
    "1.  $\\sum p_i = 1$\n",
    "2.  $\\sum p_i E_i = E$   (this constraint breaks the symmetry between different states - some have big energy, some have small energy)\n"
   ]
  },
  {
   "cell_type": "markdown",
   "metadata": {
    "code_folding": [],
    "hidden": true
   },
   "source": [
    "## Lagrange multipliers for maximization subject to constraints"
   ]
  },
  {
   "cell_type": "markdown",
   "metadata": {
    "hidden": true
   },
   "source": [
    "Given an abstract function $F(x_i)$, maximize $F$.\n",
    "\n",
    "Just solve the partial derivatives at 0.\n",
    "\n",
    "$\\frac{\\partial F}{\\partial x_1} = 0$\n",
    "\n",
    "$\\frac{\\partial F}{\\partial x_2} = 0$\n",
    "\n",
    "...\n",
    "\n",
    "ok, what about constraints?\n",
    "\n",
    "![aContours](./images/Contours.jpg)\n",
    "\n",
    "Minimum or maximum always surrounded by circles.\n",
    "\n",
    "Contours are the level surfaces of $F$. (isolines)\n",
    "\n",
    "but have constraint that $G(x_i) = 0$.\n",
    "\n",
    "Along the curve $G(x) = 0$, where is $F$ maximum?\n",
    "\n",
    "Will always be somewhere that a level surface of $F$ is **tangent** to $G$.\n"
   ]
  },
  {
   "cell_type": "markdown",
   "metadata": {
    "collapsed": true,
    "hidden": true
   },
   "source": [
    "   <tr>\n",
    "    <td> <img src=\"./images/Contours2.jpg\" alt=\"Drawing\" style=\"width: 250px;\"/> </td>\n",
    "    <td>  Here F is a cross-section of the gradient at the tangent<img src=\"./images/F vs G langrange.png\" alt=\"Drawing\" style=\"width: 250px;\"/> </td>\n",
    "    </tr>"
   ]
  },
  {
   "cell_type": "markdown",
   "metadata": {
    "collapsed": true,
    "hidden": true
   },
   "source": [
    "Shift $F$ by a value proportional to $G$:  $F' = F + \\lambda G$, so that $F'$ is minimized at $G = 0$\n",
    "\n",
    "![aF vs G langrange](./images/F vs G langrange 2.png)"
   ]
  },
  {
   "cell_type": "markdown",
   "metadata": {
    "collapsed": true,
    "hidden": true
   },
   "source": [
    "## Lagrange multiplier example 1\n",
    "\n",
    "**1. Find function to minimize, $F$:**\n",
    "\n",
    "$$\n",
    "    F = \\frac{x^2 + y^2}{2}\n",
    "$$\n",
    "\n",
    "> subject to constraint $x + y = 1$\n",
    "    \n",
    "\n",
    "**2. That is, setup G constraint function such that $G = 0$:**\n",
    "\n",
    "$$\n",
    "    G = x + y - 1 = 0\n",
    "$$\n",
    "\n",
    "\n",
    "**     $F$ looks something like this, with constraint $G = 0$:**\n",
    "\n",
    "![aF vs G langrange](./images/circle_contours.gif)\n"
   ]
  },
  {
   "cell_type": "markdown",
   "metadata": {
    "collapsed": true,
    "hidden": true
   },
   "source": [
    "** 3. Set up the Lagrange multiplier by defining a new function $F' = F + \\lambda G$:**\n",
    "\n",
    "> (This is the shifted $F$ that is minimized by adding some scaling of $G$)\n",
    "\n",
    "$$\n",
    "    F' = F + \\lambda G = \\frac{x^2 + y^2}{2} + \\lambda (x + y - 1)\n",
    "$$"
   ]
  },
  {
   "cell_type": "markdown",
   "metadata": {
    "hidden": true
   },
   "source": [
    "** 4. Minimize $F'$ with respect to $x$ and $y$**\n",
    "\n",
    "$$\n",
    "\\frac{\\partial F'}{\\partial x} = 0, \\frac{\\partial F'}{\\partial y} = 0\n",
    "$$\n",
    "\n",
    "> In our case set the derivatives with respect to $x$ and $y$ equal to zero,\n",
    "\n",
    "$$\n",
    "\\frac{\\partial F'}{\\partial x} = x + \\lambda = 0,\n",
    "$$\n",
    "\n",
    "    and \n",
    "\n",
    "$$\n",
    " \\frac{\\partial F'}{\\partial y} = y + \\lambda = 0.\n",
    "$$\n",
    "\n",
    "$$\n",
    "\\implies\n",
    "$$\n",
    "\n",
    "$$\n",
    "x = -\\lambda, \n",
    "$$ \n",
    "\n",
    "$$\n",
    "y = -\\lambda.\n",
    "$$\n",
    "\n",
    "** 5. Include the constraint that $G = 0$ **\n",
    "\n",
    "$$\n",
    "G = x + y - 1 = 0\n",
    "$$\n",
    "\n",
    "or\n",
    "\n",
    "$$\n",
    "x + y = 1.\n",
    "$$\n",
    "\n",
    "$$\n",
    "\\implies - 2 \\lambda = 1\n",
    "$$\n",
    "\n",
    "$$\n",
    "\\implies \\lambda = -\\frac12\n",
    "$$\n"
   ]
  },
  {
   "cell_type": "markdown",
   "metadata": {
    "hidden": true
   },
   "source": [
    "I.e. \n",
    "$$ \n",
    "x = y = +\\frac12\n",
    "$$\n",
    "\n",
    "is the point that minimizes $ F = \\frac{x^2 + y^2}{2}$ subject to the constraint that $x + y = 1$.\n",
    "\n",
    "![aF vs G langrange](./images/circle_contours_2.png)\n"
   ]
  },
  {
   "cell_type": "markdown",
   "metadata": {
    "heading_collapsed": true,
    "hidden": true
   },
   "source": [
    "## Lagrange multiplier example 2 - with several constraints"
   ]
  },
  {
   "cell_type": "markdown",
   "metadata": {
    "hidden": true
   },
   "source": [
    "$ G_1 = 0, G_2 = 0$\n",
    "\n",
    "** 1. Define $F$ function to minimize:**\n",
    "\n",
    "$$\n",
    "F = \\frac{x^2 + y^2 - z^2}{2}\n",
    "$$\n",
    "\n",
    "**     having constraints:**\n",
    "\n",
    "$$\n",
    "x + y = 1\n",
    "$$\n",
    "\n",
    "$$\n",
    "z + x = 1\n",
    "$$\n",
    "\n",
    "** 2. set up constraint functions $G$:**\n",
    "\n",
    "$    G_1 = x + y - 1 = 0$\n",
    "\n",
    "$    G_2 = z + x - 1 = 0$\n",
    "\n",
    "** 3. Set up the Lagrange multiplier by defining a new function **\n",
    "\n",
    "$$\n",
    "    F' = F + \\lambda_1 G_1 + \\lambda_2 G_2\n",
    "$$\n",
    "\n",
    "$$\n",
    "    F' = \\frac{x^2 + y^2 - z^2}{2} + \\lambda_1 (x + y - 1) + \\lambda_2 (z + x - 1)\n",
    "$$\n",
    "\n",
    "\n",
    "** 4. Minimize $F'$ with respect to $x, y, z$**\n",
    "\n",
    "\n",
    "$$\n",
    "\\frac{\\partial F'}{\\partial x} = x + \\lambda_1 x + \\lambda_2 x = 0\n",
    "$$\n",
    "\n",
    "$$\n",
    "\\frac{\\partial F'}{\\partial y} = y + \\lambda_1 y = 0\n",
    "$$\n",
    "\n",
    "\n",
    "$$\n",
    "\\frac{\\partial F'}{\\partial z} = -z + \\lambda_2 z = 0\n",
    "$$\n",
    "\n",
    "** 5. Include the constraint that $G = 0$ **\n",
    "\n",
    "$$    \n",
    "G_1 = x + y - 1 = 0\n",
    "$$\n",
    "\n",
    "$$\n",
    "G_2 = z + x - 1 = 0\n",
    "$$"
   ]
  },
  {
   "cell_type": "markdown",
   "metadata": {
    "hidden": true
   },
   "source": [
    "**Using $G$, solve for $x$, then $z$:**\n",
    "\n",
    "$$\n",
    "x = 1 - y\n",
    "$$\n",
    "$$\n",
    "z = 1 - x = 1 - (1 - y) \\implies\n",
    "$$\n",
    "$$\n",
    "z = y\n",
    "$$\n",
    "\n",
    "** Now using the derivatives of $F'$: **\n",
    "\n",
    "$y + \\lambda_1 y = 0 \\implies$\n",
    "\n",
    "$(1 + \\lambda_1)y = 0 \\implies$\n",
    "\n",
    "$1 + \\lambda_1 = 0 \\implies$\n",
    "\n",
    "$\\lambda_1 = -1$\n",
    "\n",
    "which gives:\n",
    "\n",
    "$x - x + \\lambda_2 x = \\lambda_2 x = 0 \\implies$\n",
    "\n",
    "$\\lambda_2 = 0$"
   ]
  },
  {
   "cell_type": "markdown",
   "metadata": {
    "hidden": true
   },
   "source": [
    "## Generally, if $F$ is a function of many variables, when trying to maximize the entropy subject to constraints (total electric charge is fixed, total energy is fixed, etc.)\n",
    "\n",
    "$F$ is a function of the probabilities of occupying each state:\n",
    "\n",
    "$F(p_1, p_2, ...) = S(p_i) = - \\sum_i p(i) \\log p(i)$  ($F$ is entropy)\n",
    "\n",
    "The constraints are:\n",
    "\n",
    "Total probabilities add up to one:\n",
    "\n",
    "$G_1 = \\sum_i p_i - 1 = 0$\n",
    "\n",
    "Total energies add up to E:\n",
    "\n",
    "$G_2 = \\sum_i p_i E_i = E$\n"
   ]
  },
  {
   "cell_type": "markdown",
   "metadata": {},
   "source": [
    "# Lecture 4 - Boltzmann Distribution"
   ]
  },
  {
   "cell_type": "markdown",
   "metadata": {},
   "source": [
    "For our purposes, we will often want to **maximize the entropy for the two constraints:**\n",
    "\n",
    "$F(p_i) = -S(p_i) =  \\sum_i p_i \\log p_i$ (negate S)\n",
    "\n",
    "1. $\\sum_i p_i = 1$\n",
    "2. $\\sum_i E_i p_i = E$\n",
    "\n",
    "These give us:\n",
    "\n",
    "1. $\\sum_i p_i - 1 = 0$\n",
    "2. $\\sum_i E_i p_i - E = 0$\n",
    "\n",
    "Given us a formulation:\n",
    "\n",
    "$$\n",
    "F' = F + \\alpha[\\sum_i p_i - 1] + \\beta[\\sum_i E_i p_i - E],\n",
    "$$\n",
    "\n",
    "where $\\alpha$ and $\\beta$ are our two Lagrange multipliers.\n",
    "\n",
    "When we differentiate $F'$, the 1 and E constant terms will not contribute, so we can re-write $F'$ as\n",
    "\n",
    "$$\n",
    "F' = F + \\alpha[\\sum_i p_i] + \\beta[\\sum_i E_i p_i]\n",
    "$$\n",
    "\n",
    "$$\n",
    "= \\sum_i p_i \\log p_i + \\alpha[\\sum_i p_i] + \\beta[\\sum_i E_i p_i]\n",
    "$$\n",
    "\n",
    "If, for example, we differentiate $F'$ with respect to $p_7$, chosen arbitrarily, we get:\n",
    "\n",
    "$$\n",
    "\\frac{\\partial F'}{\\partial p_7} = \\log p_7 + 1 + \\alpha + \\beta E_7.\n",
    "$$\n",
    "\n",
    "So, generally, if we chose some $p_i$, we obtain the derivative and set it to zero,\n",
    "\n",
    "$$\n",
    "\\frac{\\partial F'}{\\partial p_i} = \\log p_i + 1 + \\alpha + \\beta E_i = 0.\n",
    "$$\n",
    "\n",
    "This gives us that\n",
    "\n",
    "$$\n",
    "\\log p_i = -(1 + \\alpha) - \\beta E_i.\n",
    "$$\n",
    "\n",
    "Exponentiating gives\n",
    "\n",
    "$$\n",
    "p_i = e^{-(1 + \\alpha) - \\beta E_i}\n",
    "$$\n",
    "\n",
    "> Note $e^{(1 + \\alpha)} = z$ in statistical mechanics.\n",
    "\n",
    "<p style=\"border: 1px solid black\">\n",
    "$$\n",
    "p_i = \\frac1z e^{-\\beta E_i}\n",
    "$$\n",
    "</p>\n",
    "\n",
    "\n",
    "\n",
    "This is the relative probabilities of the different states."
   ]
  },
  {
   "cell_type": "code",
   "execution_count": 7,
   "metadata": {
    "collapsed": false
   },
   "outputs": [
    {
     "data": {
      "application/javascript": [
       "/* Put everything inside the global mpl namespace */\n",
       "window.mpl = {};\n",
       "\n",
       "\n",
       "mpl.get_websocket_type = function() {\n",
       "    if (typeof(WebSocket) !== 'undefined') {\n",
       "        return WebSocket;\n",
       "    } else if (typeof(MozWebSocket) !== 'undefined') {\n",
       "        return MozWebSocket;\n",
       "    } else {\n",
       "        alert('Your browser does not have WebSocket support.' +\n",
       "              'Please try Chrome, Safari or Firefox ≥ 6. ' +\n",
       "              'Firefox 4 and 5 are also supported but you ' +\n",
       "              'have to enable WebSockets in about:config.');\n",
       "    };\n",
       "}\n",
       "\n",
       "mpl.figure = function(figure_id, websocket, ondownload, parent_element) {\n",
       "    this.id = figure_id;\n",
       "\n",
       "    this.ws = websocket;\n",
       "\n",
       "    this.supports_binary = (this.ws.binaryType != undefined);\n",
       "\n",
       "    if (!this.supports_binary) {\n",
       "        var warnings = document.getElementById(\"mpl-warnings\");\n",
       "        if (warnings) {\n",
       "            warnings.style.display = 'block';\n",
       "            warnings.textContent = (\n",
       "                \"This browser does not support binary websocket messages. \" +\n",
       "                    \"Performance may be slow.\");\n",
       "        }\n",
       "    }\n",
       "\n",
       "    this.imageObj = new Image();\n",
       "\n",
       "    this.context = undefined;\n",
       "    this.message = undefined;\n",
       "    this.canvas = undefined;\n",
       "    this.rubberband_canvas = undefined;\n",
       "    this.rubberband_context = undefined;\n",
       "    this.format_dropdown = undefined;\n",
       "\n",
       "    this.image_mode = 'full';\n",
       "\n",
       "    this.root = $('<div/>');\n",
       "    this._root_extra_style(this.root)\n",
       "    this.root.attr('style', 'display: inline-block');\n",
       "\n",
       "    $(parent_element).append(this.root);\n",
       "\n",
       "    this._init_header(this);\n",
       "    this._init_canvas(this);\n",
       "    this._init_toolbar(this);\n",
       "\n",
       "    var fig = this;\n",
       "\n",
       "    this.waiting = false;\n",
       "\n",
       "    this.ws.onopen =  function () {\n",
       "            fig.send_message(\"supports_binary\", {value: fig.supports_binary});\n",
       "            fig.send_message(\"send_image_mode\", {});\n",
       "            if (mpl.ratio != 1) {\n",
       "                fig.send_message(\"set_dpi_ratio\", {'dpi_ratio': mpl.ratio});\n",
       "            }\n",
       "            fig.send_message(\"refresh\", {});\n",
       "        }\n",
       "\n",
       "    this.imageObj.onload = function() {\n",
       "            if (fig.image_mode == 'full') {\n",
       "                // Full images could contain transparency (where diff images\n",
       "                // almost always do), so we need to clear the canvas so that\n",
       "                // there is no ghosting.\n",
       "                fig.context.clearRect(0, 0, fig.canvas.width, fig.canvas.height);\n",
       "            }\n",
       "            fig.context.drawImage(fig.imageObj, 0, 0);\n",
       "        };\n",
       "\n",
       "    this.imageObj.onunload = function() {\n",
       "        fig.ws.close();\n",
       "    }\n",
       "\n",
       "    this.ws.onmessage = this._make_on_message_function(this);\n",
       "\n",
       "    this.ondownload = ondownload;\n",
       "}\n",
       "\n",
       "mpl.figure.prototype._init_header = function() {\n",
       "    var titlebar = $(\n",
       "        '<div class=\"ui-dialog-titlebar ui-widget-header ui-corner-all ' +\n",
       "        'ui-helper-clearfix\"/>');\n",
       "    var titletext = $(\n",
       "        '<div class=\"ui-dialog-title\" style=\"width: 100%; ' +\n",
       "        'text-align: center; padding: 3px;\"/>');\n",
       "    titlebar.append(titletext)\n",
       "    this.root.append(titlebar);\n",
       "    this.header = titletext[0];\n",
       "}\n",
       "\n",
       "\n",
       "\n",
       "mpl.figure.prototype._canvas_extra_style = function(canvas_div) {\n",
       "\n",
       "}\n",
       "\n",
       "\n",
       "mpl.figure.prototype._root_extra_style = function(canvas_div) {\n",
       "\n",
       "}\n",
       "\n",
       "mpl.figure.prototype._init_canvas = function() {\n",
       "    var fig = this;\n",
       "\n",
       "    var canvas_div = $('<div/>');\n",
       "\n",
       "    canvas_div.attr('style', 'position: relative; clear: both; outline: 0');\n",
       "\n",
       "    function canvas_keyboard_event(event) {\n",
       "        return fig.key_event(event, event['data']);\n",
       "    }\n",
       "\n",
       "    canvas_div.keydown('key_press', canvas_keyboard_event);\n",
       "    canvas_div.keyup('key_release', canvas_keyboard_event);\n",
       "    this.canvas_div = canvas_div\n",
       "    this._canvas_extra_style(canvas_div)\n",
       "    this.root.append(canvas_div);\n",
       "\n",
       "    var canvas = $('<canvas/>');\n",
       "    canvas.addClass('mpl-canvas');\n",
       "    canvas.attr('style', \"left: 0; top: 0; z-index: 0; outline: 0\")\n",
       "\n",
       "    this.canvas = canvas[0];\n",
       "    this.context = canvas[0].getContext(\"2d\");\n",
       "\n",
       "    var backingStore = this.context.backingStorePixelRatio ||\n",
       "\tthis.context.webkitBackingStorePixelRatio ||\n",
       "\tthis.context.mozBackingStorePixelRatio ||\n",
       "\tthis.context.msBackingStorePixelRatio ||\n",
       "\tthis.context.oBackingStorePixelRatio ||\n",
       "\tthis.context.backingStorePixelRatio || 1;\n",
       "\n",
       "    mpl.ratio = (window.devicePixelRatio || 1) / backingStore;\n",
       "\n",
       "    var rubberband = $('<canvas/>');\n",
       "    rubberband.attr('style', \"position: absolute; left: 0; top: 0; z-index: 1;\")\n",
       "\n",
       "    var pass_mouse_events = true;\n",
       "\n",
       "    canvas_div.resizable({\n",
       "        start: function(event, ui) {\n",
       "            pass_mouse_events = false;\n",
       "        },\n",
       "        resize: function(event, ui) {\n",
       "            fig.request_resize(ui.size.width, ui.size.height);\n",
       "        },\n",
       "        stop: function(event, ui) {\n",
       "            pass_mouse_events = true;\n",
       "            fig.request_resize(ui.size.width, ui.size.height);\n",
       "        },\n",
       "    });\n",
       "\n",
       "    function mouse_event_fn(event) {\n",
       "        if (pass_mouse_events)\n",
       "            return fig.mouse_event(event, event['data']);\n",
       "    }\n",
       "\n",
       "    rubberband.mousedown('button_press', mouse_event_fn);\n",
       "    rubberband.mouseup('button_release', mouse_event_fn);\n",
       "    // Throttle sequential mouse events to 1 every 20ms.\n",
       "    rubberband.mousemove('motion_notify', mouse_event_fn);\n",
       "\n",
       "    rubberband.mouseenter('figure_enter', mouse_event_fn);\n",
       "    rubberband.mouseleave('figure_leave', mouse_event_fn);\n",
       "\n",
       "    canvas_div.on(\"wheel\", function (event) {\n",
       "        event = event.originalEvent;\n",
       "        event['data'] = 'scroll'\n",
       "        if (event.deltaY < 0) {\n",
       "            event.step = 1;\n",
       "        } else {\n",
       "            event.step = -1;\n",
       "        }\n",
       "        mouse_event_fn(event);\n",
       "    });\n",
       "\n",
       "    canvas_div.append(canvas);\n",
       "    canvas_div.append(rubberband);\n",
       "\n",
       "    this.rubberband = rubberband;\n",
       "    this.rubberband_canvas = rubberband[0];\n",
       "    this.rubberband_context = rubberband[0].getContext(\"2d\");\n",
       "    this.rubberband_context.strokeStyle = \"#000000\";\n",
       "\n",
       "    this._resize_canvas = function(width, height) {\n",
       "        // Keep the size of the canvas, canvas container, and rubber band\n",
       "        // canvas in synch.\n",
       "        canvas_div.css('width', width)\n",
       "        canvas_div.css('height', height)\n",
       "\n",
       "        canvas.attr('width', width * mpl.ratio);\n",
       "        canvas.attr('height', height * mpl.ratio);\n",
       "        canvas.attr('style', 'width: ' + width + 'px; height: ' + height + 'px;');\n",
       "\n",
       "        rubberband.attr('width', width);\n",
       "        rubberband.attr('height', height);\n",
       "    }\n",
       "\n",
       "    // Set the figure to an initial 600x600px, this will subsequently be updated\n",
       "    // upon first draw.\n",
       "    this._resize_canvas(600, 600);\n",
       "\n",
       "    // Disable right mouse context menu.\n",
       "    $(this.rubberband_canvas).bind(\"contextmenu\",function(e){\n",
       "        return false;\n",
       "    });\n",
       "\n",
       "    function set_focus () {\n",
       "        canvas.focus();\n",
       "        canvas_div.focus();\n",
       "    }\n",
       "\n",
       "    window.setTimeout(set_focus, 100);\n",
       "}\n",
       "\n",
       "mpl.figure.prototype._init_toolbar = function() {\n",
       "    var fig = this;\n",
       "\n",
       "    var nav_element = $('<div/>')\n",
       "    nav_element.attr('style', 'width: 100%');\n",
       "    this.root.append(nav_element);\n",
       "\n",
       "    // Define a callback function for later on.\n",
       "    function toolbar_event(event) {\n",
       "        return fig.toolbar_button_onclick(event['data']);\n",
       "    }\n",
       "    function toolbar_mouse_event(event) {\n",
       "        return fig.toolbar_button_onmouseover(event['data']);\n",
       "    }\n",
       "\n",
       "    for(var toolbar_ind in mpl.toolbar_items) {\n",
       "        var name = mpl.toolbar_items[toolbar_ind][0];\n",
       "        var tooltip = mpl.toolbar_items[toolbar_ind][1];\n",
       "        var image = mpl.toolbar_items[toolbar_ind][2];\n",
       "        var method_name = mpl.toolbar_items[toolbar_ind][3];\n",
       "\n",
       "        if (!name) {\n",
       "            // put a spacer in here.\n",
       "            continue;\n",
       "        }\n",
       "        var button = $('<button/>');\n",
       "        button.addClass('ui-button ui-widget ui-state-default ui-corner-all ' +\n",
       "                        'ui-button-icon-only');\n",
       "        button.attr('role', 'button');\n",
       "        button.attr('aria-disabled', 'false');\n",
       "        button.click(method_name, toolbar_event);\n",
       "        button.mouseover(tooltip, toolbar_mouse_event);\n",
       "\n",
       "        var icon_img = $('<span/>');\n",
       "        icon_img.addClass('ui-button-icon-primary ui-icon');\n",
       "        icon_img.addClass(image);\n",
       "        icon_img.addClass('ui-corner-all');\n",
       "\n",
       "        var tooltip_span = $('<span/>');\n",
       "        tooltip_span.addClass('ui-button-text');\n",
       "        tooltip_span.html(tooltip);\n",
       "\n",
       "        button.append(icon_img);\n",
       "        button.append(tooltip_span);\n",
       "\n",
       "        nav_element.append(button);\n",
       "    }\n",
       "\n",
       "    var fmt_picker_span = $('<span/>');\n",
       "\n",
       "    var fmt_picker = $('<select/>');\n",
       "    fmt_picker.addClass('mpl-toolbar-option ui-widget ui-widget-content');\n",
       "    fmt_picker_span.append(fmt_picker);\n",
       "    nav_element.append(fmt_picker_span);\n",
       "    this.format_dropdown = fmt_picker[0];\n",
       "\n",
       "    for (var ind in mpl.extensions) {\n",
       "        var fmt = mpl.extensions[ind];\n",
       "        var option = $(\n",
       "            '<option/>', {selected: fmt === mpl.default_extension}).html(fmt);\n",
       "        fmt_picker.append(option)\n",
       "    }\n",
       "\n",
       "    // Add hover states to the ui-buttons\n",
       "    $( \".ui-button\" ).hover(\n",
       "        function() { $(this).addClass(\"ui-state-hover\");},\n",
       "        function() { $(this).removeClass(\"ui-state-hover\");}\n",
       "    );\n",
       "\n",
       "    var status_bar = $('<span class=\"mpl-message\"/>');\n",
       "    nav_element.append(status_bar);\n",
       "    this.message = status_bar[0];\n",
       "}\n",
       "\n",
       "mpl.figure.prototype.request_resize = function(x_pixels, y_pixels) {\n",
       "    // Request matplotlib to resize the figure. Matplotlib will then trigger a resize in the client,\n",
       "    // which will in turn request a refresh of the image.\n",
       "    this.send_message('resize', {'width': x_pixels, 'height': y_pixels});\n",
       "}\n",
       "\n",
       "mpl.figure.prototype.send_message = function(type, properties) {\n",
       "    properties['type'] = type;\n",
       "    properties['figure_id'] = this.id;\n",
       "    this.ws.send(JSON.stringify(properties));\n",
       "}\n",
       "\n",
       "mpl.figure.prototype.send_draw_message = function() {\n",
       "    if (!this.waiting) {\n",
       "        this.waiting = true;\n",
       "        this.ws.send(JSON.stringify({type: \"draw\", figure_id: this.id}));\n",
       "    }\n",
       "}\n",
       "\n",
       "\n",
       "mpl.figure.prototype.handle_save = function(fig, msg) {\n",
       "    var format_dropdown = fig.format_dropdown;\n",
       "    var format = format_dropdown.options[format_dropdown.selectedIndex].value;\n",
       "    fig.ondownload(fig, format);\n",
       "}\n",
       "\n",
       "\n",
       "mpl.figure.prototype.handle_resize = function(fig, msg) {\n",
       "    var size = msg['size'];\n",
       "    if (size[0] != fig.canvas.width || size[1] != fig.canvas.height) {\n",
       "        fig._resize_canvas(size[0], size[1]);\n",
       "        fig.send_message(\"refresh\", {});\n",
       "    };\n",
       "}\n",
       "\n",
       "mpl.figure.prototype.handle_rubberband = function(fig, msg) {\n",
       "    var x0 = msg['x0'] / mpl.ratio;\n",
       "    var y0 = (fig.canvas.height - msg['y0']) / mpl.ratio;\n",
       "    var x1 = msg['x1'] / mpl.ratio;\n",
       "    var y1 = (fig.canvas.height - msg['y1']) / mpl.ratio;\n",
       "    x0 = Math.floor(x0) + 0.5;\n",
       "    y0 = Math.floor(y0) + 0.5;\n",
       "    x1 = Math.floor(x1) + 0.5;\n",
       "    y1 = Math.floor(y1) + 0.5;\n",
       "    var min_x = Math.min(x0, x1);\n",
       "    var min_y = Math.min(y0, y1);\n",
       "    var width = Math.abs(x1 - x0);\n",
       "    var height = Math.abs(y1 - y0);\n",
       "\n",
       "    fig.rubberband_context.clearRect(\n",
       "        0, 0, fig.canvas.width, fig.canvas.height);\n",
       "\n",
       "    fig.rubberband_context.strokeRect(min_x, min_y, width, height);\n",
       "}\n",
       "\n",
       "mpl.figure.prototype.handle_figure_label = function(fig, msg) {\n",
       "    // Updates the figure title.\n",
       "    fig.header.textContent = msg['label'];\n",
       "}\n",
       "\n",
       "mpl.figure.prototype.handle_cursor = function(fig, msg) {\n",
       "    var cursor = msg['cursor'];\n",
       "    switch(cursor)\n",
       "    {\n",
       "    case 0:\n",
       "        cursor = 'pointer';\n",
       "        break;\n",
       "    case 1:\n",
       "        cursor = 'default';\n",
       "        break;\n",
       "    case 2:\n",
       "        cursor = 'crosshair';\n",
       "        break;\n",
       "    case 3:\n",
       "        cursor = 'move';\n",
       "        break;\n",
       "    }\n",
       "    fig.rubberband_canvas.style.cursor = cursor;\n",
       "}\n",
       "\n",
       "mpl.figure.prototype.handle_message = function(fig, msg) {\n",
       "    fig.message.textContent = msg['message'];\n",
       "}\n",
       "\n",
       "mpl.figure.prototype.handle_draw = function(fig, msg) {\n",
       "    // Request the server to send over a new figure.\n",
       "    fig.send_draw_message();\n",
       "}\n",
       "\n",
       "mpl.figure.prototype.handle_image_mode = function(fig, msg) {\n",
       "    fig.image_mode = msg['mode'];\n",
       "}\n",
       "\n",
       "mpl.figure.prototype.updated_canvas_event = function() {\n",
       "    // Called whenever the canvas gets updated.\n",
       "    this.send_message(\"ack\", {});\n",
       "}\n",
       "\n",
       "// A function to construct a web socket function for onmessage handling.\n",
       "// Called in the figure constructor.\n",
       "mpl.figure.prototype._make_on_message_function = function(fig) {\n",
       "    return function socket_on_message(evt) {\n",
       "        if (evt.data instanceof Blob) {\n",
       "            /* FIXME: We get \"Resource interpreted as Image but\n",
       "             * transferred with MIME type text/plain:\" errors on\n",
       "             * Chrome.  But how to set the MIME type?  It doesn't seem\n",
       "             * to be part of the websocket stream */\n",
       "            evt.data.type = \"image/png\";\n",
       "\n",
       "            /* Free the memory for the previous frames */\n",
       "            if (fig.imageObj.src) {\n",
       "                (window.URL || window.webkitURL).revokeObjectURL(\n",
       "                    fig.imageObj.src);\n",
       "            }\n",
       "\n",
       "            fig.imageObj.src = (window.URL || window.webkitURL).createObjectURL(\n",
       "                evt.data);\n",
       "            fig.updated_canvas_event();\n",
       "            fig.waiting = false;\n",
       "            return;\n",
       "        }\n",
       "        else if (typeof evt.data === 'string' && evt.data.slice(0, 21) == \"data:image/png;base64\") {\n",
       "            fig.imageObj.src = evt.data;\n",
       "            fig.updated_canvas_event();\n",
       "            fig.waiting = false;\n",
       "            return;\n",
       "        }\n",
       "\n",
       "        var msg = JSON.parse(evt.data);\n",
       "        var msg_type = msg['type'];\n",
       "\n",
       "        // Call the  \"handle_{type}\" callback, which takes\n",
       "        // the figure and JSON message as its only arguments.\n",
       "        try {\n",
       "            var callback = fig[\"handle_\" + msg_type];\n",
       "        } catch (e) {\n",
       "            console.log(\"No handler for the '\" + msg_type + \"' message type: \", msg);\n",
       "            return;\n",
       "        }\n",
       "\n",
       "        if (callback) {\n",
       "            try {\n",
       "                // console.log(\"Handling '\" + msg_type + \"' message: \", msg);\n",
       "                callback(fig, msg);\n",
       "            } catch (e) {\n",
       "                console.log(\"Exception inside the 'handler_\" + msg_type + \"' callback:\", e, e.stack, msg);\n",
       "            }\n",
       "        }\n",
       "    };\n",
       "}\n",
       "\n",
       "// from http://stackoverflow.com/questions/1114465/getting-mouse-location-in-canvas\n",
       "mpl.findpos = function(e) {\n",
       "    //this section is from http://www.quirksmode.org/js/events_properties.html\n",
       "    var targ;\n",
       "    if (!e)\n",
       "        e = window.event;\n",
       "    if (e.target)\n",
       "        targ = e.target;\n",
       "    else if (e.srcElement)\n",
       "        targ = e.srcElement;\n",
       "    if (targ.nodeType == 3) // defeat Safari bug\n",
       "        targ = targ.parentNode;\n",
       "\n",
       "    // jQuery normalizes the pageX and pageY\n",
       "    // pageX,Y are the mouse positions relative to the document\n",
       "    // offset() returns the position of the element relative to the document\n",
       "    var x = e.pageX - $(targ).offset().left;\n",
       "    var y = e.pageY - $(targ).offset().top;\n",
       "\n",
       "    return {\"x\": x, \"y\": y};\n",
       "};\n",
       "\n",
       "/*\n",
       " * return a copy of an object with only non-object keys\n",
       " * we need this to avoid circular references\n",
       " * http://stackoverflow.com/a/24161582/3208463\n",
       " */\n",
       "function simpleKeys (original) {\n",
       "  return Object.keys(original).reduce(function (obj, key) {\n",
       "    if (typeof original[key] !== 'object')\n",
       "        obj[key] = original[key]\n",
       "    return obj;\n",
       "  }, {});\n",
       "}\n",
       "\n",
       "mpl.figure.prototype.mouse_event = function(event, name) {\n",
       "    var canvas_pos = mpl.findpos(event)\n",
       "\n",
       "    if (name === 'button_press')\n",
       "    {\n",
       "        this.canvas.focus();\n",
       "        this.canvas_div.focus();\n",
       "    }\n",
       "\n",
       "    var x = canvas_pos.x * mpl.ratio;\n",
       "    var y = canvas_pos.y * mpl.ratio;\n",
       "\n",
       "    this.send_message(name, {x: x, y: y, button: event.button,\n",
       "                             step: event.step,\n",
       "                             guiEvent: simpleKeys(event)});\n",
       "\n",
       "    /* This prevents the web browser from automatically changing to\n",
       "     * the text insertion cursor when the button is pressed.  We want\n",
       "     * to control all of the cursor setting manually through the\n",
       "     * 'cursor' event from matplotlib */\n",
       "    event.preventDefault();\n",
       "    return false;\n",
       "}\n",
       "\n",
       "mpl.figure.prototype._key_event_extra = function(event, name) {\n",
       "    // Handle any extra behaviour associated with a key event\n",
       "}\n",
       "\n",
       "mpl.figure.prototype.key_event = function(event, name) {\n",
       "\n",
       "    // Prevent repeat events\n",
       "    if (name == 'key_press')\n",
       "    {\n",
       "        if (event.which === this._key)\n",
       "            return;\n",
       "        else\n",
       "            this._key = event.which;\n",
       "    }\n",
       "    if (name == 'key_release')\n",
       "        this._key = null;\n",
       "\n",
       "    var value = '';\n",
       "    if (event.ctrlKey && event.which != 17)\n",
       "        value += \"ctrl+\";\n",
       "    if (event.altKey && event.which != 18)\n",
       "        value += \"alt+\";\n",
       "    if (event.shiftKey && event.which != 16)\n",
       "        value += \"shift+\";\n",
       "\n",
       "    value += 'k';\n",
       "    value += event.which.toString();\n",
       "\n",
       "    this._key_event_extra(event, name);\n",
       "\n",
       "    this.send_message(name, {key: value,\n",
       "                             guiEvent: simpleKeys(event)});\n",
       "    return false;\n",
       "}\n",
       "\n",
       "mpl.figure.prototype.toolbar_button_onclick = function(name) {\n",
       "    if (name == 'download') {\n",
       "        this.handle_save(this, null);\n",
       "    } else {\n",
       "        this.send_message(\"toolbar_button\", {name: name});\n",
       "    }\n",
       "};\n",
       "\n",
       "mpl.figure.prototype.toolbar_button_onmouseover = function(tooltip) {\n",
       "    this.message.textContent = tooltip;\n",
       "};\n",
       "mpl.toolbar_items = [[\"Home\", \"Reset original view\", \"fa fa-home icon-home\", \"home\"], [\"Back\", \"Back to  previous view\", \"fa fa-arrow-left icon-arrow-left\", \"back\"], [\"Forward\", \"Forward to next view\", \"fa fa-arrow-right icon-arrow-right\", \"forward\"], [\"\", \"\", \"\", \"\"], [\"Pan\", \"Pan axes with left mouse, zoom with right\", \"fa fa-arrows icon-move\", \"pan\"], [\"Zoom\", \"Zoom to rectangle\", \"fa fa-square-o icon-check-empty\", \"zoom\"], [\"\", \"\", \"\", \"\"], [\"Download\", \"Download plot\", \"fa fa-floppy-o icon-save\", \"download\"]];\n",
       "\n",
       "mpl.extensions = [\"eps\", \"jpeg\", \"pdf\", \"png\", \"ps\", \"raw\", \"svg\", \"tif\"];\n",
       "\n",
       "mpl.default_extension = \"png\";var comm_websocket_adapter = function(comm) {\n",
       "    // Create a \"websocket\"-like object which calls the given IPython comm\n",
       "    // object with the appropriate methods. Currently this is a non binary\n",
       "    // socket, so there is still some room for performance tuning.\n",
       "    var ws = {};\n",
       "\n",
       "    ws.close = function() {\n",
       "        comm.close()\n",
       "    };\n",
       "    ws.send = function(m) {\n",
       "        //console.log('sending', m);\n",
       "        comm.send(m);\n",
       "    };\n",
       "    // Register the callback with on_msg.\n",
       "    comm.on_msg(function(msg) {\n",
       "        //console.log('receiving', msg['content']['data'], msg);\n",
       "        // Pass the mpl event to the overridden (by mpl) onmessage function.\n",
       "        ws.onmessage(msg['content']['data'])\n",
       "    });\n",
       "    return ws;\n",
       "}\n",
       "\n",
       "mpl.mpl_figure_comm = function(comm, msg) {\n",
       "    // This is the function which gets called when the mpl process\n",
       "    // starts-up an IPython Comm through the \"matplotlib\" channel.\n",
       "\n",
       "    var id = msg.content.data.id;\n",
       "    // Get hold of the div created by the display call when the Comm\n",
       "    // socket was opened in Python.\n",
       "    var element = $(\"#\" + id);\n",
       "    var ws_proxy = comm_websocket_adapter(comm)\n",
       "\n",
       "    function ondownload(figure, format) {\n",
       "        window.open(figure.imageObj.src);\n",
       "    }\n",
       "\n",
       "    var fig = new mpl.figure(id, ws_proxy,\n",
       "                           ondownload,\n",
       "                           element.get(0));\n",
       "\n",
       "    // Call onopen now - mpl needs it, as it is assuming we've passed it a real\n",
       "    // web socket which is closed, not our websocket->open comm proxy.\n",
       "    ws_proxy.onopen();\n",
       "\n",
       "    fig.parent_element = element.get(0);\n",
       "    fig.cell_info = mpl.find_output_cell(\"<div id='\" + id + \"'></div>\");\n",
       "    if (!fig.cell_info) {\n",
       "        console.error(\"Failed to find cell for figure\", id, fig);\n",
       "        return;\n",
       "    }\n",
       "\n",
       "    var output_index = fig.cell_info[2]\n",
       "    var cell = fig.cell_info[0];\n",
       "\n",
       "};\n",
       "\n",
       "mpl.figure.prototype.handle_close = function(fig, msg) {\n",
       "    var width = fig.canvas.width/mpl.ratio\n",
       "    fig.root.unbind('remove')\n",
       "\n",
       "    // Update the output cell to use the data from the current canvas.\n",
       "    fig.push_to_output();\n",
       "    var dataURL = fig.canvas.toDataURL();\n",
       "    // Re-enable the keyboard manager in IPython - without this line, in FF,\n",
       "    // the notebook keyboard shortcuts fail.\n",
       "    IPython.keyboard_manager.enable()\n",
       "    $(fig.parent_element).html('<img src=\"' + dataURL + '\" width=\"' + width + '\">');\n",
       "    fig.close_ws(fig, msg);\n",
       "}\n",
       "\n",
       "mpl.figure.prototype.close_ws = function(fig, msg){\n",
       "    fig.send_message('closing', msg);\n",
       "    // fig.ws.close()\n",
       "}\n",
       "\n",
       "mpl.figure.prototype.push_to_output = function(remove_interactive) {\n",
       "    // Turn the data on the canvas into data in the output cell.\n",
       "    var width = this.canvas.width/mpl.ratio\n",
       "    var dataURL = this.canvas.toDataURL();\n",
       "    this.cell_info[1]['text/html'] = '<img src=\"' + dataURL + '\" width=\"' + width + '\">';\n",
       "}\n",
       "\n",
       "mpl.figure.prototype.updated_canvas_event = function() {\n",
       "    // Tell IPython that the notebook contents must change.\n",
       "    IPython.notebook.set_dirty(true);\n",
       "    this.send_message(\"ack\", {});\n",
       "    var fig = this;\n",
       "    // Wait a second, then push the new image to the DOM so\n",
       "    // that it is saved nicely (might be nice to debounce this).\n",
       "    setTimeout(function () { fig.push_to_output() }, 1000);\n",
       "}\n",
       "\n",
       "mpl.figure.prototype._init_toolbar = function() {\n",
       "    var fig = this;\n",
       "\n",
       "    var nav_element = $('<div/>')\n",
       "    nav_element.attr('style', 'width: 100%');\n",
       "    this.root.append(nav_element);\n",
       "\n",
       "    // Define a callback function for later on.\n",
       "    function toolbar_event(event) {\n",
       "        return fig.toolbar_button_onclick(event['data']);\n",
       "    }\n",
       "    function toolbar_mouse_event(event) {\n",
       "        return fig.toolbar_button_onmouseover(event['data']);\n",
       "    }\n",
       "\n",
       "    for(var toolbar_ind in mpl.toolbar_items){\n",
       "        var name = mpl.toolbar_items[toolbar_ind][0];\n",
       "        var tooltip = mpl.toolbar_items[toolbar_ind][1];\n",
       "        var image = mpl.toolbar_items[toolbar_ind][2];\n",
       "        var method_name = mpl.toolbar_items[toolbar_ind][3];\n",
       "\n",
       "        if (!name) { continue; };\n",
       "\n",
       "        var button = $('<button class=\"btn btn-default\" href=\"#\" title=\"' + name + '\"><i class=\"fa ' + image + ' fa-lg\"></i></button>');\n",
       "        button.click(method_name, toolbar_event);\n",
       "        button.mouseover(tooltip, toolbar_mouse_event);\n",
       "        nav_element.append(button);\n",
       "    }\n",
       "\n",
       "    // Add the status bar.\n",
       "    var status_bar = $('<span class=\"mpl-message\" style=\"text-align:right; float: right;\"/>');\n",
       "    nav_element.append(status_bar);\n",
       "    this.message = status_bar[0];\n",
       "\n",
       "    // Add the close button to the window.\n",
       "    var buttongrp = $('<div class=\"btn-group inline pull-right\"></div>');\n",
       "    var button = $('<button class=\"btn btn-mini btn-primary\" href=\"#\" title=\"Stop Interaction\"><i class=\"fa fa-power-off icon-remove icon-large\"></i></button>');\n",
       "    button.click(function (evt) { fig.handle_close(fig, {}); } );\n",
       "    button.mouseover('Stop Interaction', toolbar_mouse_event);\n",
       "    buttongrp.append(button);\n",
       "    var titlebar = this.root.find($('.ui-dialog-titlebar'));\n",
       "    titlebar.prepend(buttongrp);\n",
       "}\n",
       "\n",
       "mpl.figure.prototype._root_extra_style = function(el){\n",
       "    var fig = this\n",
       "    el.on(\"remove\", function(){\n",
       "\tfig.close_ws(fig, {});\n",
       "    });\n",
       "}\n",
       "\n",
       "mpl.figure.prototype._canvas_extra_style = function(el){\n",
       "    // this is important to make the div 'focusable\n",
       "    el.attr('tabindex', 0)\n",
       "    // reach out to IPython and tell the keyboard manager to turn it's self\n",
       "    // off when our div gets focus\n",
       "\n",
       "    // location in version 3\n",
       "    if (IPython.notebook.keyboard_manager) {\n",
       "        IPython.notebook.keyboard_manager.register_events(el);\n",
       "    }\n",
       "    else {\n",
       "        // location in version 2\n",
       "        IPython.keyboard_manager.register_events(el);\n",
       "    }\n",
       "\n",
       "}\n",
       "\n",
       "mpl.figure.prototype._key_event_extra = function(event, name) {\n",
       "    var manager = IPython.notebook.keyboard_manager;\n",
       "    if (!manager)\n",
       "        manager = IPython.keyboard_manager;\n",
       "\n",
       "    // Check for shift+enter\n",
       "    if (event.shiftKey && event.which == 13) {\n",
       "        this.canvas_div.blur();\n",
       "        event.shiftKey = false;\n",
       "        // Send a \"J\" for go to next cell\n",
       "        event.which = 74;\n",
       "        event.keyCode = 74;\n",
       "        manager.command_mode();\n",
       "        manager.handle_keydown(event);\n",
       "    }\n",
       "}\n",
       "\n",
       "mpl.figure.prototype.handle_save = function(fig, msg) {\n",
       "    fig.ondownload(fig, null);\n",
       "}\n",
       "\n",
       "\n",
       "mpl.find_output_cell = function(html_output) {\n",
       "    // Return the cell and output element which can be found *uniquely* in the notebook.\n",
       "    // Note - this is a bit hacky, but it is done because the \"notebook_saving.Notebook\"\n",
       "    // IPython event is triggered only after the cells have been serialised, which for\n",
       "    // our purposes (turning an active figure into a static one), is too late.\n",
       "    var cells = IPython.notebook.get_cells();\n",
       "    var ncells = cells.length;\n",
       "    for (var i=0; i<ncells; i++) {\n",
       "        var cell = cells[i];\n",
       "        if (cell.cell_type === 'code'){\n",
       "            for (var j=0; j<cell.output_area.outputs.length; j++) {\n",
       "                var data = cell.output_area.outputs[j];\n",
       "                if (data.data) {\n",
       "                    // IPython >= 3 moved mimebundle to data attribute of output\n",
       "                    data = data.data;\n",
       "                }\n",
       "                if (data['text/html'] == html_output) {\n",
       "                    return [cell, data, j];\n",
       "                }\n",
       "            }\n",
       "        }\n",
       "    }\n",
       "}\n",
       "\n",
       "// Register the function which deals with the matplotlib target/channel.\n",
       "// The kernel may be null if the page has been refreshed.\n",
       "if (IPython.notebook.kernel != null) {\n",
       "    IPython.notebook.kernel.comm_manager.register_target('matplotlib', mpl.mpl_figure_comm);\n",
       "}\n"
      ],
      "text/plain": [
       "<IPython.core.display.Javascript object>"
      ]
     },
     "metadata": {},
     "output_type": "display_data"
    },
    {
     "data": {
      "text/html": [
       "<img src=\"data:image/png;base64,iVBORw0KGgoAAAANSUhEUgAABHEAAANUCAYAAAA0LrFKAAAgAElEQVR4nOzde3RU9b3//23oiSCIF06taBGIDYSA/upR1FoQ0fpVkaJiC6IgPZ5T5Xg5HmqpEAlRSfAKUbxUApQqVVRABbnFgIAgIqhcTZBbCHdIIAkQLrnM6/dHmhmnk8BOSPKeyX4+1tpr2Zk9O++wut6f/X5lz96OAAAAAAA15gBAfbFueAAAAAAQyaxnOgAeYt3wAAAAACCSWc90ADzEuuEBAAAAQCSznukAeIh1wwMAAACASGY90wHwEOuGBwAAAACRzHqmA+Ah1g0PAAAAACKZ9UwHwEOsGx4AAAAARDLrmQ6Ah1g3PAAAAACIZNYzHQAPsW54AAAAABDJrGc6AB5i3fAAAAAAIJJZz3QAPMS64QEAAABAJLOe6QB4iHXDAwAAAIBIZj3TAfAQ64YHAAAAAJHMeqYD4CHWDQ8AAAAAIpn1TAfAQ6wbHgAAAABEMuuZDoCHWDc8AAAAAIhk1jMdAA+xbngAAAAAEMmsZzoAHmLd8AAAAAAgklnPdAA8xLrhAQAAAEAks57pAHiIdcMDAAAAgEhmPdMB8BDrhgcAAAAAkcx6pgPgIdYNDwAAAAAimfVMB8BDrBseAAAAAEQy65kOgIdYNzwAAAAAiGTWMx0AD7FueAAAAAAQyaxnOgAeYt3wAAAAACCSWc90ADzEuuEBAAAAQCSznukAeIh1wwMAAACASGY90wHwEOuGBwAAAACRzHqmA+Ah1g0PAAAAACKZ9UwHwEOsGx4AAAAARDLrmQ6Ah1g3PAAAAACIZNYzHQAPsW54AAAAABDJrGc6AB5i3fAAAAAAIJJZz3QAPMS64QEAAABAJLOe6QB4iHXDAwAAAIBIZj3TAfAQ64YHAAAAAJHMeqYD4CHWDQ8AAAAAIpn1TAfAQ6wbHgAAAABEMuuZDoCHWDc8AAAAAIhk1jMdAA+xbngAAAAAEMmsZzoAHmLd8AAAAAAgklnPdAA8xLrhAQAAAEAks57pAHiIdcMDAAAAgEhmPdMB8BDrhgcAAAAAkcx6pgPgIdYNDwAAAAAimfVMB8BDrBseAAAAAEQy65kOgIdYNzwAAAAAiGTWMx0AD7FueAAAAAAQyaxnOgAeYt3wAAAAACCSWc90ADzEuuEBAAAAQCSznukAeIh1wwMAAACASGY90wHwEOuGBwAAAACRzHqmA+Ah1g0PAAAAACKZ9UwHwEOsGx4AAAAARDLrmQ6Ah1g3PAAAAACIZNYzHQAPsW54AAAAABDJrGc6AB5i3fAAAAAAIJJZz3QAPMS64QEAAABAJLOe6QB4iHXDAwAAAIBIZj3TAfAQ64YHAAAAAJHMeqYD4CHWDQ8AAAAAIpn1TAfAQ6wbHgAAAABEMuuZDoCHWDc8AAAAAIhk1jMdAA+xbngAAAAAEMmsZzoAHmLd8AAAAAAgklnPdAA8xLrhAQAAAEAks57pAHiIdcMDAAAAgEhmPdMB8BDrhgcAAAAAkcx6pgPgIdYNDwAAAAAimfVMB8BDrBseAAAAAEQy65kOgIdYNzwAAAAAiGTWMx0AD7FueAAAAAAQyaxnOgAeYt3wAAAAACCSWc90ADzEuuHBnW3btmns2LGaNWuWFi9ezMbGxsbGxsbGxlbtbdasWRo7dqy2bdtmfXrboFjPdAA8xLrhwZ2xY8fKcRw2NjY2NjY2Nja2097Gjh1rfXrboDgAUF+sGx7cmTVrln/Btf4LDhsbGxsbGxsbW2RuFX8YnDVrlvXpbYNiPdMB8BDrhgd3Fi9eLMdxtHjxYutSAAAAEKE4p6wb1jMdAA+xbnhwhwUXAAAAp4tzyrphPdMB8BDrhgd3WHABAABwujinrBvWMx0AD7FueHCHBRcAAACni3PKumE90wHwEOuGB3dYcAEAAHC6OKesG9YzHQAPsW54cIcFFwAAAKeLc8q6YT3TAfAQ64YHd1hwAQAIbz6fT/n5+crJydHGjRv1ww8/sLHV+bZx40bl5OQoPz9fPp/vlP8/5ZyybljPdAA8xLrhwR0WXAAAwpfP59OOHTuUmZmpzMxMZWVlmQ/3bN7YsrKy/P+/27FjxymDHM4p64b1TAfAQ6wbHtxhwQUAIHzl5+crMzNTmzdvVlFRkasrIoDa4PP5VFRUpM2bNyszM1P5+fkn3Z9zyrphPdMB8BDrhgd3WHABAAhfOTk5yszMVFFRkXUp8KiioiJlZmYqJyfnpPtxTlk3rGc6AB5i3fDgDgsuAADha+PGjcrKyuIKHJjx+XzKysrSxo0bT7of55R1w3qmA+Ah1g0P7rDgAgAQviruTwJYcvP/Q84p64b1TAfAQ6wbHtxhwQUAIHwR4iAcEOLYsZ7pAHiIdcODOyy4AACEL0IchANCHDvWMx0AD7FueOHiueeeU58+ffSLX/xCZ5xxhmr6T1NUVKQnn3xSrVu3VnR0tFq3bq0nn3zytG90yIILAED48mKIM2nSJDmOo4ULF1qXgn8ixLFjO9EB8BTrhhcuHMfRueeeq+7du+vCCy+sUYhTWlqqbt26yXEcDRgwQOPHj9ejjz6qRo0a6YYbblBpaWmN62PBBQAgfBHi1K78/HwlJSWZBUQlJSV6/vnn1a5dO0VHR6tly5YaNGiQ8vLyqnWcbdu2qV+/fvr3f/93NW7cWJdffrnS0tIq3XfcuHHq37+/4uPj1ahRIzmOo+zs7Gr9PEIcO4bjHACvsW544WLz5s3+/64IYqpr4sSJchxHjz32WNDrL7/8shzH0cSJE2tcHwsuAADhixCndmVnZ8txHCUlJdX6sd3o37+/HMdRz549lZaWpmHDhqlJkyaKj4/XoUOHXB1jx44duvDCC9WkSRMNGzZMaWlpuv322+U4joYPHx6yf+vWrdW0aVP9+te/1qWXXkqIE2GsZjkAHmTd8MJRTUOcis9t27Yt6PWjR4+qSZMm6tatW41rYsEFACB8EeLULssQZ8GCBXIcR7169Qp6fdq0aXIcR4mJia6OM2DAADmOo+nTpwe9/tvf/laNGjUKeRT41q1bVVZWJkkaOHAgIU6EsZrlAHiQdcMLRzUJcXw+n8466yxddNFFlb7/q1/9Sk2bNpXP56tRTRYL7o7M5XrrtRR9/W6SThw/vXv6AADQkHk5xJk/f75SUlIUExOj6OhoxcTEKCUlpdKvkefm5mrw4MH+fVu0aKHevXtr/fr1IcetbKuQnp6ue+65RzExMWrcuLHOPvtsde3aVTNnzgz5mcXFxcrKylJOTo6r36siQFm0aFHIe23atFHr1q1PeYyioiI1adJEbdu2DXlv4cKFpwyoCHEij8kgB8CbrBteOKpJiJOXlyfHcXT11VdX+v7vf/97OY6jAwcOnPJY27Zt0+LFi4O2sWPH1vuCO+P2eGW2j1Nm+zgtWsJCDwBAVbwc4lx11VVq27atnn32WaWmpqpLly5yHEcDBw4M2n/37t1q06aNmjdvrscff1zjxo1TcnKyLrnkEjVt2lSrVq2SJG3ZskWpqalyHEd33XWXJk+e7N8q9OvXT927d9eIESOUlpamlJQUtWvXTo7j6P333w/6uRVX9bi9IjouLk5RUVE6fvx4yHv9+vWT4zjat2/fSY+xfPlyOY6je++9N+S948eP64wzztBtt91W5ecJcSKPySAHwJusG144qkmIs337djmOo65du1b6fsUltTt27DjlsZKSkqr8C1R9LbiHj5doas9O/hCnzxOJev3zTSorq9mVRAAANGReDnEuuuiioD9SlZaWqkePHiFXs9x9991q3rx5yL/TwYMHdfHFF6t79+7+1071daojR46EvFZUVKTY2FjFx8cHvV7dEKdZs2a64IILKn1vyJAhchxH33777UmPUfHVq7/85S+Vvv/Tn/5Ul112WZWfJ8SJPPU+xAHwLuuGF464EqfczD6d/SHOo396UK2fnKX+E5Zr/6HQv0wBAOBlpxqee45domtS5ofl1nPskhr9zhUhTnJycsh7S5culeM4evTRRyVJhYWFatSokfr27avc3NyQ7YEHHlCjRo109OhRSdW7J86RI0eUl5en3NxcPfTQQ3Icx/XNhysTFRWlVq1aVfpeYmKiHMfRkiUn/zd75513Tnr/nFatWunSSy+t8vOEOJHHZpID4EnWDS8ccU+ccrMHdPWHOCP/dLdaPzlLrZ+cpauSM7R0U2691QEAQLg71fB8Tcp8/zoabts1KfNr9DtXhDgff/xxyHv5+flyHEe33nqrJGnFihVVXmX842379u2STh3iZGdnq3///jr//PMrPY7b+99UhitxUBP1OL4B8DrrhheOavp0quuvv75BPZ1qzn//v8A9cV66Q1clZ/hP+NoMnaWX0zeopLSs3uoBACBceflKHDchTsU9Ynr37q2MjIwqt2PHjkk6eYhz+PBhtWrVSs2bN1diYqKmTp2q9PR0ZWRk+O9ZU93w48e4Jw5qwmaSA+BJ1g0vHJ0qxCkqKlJWVpZ2794d9Pr48ePlOI4ee+yxoNdHjx4tx3E0YcKEGtdkseDOe/Quf4izIqWrcg8fV/8Jy4P+eve7v36pXflH660mAADCkZfviePm61R5eXmKioryhzqnsm3btipDnBkzZshxHE2cODHkvT59+px2iHP//fdXec5VnadTNW7cuNKnUy1atIinUzVAJoMcAG+ybnjh4p133tHIkSM1cuRItWnTRo7j+P/3yJEjg/ateDTkvz51obS0VF27dpXjOLr//vs1YcIEPfbYY2rUqJG6du1a6aM23bJYcNP/fJ8/xPlyWPlNAsvKfHpj4SbFDJvtD3Iufzpd6ev31FtdAACEGy+HOCe7sfHChQv9r/fq1UtnnHGG5s2bV+nx9u7d6//vinsNVoRAPzZr1qxK/zi2Zs0aRUdHh4Qf1X3EeEZGhhzHUa9evYJenz59uhzH0fDhw4Nez83NVVZWlgoKCoJev+++++Q4jqZPnx70+m9/+1s1atRIGzZsqLIGQpzIYzHHAfAo64YXLiquvqlq+7GqQhyp/BLfIUOG6JJLLtG//du/6ZJLLtGQIUN0+PDh06rPYsGdP+w//SHOwsd/LhUf87/3zbYDuu65BUFX5STNWK9jxTUPqgAAiFReDnEqHjE+cuRIpaam+v+g1b9//6D9d+3apZiYGEVFRalfv35KTU3Vm2++qaFDh6pz58664YYbgvaPjY1VixYtNGbMGE2ZMkVTpkyRVP5VrZYtW+qcc85RQkKC0tLSNHjwYDVr1kxXXnllSPhR3adTSYGvTfXs2VPjx49XQkKCmjRpori4OBUWFgbtW/FU0UmTJgW9npOTo5/97Gc666yzlJCQoPHjx6tnz55yHEfDhg0L+ZkzZ870//HwiiuukOM4euKJJ/yv/WtIVBlCHDv1PcMB8DDrhgd3LBbcz5Me8oc48//359L+4L8YFRQVa9Dkb4KCnNte+UKb959eYAUAQKTxcogzf/58JScnKyYmRtHR0f5Ap6SkJOQzBQUFGj58uDp27KjGjRurWbNmio2N1YABA5Senh6078qVK9W1a1c1bdo05I9q69atU48ePXTeeefprLPO0rXXXqsZM2b4A5XTDXGKi4s1atQoxcbGKjo6WhdeeKEefPBB7d+/P2TfqkIcSdq6davuuecetWjRQmeeeaYuu+wyvfXWW5U+6KLi6puqNjdX5RDi2DEY4wB4lXXDgzsWC+6ilP/1hzhzH2slbZgTso/P59Pkr7Yp9qk5/iCnQ+Jcfbhye42fxAUAQKTxYoiD8EOIY8d6pgPgIdYND+5YLLhLXvyzP8T59JHW0rLXq9w3a0+hbhq9KOiqnMfe+06Fx4rrrV4AAKwQ4iAcEOLYsZ7pAHiIdcODOxYL7levDPeHOB//Txtp1p9Oun/RiRI9OW1NUJDT5YUF+i7nYD1VDACADUIchANCHDvWMx0AD7FueHDHYsFd+ddkf4gzfVBb6Z07XX3u0zW71Clpnj/IuXTYbL2xcJPKyvh6FQCgYSLEQTggxLFjPdMB8BDrhgd3LBbcVRNf9oc4HzzYVkq9zPVntx8o0l1vLA26Kqdf2lfaW3js1B8GACDCEOIgHBDi2LGe6QB4iHXDgzsWC+66ya/7Q5wp/x0jPX2uVHLC9edLSsv0cvoGtRkaCHJ++Uy6Pvt+bx1WDQBA/SPEQTggxLFjPdMB8BDrhgd3LBbcrA8n+EOcd//rUimpuZS7qdrH+XJzrq5OyQi6Kmf4x+t0rLi0DqoGAKD+EeIgHBDi2LGe6QB4iHXDgzsWC+6WT97zhziT//MX5SHOD+k1OtbBIyf0x7dXBgU5vxm9SFl7Cmu5agAA6h8hDsIBIY4d65kOgIdYNzy4Y7Hgbp/7sT/EeWfgP0Ocr/5a4+P5fD69uzxH7YfP8Qc5sU/N0aSlW+XzcdNjAEDkIsRBOCDEsWM90wHwEOuGB3csFty9n6f7Q5y/D4gtD3FmDznt427ce0i3pC4OuirnD3/7WvsPHa+FqgEAqH+EOAgHhDh2rGc6AB5i3fDgjsWCe3DZEn+IM+m+duUhzuS7a+XYx4pL9czM74OCnCtHfqbPs/bVyvEBAKhPhDgIB4Q4dqxnOgAeYt3w4I7Fgnvk228CIU6/9uUhzqtX1OrPWLhhn64cGXzT4xGfcNNjAEBkIcRBOCDEsWM90wHwEOuGB3csFtyja9f9KMSJLw9xnjlfKi2p1Z+Te/i4Hpi0IijIuXnMImXu5qbHAIDIQIiDcECIY8d6pgPgIdYND+5YLLjHNmwIhDh9O5WHOEnNpQNbav1n+Xw+vfPVNrV76kc3PU6Yo/FfbFFZGTc9BgCEN0IchANCHDvWMx0AD7FueHDHYsE9vmVLIMT5/Y9CnE0ZdfYzN+49pFtf+SLoqpx7x3+lPQXH6uxnAgBwurwY4kyaNEmO42jhwoXWpeCfCHHsGI90ALzEuuHBHYsF98T27YGnU/X+UYjzdVqd/tzjJaVKnhV80+PLn07X7LW76/TnAgBQU4Q4tSs/P19JSUlmAVFJSYmef/55tWvXTtHR0WrZsqUGDRqkvLw818f47LPPNGjQIF1zzTVq0qSJHMfRpEmT6q5oEeJYsp3oAHiKdcODOxYLbvGePf4Q5+07OwZCnLlD6+XnL92Uq2tS5geFOU98uFqHjhXXy88HAMAtQpzalZ2dLcdxlJSUVOvHdqN///5yHEc9e/ZUWlqahg0bpiZNmig+Pl6HDh1ydYyBAwfqJz/5iS6//HJdffXVhDgNnOU8B8BjrBse3LFYcEtyc/0hzjs94wMhzrt96q2G/KITevgf3wYFOV1eWKCV2QfqrQYAAE6FEKd2WYY4CxYskOM46tWrV9Dr06ZNk+M4SkxMdHWcnTt36tix8q+DV/xbEeI0XIbjHACvsW54cMdiwS0tKPCHOO/e1kElIy8oD3Feu6reapDKb3o87Zsd6jhinj/IaTt0ll6cl6UTJWX1WgsAAJXxcogzf/58paSkKCYmRtHR0YqJiVFKSopKS0tDPpObm6vBgwf7923RooV69+6t9evXhxy3sq1Cenq67rnnHsXExKhx48Y6++yz1bVrV82cOTPkZxYXFysrK0s5OTmufq+BAwfKcRwtWrQo5L02bdqodevWro7zY4Q4DZ/RKAfAi6wbHtyxWHDLior8Ic77t3RQ0etXl4c4z/67VBZ6YlbXth8o0t1vfhl0Vc7tY7/Qpn3uLmsGAKCueDnEueqqq9S2bVs9++yzSk1NVZcuXeQ4jgYOHBi0/+7du9WmTRs1b95cjz/+uMaNG6fk5GRdcsklatq0qVatWiVJ2rJli1JTU+U4ju666y5NnjzZv1Xo16+funfvrhEjRigtLU0pKSlq166dHMfR+++/H/RzK67q6datm6vfKy4uTlFRUTp+/HjIe/369ZPjONq3b1+N/q0IcRous2EOgPdYNzy4Y7Hg+oqL/SHOtN/E6cC7vw98pSrf3V+zaltpmU+vf75Jlw6b7Q9y2j01R39bupVHkQMAzJxyeH7reunluPDc3rq+Rr9zRTBx0UUX6cCBwNecS0tL1aNHj5CrWe6++241b9485N/p4MGDuvjii9W9e3f/a6f6OtWRI0dCXisqKlJsbKzi4+ODXq9uiNOsWTNdcMEFlb43ZMgQOY6jb7/91tWxKhDiNHx20xwAz7FueHDHJMTx+fwhzifd47R7zuBAiLP583qrozLrdhboptGLgq7K6T9hOY8iBwCYOOXw/HJcYA0Nt+3luBr9zhXBRHJycsh7S5culeM4evTRRyVJhYWFatSokfr27avc3NyQ7YEHHlCjRo109OhRSdW7J86RI0eUl5en3NxcPfTQQ3Icx/XNhysTFRWlVq1aVfpeYmKiHMfRkiVLqnVMQpyGz26aA+A51g0P7lgtuOviOyizfZxmXR+nrUtfCpzwrZhQr3VU5lhxqZJmrA8Kci5LmqdPVu20Lg0A4DFevhLn448/DnkvPz9fjuPo1ltvlSStWLGiyvvc/Hjbvn27pFOHONnZ2erfv7/OP//8So/j9v43leFKHNREvQ5wALzNuuHBHasFd+3lnZTZPk7zfh2nDWsmB0KceQn1WsfJfLFxv65OyQgKcx5591vlF52wLg0A4BFevieOmxBn+fLlchxHvXv3VkZGRpVbxdOcThbiHD58WK1atVLz5s2VmJioqVOnKj09XRkZGf571mRnZ9f49+KeOKgJs2EOgPdYNzy4Y7Xgrv6Py5XZPk7zfxWn1VvSAyHOe/3qtY5TyS86oUff+y4oyLk6JUOLfthvXRoAwAO8HOK4+TpVXl6eoqKi/KHOqWzbtq3KEGfGjBlyHEcTJ04Mea9Pnz6nHeLcf//9VZ5z8XQqVMVsmAPgPdYND+5YLbirrr5Cme3jtOjqOH2966vyJ1MlNZdev6Ze63Brxupduvzp9KAwZ/jH61R0osS6NABAA+blEOdkNzZeuHCh//VevXrpjDPO0Lx58yo93t69e/3/nZeXFxQC/disWbPkOI4mTAj+aveaNWsUHR0dEuJU9xHjGRkZchxHvXr1Cnp9+vTpchxHw4cPD3o9NzdXWVlZKigoqPKYhDgNn9UsB8CDrBse3LFacL+77iplto/T0ivjtHjHYum1q8pDnJEXSGVl9VqLW3sKjqn/hOVBQU63Fz/XN9sOWpcGAGigvBziVDxifOTIkUpNTVXXrl3lOI769+8ftP+uXbsUExOjqKgo9evXT6mpqXrzzTc1dOhQde7cWTfccEPQ/rGxsWrRooXGjBmjKVOmaMqUKZLKv6rVsmVLnXPOOUpISFBaWpoGDx6sZs2a6corrwwJcar7dCop8LWpnj17avz48UpISFCTJk0UFxenwsLCoH2TkpIqDWjWrFmjkSNHauTIkerdu7f/62QVr61Zs8Z1PW4R4tgxG+YAeI91w4M7ZiHO9dcqs32clv8yThnbMqR3+wS+UlUQvjcQ9vl8emdZttoPn+MPctoOnaUX5mbpeEmpdXkAgAbGyyHO/PnzlZycrJiYGEVHR/sDnZKS0KtgCwoKNHz4cHXs2FGNGzdWs2bNFBsbqwEDBig9PT1o35UrV6pr165q2rSp/4bFFdatW6cePXrovPPO01lnnaVrr71WM2bM8AcqpxviFBcXa9SoUYqNjVV0dLQuvPBCPfjgg9q/P/Rr2lWFOBX/PlVtdXFVDiGOHYMxDoBXWTc8uGMW4tz4a2W2j9M3l8fp0y2fSnOHBUKcrV/Uay01sWX/Yd35xtKgq3JuSV2szN2Fp/4wAAAueTHEQfghxLFjPdMB8BDrhgd3zEKcW25QZvs4re4Yp2k/TJO+TguEON/8vV5rqamS0jK9/vkm/SJhtj/I+UXCbL3++SaVlIbnV8IAAJGFEAfhgBDHjvVMB8BDrBse3DELcXr+Rpnt47QuLk7/yPyHtGl+IMT5LLFeazld3+8q1C2pi4OuyrnzjaXavP+wdWkAgAhHiINwQIhjx3qmA+Ah1g0P7pg9nequ25TZPk6Z7eP0t9UTpANbAyHO+/fVay214XhJqV6Ym6W2QwNBTrun5mjCkq0qK/NZlwcAiFCEOAgHhDh2rGc6AB5i3fDgjtWCu7pPL3+I89aKsVJpifTM+eUhzpvX1WsttembbQd1w0sLg67K+f1by5STV2RdGgAgAhHiIBwQ4tixnukAeIh1w4M7Vgvu2vvu9oc4Y794ofzFV68oD3GSL5R8kXv1ytETpXp65vqgIKdD4lxN/mqbfBH8ewEA6h8hDsIBIY4d65kOgIdYNzy4Y7Xgrv9DP3+IM2b+0+UvTr478JWqQ3vqtZ66sGxznn79/IKgMKf/hOXamX/UujQAQIQgxEE4IMSxYz3TAfAQ64YHd6wW3MwH/+APcV6YM7T8xTl/iajHjLtx+HiJhk5fGxTkdBwxT1O+zuGqHADAKRHiIBwQ4tixnukAeIh1w4M7VgvuD4886A9xUj75v/IXV4wPhDgrJ9ZrPXVt0Q/7de2o+UFhzoCJX2sXV+UAAE6CEAfhgBDHjvVMB8BDrBse3LFacDcNfswf4jz9/kPlL25dHAhx5g6t13rqQ+GxYg2ZujooyOk0Yp4+WLGdq3IAAJUixEE4IMSxYz3TAfAQ64YHd6wW3K1P/tkf4iS+M7D8xUN7AiHO5N71Wk99+jxrn65OyQgKc+6f+LV2F3BVDgAgGCEOwgEhjh3rmQ6Ah1g3PLhjteBuT3zKH+IMm3BP+Ys+nzTq5+UhTmqneq2nvhUUFetPH3BVDgDg5AhxEA4IcexYz3QAPMS64cEdqwV398iR/hDnL3+9K/BGWvd/Xo1zjnSiqF5rspDx/V51Ts7gXjkAgEoR4iAcEOLYsZ7pAHiIdcODO1YL7t4XXvSHOE+82iPwxvQHA1+p2rO2XmuyUlBUrCc+XB3yBKv3eIIVAHieF0OcSZMmyXEcLVy40LoU/BMhjh3jkQ6Al1g3PLhjteDuG5PqD3EGv/SbHxX0UgcseEEAACAASURBVCDEWTetXmuy9nnWPl2TEvwEq/vGL9f2Aw3/iiQAQOUIcWpXfn6+kpKSzAKikpISPf/882rXrp2io6PVsmVLDRo0SHl5ea6PMXDgQDmOU+n2xBNP1EndhDh2zIY5AN5j3fDgjtWCu3/sa/4Q5/FR1wfe+H5GIMRZ+Hy91hQOCo6GPsGqQ+Jcvb0sW2VlXJUDAF5DiFO7srOz5TiOkpKSav3YbvTv31+O46hnz55KS0vTsGHD1KRJE8XHx+vQoUOujlER4kyePDlk+/bbb+ukbkIcO5bzHACPsW54cMdqwc3961v+EOexZ64NvLEvKxDiTH2gXmsKJws37NO1o4Kvyvn9W8uUnXvEujQAQD0ixKldliHOggUL5DiOevXqFfT6tGnT5DiOEhMTXR2nIsSpT4Q4dgzHOQBeY93w4I7Vgps3YaI/xHl0+JWBN0qOS0+fVx7i/LVLvdYUbg4dK9awj9YGBTnth8/R+C+2qJSrcgDAE7wc4syfP18pKSmKiYlRdHS0YmJilJKSotLS0pDP5ObmavDgwf59W7Rood69e2v9+vUhx61sq5Cenq577rlHMTExaty4sc4++2x17dpVM2fODPmZxcXFysrKUk5OjqvfqyJ8WbRoUch7bdq0UevWrat1HJ/Pp8LCwkr/PWobIY4do1EOgBdZNzy4Y7XgHnj7HX+I8/CTlwW/+eoV5SFO8oVSWVm91hWOvtyUqy4vLAgKc+54fal+2OvusmsAQOTycohz1VVXqW3btnr22WeVmpqqLl26yHEcDRw4MGj/3bt3q02bNmrevLkef/xxjRs3TsnJybrkkkvUtGlTrVq1SpK0ZcsWpaamynEc3XXXXUFfQ6rQr18/de/eXSNGjFBaWppSUlLUrl07OY6j999/P+jnVlzV061bN1e/V1xcnKKionT8+PGQ9/r16yfHcbRv375THqcixGnevLkcx1GjRo10zTXX6KOPPnJVR00Q4tixmuUAeJB1w4M7VgvuwSlT/CHOI3+KV5nvR2HNu30DX6nK316vdYWrohMlenrmerUZGghyfpEwW6/O36gTJQRdANBQeTnEueiii3TgwAH/66WlperRo0fI1Sx33323mjdvHvLvdPDgQV188cXq3r27/7VTfZ3qyJHQry0XFRUpNjZW8fHxQa9XN8Rp1qyZLrjggkrfGzJkiBzHcXVPm7/85S967LHH9Pbbb2vGjBl68cUX1apVKzmOoxdffNFVLdVFiGPHbpoD4DnWDQ/uWC24+dOmBW5s/H/xOlpyNPBm+vBAiLNpfr3WFe5WZh9Q95cXBl2Vc0vqYq3ZkW9dGgCgDpxqeO7zaR/d+OGNYbn1+bRPjX7nihAnOTk55L2lS5fKcRw9+uijkqTCwkI1atRIffv2VW5ubsj2wAMPqFGjRjp6tPw8ozr3xDly5Ijy8vKUm5urhx56SI7juL75cGWioqLUqlWrSt9LTEyU4zhasmRJjY5dWFiotm3b6t/+7d+0fXvt/wGMEMeO4TgHwGusGx7csVpwCz75xB/iPPFYvPKP/SiE+PadQIjz1V/rta5IcKy4VC/MzVLMsNn+IKft0FkaNTtTx4rr/nvxAID6c6rh+cYPb1Snv3cKy+3GD2+s0e9cEeJ8/PHHIe/l5+fLcRzdeuutkqQVK1ZUeZ+bH28VwcapQpzs7Gz1799f559/fqXHcXv/m8rU1pU4VXnttdfkOI7Gjx9f42NUhRDHTr0OcAC8zbrhwR2rBbdw9mx/iPPkw/Hac2RP4M2c5YEQ59PB9VpXJFm3s0C3vfJF0FU53V78XMs251mXBgCoJV6+EsdNiLN8+XI5jqPevXsrIyOjyu3YsWOSTh7iHD58WK1atVLz5s2VmJioqVOnKj09XRkZGf571mRnZ9fod5Jq7544VZk1a5Ycx1FKSkqNj1EVQhw7ZsMcAO+xbnhwxyzE+ewzf4iTMChe2wq3Bd4sOhAIcSbdXq91RZri0jK9/vkmxSbMCQpznpy2RgVHi63LAwCcJi/fE8fN16ny8vIUFRXlD3VOZdu2bVWGODNmzJDjOJo4cWLIe3369DntEOf++++v8pyrOk+nqsqYMWOqrP90EeLYMRvmAHiPdcODO1YL7qGFC/0hzog/xuuHg/9yYvBCTHmI81K7eq0rUm3ad0h3v/llUJDTOTlDc9ftOfWHAQBhy8shzslubLxw4UL/67169dIZZ5yhefPmVXq8vXv3+v87Ly8vKAT6sYorWSZMmBD0+po1axQdHR0S4lT3EeMZGRlyHEe9evUKen369OlyHEfDhw8Pej03N1dZWVkqKCjwv3bkyBH/VUX/+ju2bNlSZ555pnbt2uWqnuogxLFjNswB8B7rhgd3rBbcw0uX+kOcZx/ooLX71wbvMPHWwNU4xwoqPwiClJX59PaybMUnzg0Kcx565xvtKww94QMAhD8vhzgVjxgfOXKkUlNT1bVrVzmOo/79+wftv2vXLsXExCgqKkr9+vVTamqq3nzzTQ0dOlSdO3fWDTfcELR/bGysWrRooTFjxmjKlCmaMmWKpPKvarVs2VLnnHOOEhISlJaWpsGDB6tZs2a68sorQ0Kc6j6dSgp8bapnz54aP368EhIS1KRJE8XFxamwsDBo36SkJDmOo0mTJvlfW7VqlS644AL98Y9/1Isvvqi0tDT9+c9/1nnnnaczzjhDb7zxhutaqoMQx47dNAfAc6wbHtyxWnCPLP/aH+KMGthBK/asCN5hxmOBEGfHN/VaW6TblX9U/zlpRVCQ0ylpnt77OkdlZT7r8gAA1eDlEGf+/PlKTk5WTEyMoqOj/YFOSUlJyGcKCgo0fPhwdezYUY0bN1azZs0UGxurAQMGKD09PWjflStXqmvXrmratKn/hsUV1q1bpx49eui8887TWWedpWuvvVYzZszwByqnG+IUFxdr1KhRio2NVXR0tC688EI9+OCD2r9/f8i+lYU4e/bs0YABA9ShQwedc845+slPfqKf/exnuvPOO+v0XI4Qx47dNAfAc6wbHtyxWnCLvv3OH+K82L+Dluz8l0dqfvlaIMRZ9V691tYQ+Hw+fbJqp6549rOgMOf3by3T5v2HrcsDALjkxRAH4YcQx471TAfAQ6wbHtyxWnCPrl3nD3FG39tB83PmB+/wQ3ogxMl4ul5ra0gOHDmhwe+vCgpyYp+ao9cWbNSJkjLr8gAAp0CIg3BAiGPHeqYD4CHWDQ/uWC24xzZs8Ic4r/btoNlbZgfvcGBrIMSZcm+91tYQLf5hv7q8sCAozPl/Yxbru5yD1qUBAE6CEAfhgBDHjvVMB8BDrBse3LFacI9v2eIPcd74XQd9tPGj4B3KSqVnf1oe4rzWuV5ra6iKTpQoZXam2g4NBDlths7SiE/W6dAxHkcOAOGIEAfhgBDHjvVMB8BDrBse3LFacE/k5PhDnHF3ddB7WZXc9+aNX5WHOM+0kEpDb2KImlm7o0A9Xv0i6Kqca1Lma956HkcOAOGGEAfhgBDHjvVMB8BDrBse3LFacIt37/aHOBPv6KC/r/976E4f3B/4SlXe5nqtr6ErKS3TuMWbFTc8+HHkD76zUnsKeBw5AIQLQhyEA0IcO9YzHQAPsW54cMdqwS3JzfWHOG/37KC3Vr8VutOC5ECIs2FOvdbnFdsPFOn+iV8HBTkdR8zT37/MVimPIwcAc4Q4CAeEOHasZzoAHmLd8OCO1YJbWlDgD3H+cVsHvfrtq6E7rfkwEOIsfaVe6/MSn8+nGat36cqRwY8j7/X6Uq3fVWBdHgB4GiEOwgEhjh3rmQ6Ah1g3PLhjteCWFRX5Q5z3b+mgF1a8ELrTrlWBEOeTh+u1Pi/KLzqhJ6etCQpyYobNVsrsTBWd4J5EAGCBEAfhgBDHjvVMB8BDrBse3LFacH3Fxf4QZ9pv4jTyq5GhOx0/HAhxJtxcr/V52ddbD+im0YuCwpzrnlug+Zl7rUsDAM8hxEE4IMSxYz3TAfAQ64YHd8xCHJ/PH+J80j1OTy15qvIdR8eXhzjPXSL5uEdLfTlRUqbXFmxU7FNzgsKcQZO/0e6Co9blAYBnEOIgHBDi2LGe6QB4iHXDgzuWC25mx07KbB+nWd3i9OdFf658p7fvCFyNcyS3fguEsnOP6N7xXwUFOfGJczVxyVaVlJZZlwcADR4hDsIBIY4d65kOgIdYNzy4Yxri/PIKZbaP07wucXp0waOV7zR7SCDE2fZl/RYISeVXTX383U79x7PBNz7u8eoXWrU937o8AGjQCHEQDghx7FjPdAA8xLrhwR3LBXdD56uV2T5O838Vpwc/e7Dynb5OC4Q430yq1/oQLL/ohIZOXxsU5LQZOkuJn6xT4bFi6/IAoEHyYogzadIkOY6jhQsXWpeCfyLEsWM80gHwEuuGB3csF9wfrvu1MtvHadHVcbp/zv2V77RlUSDEmZdQvwWiUt9sO6BbUhcHhTlXJWfok1U75eO+RQBQqwhxald+fr6SkpLMAqKSkhI9//zzateunaKjo9WyZUsNGjRIeXl51TrO+PHjdeWVV6pJkyY6++yz1a1bN6Wnp9dR1YQ4loxHOgBeYt3w4I7lgrux2w3KbB+npVfGqe+nfSvfqXB3IMT5x+/qt0BUqbi0TOMWb1bc8LlBYc6947/S5v2HrcsDgAaDEKd2ZWdny3EcJSUl1fqx3ejfv78cx1HPnj2VlpamYcOGqUmTJoqPj9ehQ4dcHePhhx+W4zi64oorNHr0aI0ePVpXXHGFzjjjDL3//vt1Ujchjh3LeQ6Ax1g3PLhjueBu+s3Nymwfp+W/jNOdn9xZ+U4+n5RycXmI88rl9VsgTmln/lH999srg4Kc2IQ5ejl9g44Vl1qXBwARjxCndlmGOAsWLJDjOOrVq1fQ69OmTZPjOEpMTDzlMVavXi3HcdSpUycVFwe+ylxcXKxOnTqpRYsWrsOg6iDEsWM4zgHwGuuGB3csF9zNt/VQZvs4rbw8TrdNv63qHcfd8M+rcc6Rio/VX4FwLeP7vbruuQVBYU6XFxbo86x91qUBQETzcogzf/58paSkKCYmRtHR0YqJiVFKSopKS0P/SJCbm6vBgwf7923RooV69+6t9evXhxy3sq1Cenq67rnnHsXExKhx48Y6++yz1bVrV82cOTPkZxYXFysrK0s5OTmufq+BAwfKcRwtWrQo5L02bdqodevWpzzGmDFj5DiOnnvuuZD3Ro0aJcdxNHnyZFf1VAchjh2bSQ6AJ1k3PLhjueBu6XWHMtvHaVXHON34wY1V7zj9wcBXqvasq78CUS1FJ0r0wtws/SJhdlCY8+A7K7Uz/6h1eQAQkbwc4lx11VVq27atnn32WaWmpqpLly5yHEcDBw4M2n/37t1q06aNmjdvrscff1zjxo1TcnKyLrnkEjVt2lSrVq2SJG3ZskWpqalyHEd33XWXJk+e7N8q9OvXT927d9eIESOUlpamlJQUtWvXTo7jhHxVqeKqnm7durn6veLi4hQVFaXjx4+HvNevXz85jqN9+07+x4/nnntOjuPo1VdfDXnvlVdekeM4euSRR1zVUx2EOHasZjkAHmTd8OCO5YK79e7fKbN9nNbFxem6966resfFLwVCnHXT6q9A1MimfYfUd9yyoCAnbvhcvbFwk06UlFmXBwARxcshzkUXXaQDBw74Xy8tLVWPHj1Crma5++671bx585B/p4MHD+riiy9W9+7d/a+d6utUR44cCXmtqKhIsbGxio+PD3q9uiFOs2bNdMEFF1T63pAhQ+Q4jr799tuTHmPmzJlyHEd33HFHyHt33HGHHMfRb3/7W1f1VAchjh2zYQ6A91g3PLhjueBm971Hme3jlNk+Tle9/R9V75g1OxDiLBhZfwWixnw+nz76boeuHJkRFObc+PJCfbkp17o8AIgYpxqet/a+Wxuv7xaW29bed9fod64IcZKTk0PeW7p0qRzH0aOPPipJKiwsVKNGjdS3b1/l5uaGbA888IAaNWqko0fLrwitzj1xjhw5ory8POXm5uqhhx6S4zindb+ZqKgotWrVqtL3EhMT5TiOlixZctJjlJSUqFOnTnIcR0OGDFFmZqYyMzP1l7/8RdHR0XIcRzfddFONa6wKIY4ds2EOgPdYN7xwM336dF1zzTU666yzdO6556pnz55as2aN68+vWbNGffv2VevWrXXmmWeqVatWuvPOO/Xll1+eVl2WC+62/gP8Ic4VEzpW/XjqA1sDIc57/eq3SJyWgqPFSpqxXm2HzgoKcx597zvtLeT+RgBwKqcanjde382/lobbtvH6bjX6nStCnI8//jjkvfz8fDmOo1tvvVWStGLFiirvc/Pjbfv27ZJOHeJkZ2erf//+Ov/88ys9jtv731SmNq7EkaQdO3bo5ptvDqrr0ksv1cSJE/1fFatthDh26m96A+B51g0vnEyYMMH/JIHXXntNL730ki655BI1a9ZMq1evPuXnv/76a5155plq2bKlRowYoQkTJigxMVE/+9nPFBUVpblz59a4NssFN+c/HwhciTOuo46Xhn5HXJJUViYlt/znE6r+v/otErVi3c4C3fnG0qAgJz5xrtIWb1FxKV+xAoCqePlKHDchzvLly+U4jnr37q2MjIwqt2PHyv9wcLIQ5/Dhw2rVqpWaN2+uxMRETZ06Venp6crIyPDfsyY7O7tGv5NUO/fE+bGdO3fqiy++0OrVq+Xz+TR79mw5jqOEhIQa11gVQhw7VrMcAA+ybnjh4uDBg2revLl+/vOfq7Cw0P96Tk6OmjZtqq5du57yGPfdd58cx/HfmK/Ct99+K8dxdOedVTye2wXLBXf7gw/5Q5xr3+yoguMFVe+c1j3whKoTod9XR/grK/Pp/RU5+uUz6UFhzm9GL9KyzXnW5QFAWPLyPXHcfJ0qLy9PUVFR/lDnVLZt21ZliDNjxgw5jqOJEyeGvNenT5/TDnHuv//+Ks+53D6d6mQeeeQROY6jpUuXntZxKkOIY8dolAPgRdYNL1xUnIg8/fTTIe9VPGryVCcEPXv2rPSvM3v37pXjOLr33ntrXJ/lgrvj0Uf9IU6X1ztqX9FJ/vr0ycOBr1TtPPWlxghfB4+cUMJHa9XmX75i9RhfsQKAEF4OcU52Y+OFCxf6X+/Vq5fOOOMMzZs3r9Lj7d271//feXl5QSHQj82aNUuO42jChAlBr69Zs8Z/v5kfn7NV9xHjGRkZchxHvXr1Cnp9+vTpchxHw4cPD3o9NzdXWVlZKig4yR+5/mnFihU688wzg27iXJsIceyYDHIAvMm64YWLQYMGyXEcffbZZyHvjRs3To7j6IMPPjjpMd544w05jqObb75ZX331lXbu3Klly5bppptu0rnnnhtyhU51WC64OwcP9oc4N7zaUdsPba9652WvB0Kc7/5Rf0WizqzZka9ery0J+YrVuMWbeYoVAPyTl0OcikeMjxw5Uqmpqeratascx1H//v2D9t+1a5diYmIUFRWlfv36KTU1VW+++aaGDh2qzp0764YbbgjaPzY2Vi1atNCYMWM0ZcoUTZkyRVL5V7Vatmypc845RwkJCUpLS9PgwYPVrFkzXXnllSEhTnWfTiUFvjbVs2dPjR8/XgkJCWrSpIni4uKCrtiWpKSkJDmOo0mTJgW9/vjjj+u+++7TmDFjNGHCBA0aNEiNGzdWbGysdu7c6bqW6iDEsWM0ygHwIuuGFy4qrqLJzMwMea/iu8ujR48+6THKysr01FNPqVmzZkE3sYuPj9eGDRtc17Jt2zYtXrw4aBs7dqxdiDNkiD/E+c2Yjtp0cFPVO29eEAhx5tX+d71ho6zMp/e+Dv2K1Y0vL9SSjTzFCgC8HOLMnz9fycnJiomJUXR0tD/QKSkpCflMQUGBhg8fro4dO6px48Zq1qyZYmNjNWDAAKWnpwftu3LlSnXt2lVNmzb1n1NVWLdunXr06KHzzjtPZ511lq699lrNmDHDH6icbohTXFysUaNGKTY2VtHR0brwwgv14IMPav/+/SH7VhXiTJ48WZ07d9a5556rM888U+3bt1dCQkJICFSbCHHsmAxyALzJuuGFixtvvFGO42jLli0h7y1YsECO42jkyFM/Nvv111/XddddpxdeeEEzZszQ2LFj1aZNG7Vs2VJr1651VUvFyUBlm8WCuyshwR/i3PJyR63PXV/1zof2BEKcd2p+DyCEp4NHTmhYJV+xGjT5G+04WGRdHgCY8WKIg/BDiGPHbJgD4D3WDS9c1MaVOE8++aQaNWoU8kjyXbt2qXnz5urcubOrWsLtSpzdSUn+EOf2Fzrqm73fVL2zzyc936Y8xHm5ff0ViXq1dkfoU6zaD5+jsfM36lhxqXV5AFDvCHEQDghx7NhOdAA8xbrhhYvTvSdOcXGxoqOj1alTp0rfv/322+U4To0vobVccPckp/hDnDtGddSXu748+Qf+1iNwNU7RgZPvi4hVVubThyu368qRnwWFOV1f+Fyffb9XPp/PukQAqDeEOAgHhDh2TAc6AN5i3fDCxd/+9jc5jqNnnnkm5L0//OEPchxHW7durfLze/bskeM46tChQ6Xv33LLLXIcR3l5NXtEs+WCu/eFF/0hzt0jO+rznM9P/oFZTwRCnOzaf3wmwkvhsWI9M/N7xQybHRTmDJj4tTbvP2xdHgDUC0IchANCHDuW8xwAj7FueOHi4MGDOvvss/Xzn/886GqZnJwcNW3aVF26dPG/VlRUpKysLO3evdv/WllZmX76058qKipKS5cGBxc//PCDmjRpol/84hc1rs9ywd03eow/xOn7dLzmbp178g+smBAIcb5Oq58iYW7DnkO6Z9xXQUHOpcNmK2V2pg4dK7YuDwDqFCEOwgEhjh3rmQ6Ah1g3vHDy1ltvyXEcderUSa+99ppefvlltW7dWk2bNtV3333n32/hwoVyHEcDBw6s9PNnnXWWBg8erLS0NCUkJOj8889XVFSUPv744xrXZrng7h/7mj/EuW9EvD7edIrfY9uyQIjz6eD6KRJhwefzadaa3frVqPlBYc5VyRma+s0OlZXxFSsADRMhDsIBIY4d04EOgLdYN7xwM3XqVF199dVq0qSJzjnnHN1+++1avXp10D5VhTiSNHPmTN18880677zz1KhRI51//vm6/fbbT3uhtFxwc//6lj/EGfhUvD7YUPW9gSRJR/MDIc7EW+unSISVoydKNTp9g2KfmhMU5tzx+lKt2p5vXR4A1DpCHIQDQhw7xiMdAC+xbnhwx3LBzZsw0R/i/NfQeL29/u1Tf2h0h/IQ57lLyp9YBU/afqBIf3x7ZVCQ0/rJWfrTB6u1r/CYdXkAUGsIcRAOCHHsWM90ADzEuuHBHcsF98Db7/hDnIeGxCttjYv73EzuHbgap3BX3ReJsPbFxv26afSioCAnPnGu/rpos46X8EhyAJFv48aNysrK4sl8MOPz+ZSVlaWNGzeedD9CnLphPdMB8BDrhgd3LBfcg++95w9xHvlTvMZ+N/bUH0p/KhDibMqo+yIR9opLy/S3pVt1WdK8oDCn24s8khxA5MvJyVFmZqaKioqsS4FHFRUVKTMzUzk5OSfdjxCnbljPdAA8xLrhwR3LBTd/6lR/iPP4/8Xr5ZUvn/pDq94NhDhfugh94Bl5h49r2Edr1WZo8Fes+k9Yrh/2HrIuDwBqJD8/X5mZmdq8ebOKiooIplFvfD6fioqKtHnzZmVmZio//+T3niPEqRvWMx0AD7FueHDHcsEt+OQTf4jzp8filfxV8qk/tOu7QIjz8f/UfZGIOOt3FajPW8uCgpyYYbOV+Mk6HTxywro8AKgWn8+nHTt2KDMzU5mZmcrKyvLfn4SNrS63rKws///vduzYccoAkRCnbljPdAA8xLrhwR3LBbdw9mx/iPOXh+OVuDTx1B8qPiolnVMe4ozrVtclIkL5fD7NXrtb1z23ICjMufzpdE1aulXFpWXWJQKAaz6fT/n5+crJydHGjRvNh3s2b2wbN25UTk6O8vPzXV0BRohTN6xnOgAeYt3w4I5piPPZZ/4QJ2FQvIYsHuLug69eUR7ijPyZVMbNa1G1Y8Wlem3BRnVInBsU5tz48kJ9vmGfdXkAADQYhDh1w3qmA+Ah1g0P7lguuIc+/9wf4oz4Y7we//xxdx+ccm/gK1V5m+u2SDQIewqOafD7q0IeSX7/xK+1kfvlAABw2ghx6ob1TAfAQ6wbHtyxXHAPL1nqD3GefaCDHsp4yN0HFyQHQpzMT+u2SDQoq7bn6643lobcL2cE98sBAOC0EOLUDeuZDoCHWDc8uGO54B5Z/rU/xEn5Qwf9Ye4f3H1w3fRAiLPoxbotEg2Oz+fTjNW79KtR80PulzNhyVadKOF+OQAAVBchTt2wnukAeIh1w4M7lgtu0bff+UOcFwZ0UL9Z/dx9cP+GQIjzocvgB/gXx4pLNXb+RsUND75fzg0vLVT6+j08xhcAgGogxKkb1jMdAA+xbnhwx3LBPbp2nT/EGX1vB/We0dvdB0uLpWf/vTzEef3qui0SDd7ewmN64sPVajM0+H4594z7Sut3FViXBwBARCDEqRvWMx0AD7FueHDHcsE9tmGDP8R5tW8H3f7R7e4//OZ15SHOM+dLJcfrrkh4xrqdBfr9W8uCgpw2Q2fpzx+u1t7CY9blAQAQ1ghx6ob1TAfAQ6wbHtyxXHCPb97sD3He+F0H3fThTe4/PO2/Al+p2ru+7oqEp/h8Ps1dt0fXv/h5UJgTN3yuxnz2g4pOlFiXCABAWCLEqRvWMx0AD7FueHDHcsE9kZPjD3HG9e6gLlO6uP/wFy8HQpy1U+uuSHjS8ZJSjf9iizolzQsKczonZ+iDFdtVWsb9cgAA+DFCnLphPdMB8BDrhgd3LBfc4t27/SHOxDs6qPM/Orv/8Ia5gRAn4+m6KxKedvDICSXNWK9Lh80OCnNuSV2sJRtzOm2NAQAAIABJREFUrcsDACBsEOLUDeuZDoCHWDc8uGO54Jbk5vpDnLd7dtDlb1/u/olAB7cFQpx3+9ZtofC8LfsP649vrwwKclo/OUsD//a1Nuw5ZF0eAADmCHHqhvVMB8BDrBse3LFccEsLCvwhzj9u66BOf++k4tJidx8uK5NSLioPcVIvq9tCgX/6akueeo5dEhTktB06S09OW6N93PwYAOBhhDh1w3qmA+Ah1g0P7lguuGVHjvhDnPdvKQ9xDp2oxlUNaTcGrsY5frjuCgV+pKzMp4++26HrnlsQcvPj1IwfdOQ4Nz8GAHgPIU7dsJ7pAHiIdcODO5YLru/ECX+IM+03cer0907KPVqN+4x88kggxNnxTd0VClTiWHGp3ly4WZ1GBN/8+KrkDL27PEclpWXWJQIAUG8IceqG9UwHwEOsGx7cMQ1xfD5/iPNJ9/IQZ+fhne4P8NWbgRDnm0l1VidwMnmHj1d68+ObRi9Sxvd73d/nCQCACEaIUzesZzoAHmLd8OCO9YKb2ekyZbaP06xu5SHOlvwt7j+cvSQQ4nw6uO6KBFzYsv+wHnrnm5CbH//+rWVatT3fujwAAOqU9TllQ2U90wHwEOuGB3esF9ysK/5Dme3jNK9LeYjzfd737j98rCAQ4oy/qe6KBKrhm20HdNcbS0PCnIf/8a2yc49YlwcAQJ2wPqdsqKxnOgAeYt3w4I71gruh89XKbB+n+b8qD3FW7VtVvQO8cnl5iJN8oVRWWjdFAtXk8/k0d91u3fDSwqAg59Jhs5X4yTrlHj5uXSIAALXK+pyyobKe6QB4iHXDgzvWC+4P1/1ame3jtOjq8hDnq91fVe8A798XuBpn/4a6KRKooeLSMr2zLFv/8exnQWFOfOJcvZKxkSdZAQAaDOtzyobKeqYD4CHWDQ/uWC+4G7vdoMz2cVpyVXmIs2j7ouodYNGLgRBn7dS6KRI4TYePl2j0Zz+oQ+LcoDDnypEZeuerbSrmSVYAgAhnfU7ZUFnPdAA8xLrhwR3rBXfTb25WZvs4fXVFeYgzL3te9Q7ww7xAiJM+vG6KBGrJvkPH9NTHaxXzL0+yuuGlhfp0zS6eZAUAiFjW55QNlfVMB8BDrBse3LFecDff1kOZ7eO08vLyEGfm5pnVO0Dh7kCI83avuikSqGVb9h/W//wj9ElWv31tiZZuyrUuDwCAarM+p2yorGc6AB5i3fDgjvWCu6XXHcpsH6dVHctDnA9/+LB6B/D5pBcvLQ9xnm9T/r+BCPFdzkH1eWtZSJjTf8JyrdtZYF0eAACuWZ9TNlTWMx0AD7FueHDHesHd2vtuZbaP07q48hBn8veTq3+Qd+4KXI1TsKP2iwTqkM/n0+cb9umW1MUhYc6j733HY8kBABHB+pyyobKe6QB4iHXDgzvWC25233uU2T5Ome3jdNmkjhq/dnz1D5KRFAhxsmbXdolAvSgr8+mj73bo188vCHksecJHa7W38Jh1iQAAVMn6nLKhsp7pAHiIdcODO9YL7rb+A/whzi8ndNQbq96o/kHWTQ+EOAufq/0igXp0vKRUf1u6NeSx5O2Hz9Hzc7NUUFRsXSIAACGszykbKuuZDoCHWDc8uGO94Ob85wP+EOeqcR01+pvR1T9I3uZAiPNev9ovEjBw+HiJXsnYqI4j5gWFOZclzdMbCzep6ESJdYkAAPhZn1M2VNYzHQAPsW54cMd6wd3+4EP+EOfaNztq1PJR1T9IWZmUclF5iDOmY+0XCRjKO3xcz376vWIT5gSFOVclZ+jtZdk6UVJmXSIAAObnlA2V9UwHwEOsGx7csV5wtz/yiD/E6fJ6RyV9mVSzA034f4GrcYoO1GqNQDjYcbBIT3y4Wm2HBt/8+NfPL9C0b3aotIwnswEA7FifUzZU1jMdAA+xbnhwx3rB3fF//+cPcbq92lFPfvFkzQ40+8+BEGfLototEggjm/Yd0qDJ34Q8yeo3oxdp7rrd8vkIcwAA9c/6nLKhsp7pAHiIdcODO9YL7s4hQ/whzk1jOmrwwsE1O9C37wRCnC/H1m6RQBhasyNf/ScsDwlzfvvaEi36YT9hDgCgXlmfUzZU1jMdAA+xbnhwx3rB3ZWQ4A9xbnm5o/4n439qdqDdqwMhzrT/rt0igTC2bHOe7npjaUiY8/u3lmlFNl8tBADUD+tzyobKeqYD4CHWDQ/uWC+4u5OS/CHO7S901APzHqjZgUpOSM+0KA9xXr+6dosEwpzP59P8zL269ZUvQsKc+yd+rbU7CqxLBAA0cNbnlA2V9UwHwEOsGx7csV5w94xM9oc4d4zqqHtn31vzg/311+UhztPnSieKaq9IIEKUlfn06Zpd6v7ywpAw58F3ViprT6F1iQCABsr6nLKhsp7pAHiIdcODO9YL7t7nX/CHOHcnd9TvZv6u5gf7+OHAV6p2rKy9IoEIU1Japg9Wbtd1zy0ICnLaDJ2lx977Tlv2H7YuEQDQwFifUzZU1jMdAA+xbnhwx3rB3Td6jD/E6ftMvHp+1LPmB1v+ViDEWTGh9ooEItTxklK9syxbnZMzgsKctkNn6YkPV2v7Aa5YAwDUDutzyobKeqYD4CHWDQ/uWC+4+8e+5g9x7hsRr5un3lzzg21bFghxZv5v7RUJRLhjxaUa/8UWXfHsZ0FhzqXDZmvo9LXalX/UukQAQISzPqdsqKxnOgAeYt3w4I71gpv717f8Ic7Ap+J1/fvX1/xgxw9JSeeUhzjjbqi9IoEG4sjxEr3++SZdljQvKMyJTZijxE/WaW/hMesSAQARyvqcsqGynukAeIh1w4M71gtu3oSJ/hDnv4bG65p3rzm9A756RXmIM/ICqbSkdooEGpiCo8Ua/dkP6jgiOMxp99QcPfvp99p/6Lh1iQCACGN9TtlQWc90ADzEuuHBHesF98Dbb/tDnIeGxOuXb//y9A74wf2Br1Tty6ydIoEGKr/ohF6Ym6UOiXODwpz2w+coZXam8g4T5gAA3LE+p2yorGc6AB5i3fDgjvWCe/C99/whzsNPxKvT3zuppOw0rqD54uVAiLP6/dorFGjAcg8fV/Ks79XuqTlBYU7c8LkaNSdTB46csC4RABDmrM8pGyrrmQ6Ah1g3PLhjveDmT53qD3H+9//KQ5wjxUdqfsCNGYEQZ15C7RUKeMC+wmN6euZ6xf5LmBOfOFcvzM3SQcIcAEAVrM8pGyrrmQ6Ah1g3PLhjveAWfPKJP8T502PlIc6BYwdqfsDD+wIhzqTba69QwEP2Fh5T0oz1ik0IDXNenEeYAwAIZX1O2VBZz3QAPMS64cEd6wW3cPZsf4jzl4fLQ5zdh3ef3kFfalce4jzX6v9n787jo6rP/YEPtL2txbW3v9t7e2m1Yk3UcUMFF1CLVi1QtFqXohWRFr1SraJVwSXs+yKbgGxh33cSIBAg7EQIYcmEkIUskJBA9j2Zmc/vj6nfMU6CB5jM8z3nfN6vV/7onOGcp/883+/z8cw5gNcbnEKJbCi3pAqfrj6Gm/pHMcwhIqILkt5TWpX0TEdENiLd8MgY6QW3dPNmFeL0f9MX4mSUZFzeSRf82X83TlFmcAolsrHTxVXov+oowxwiImqS9J7SqqRnOiKyEemGR8ZIL7hl27apEOezv/tCnOTC5Ms76dZB/hDHtS44hRLRBcOcERuT+QBkIiIbk95TWpX0TEdENiLd8MgY6QW3fNduFeIMfP0WOCOdSCxIvLyTJq31hzhbBwanUCJSmgpzbvnM9zYrvpqciMh+pPeUViU90xGRjUg3PDJGesGt2H9AhThDX/OFOAdyD1zeSUtO+0Ocud2CUygRBfgmzPnuA5DDP92IIRuSUFDGMIeIyC6k95RWJT3TEZGNSDc8MkZ6wa08lKBCnJF/9YU4cTmXWYvX63+48bBfAR5PcIolokadKa7CZ2uOBYQ5YZ9GY+C6JJwtrZYukYiImpn0ntKqpGc6IrIR6YZHxkgvuFVHj6oQZ2x3X4gTkxlz+Sde9Bf/3TjnTl7++Yjoe+WV+F5NfvMnDcOc334SjU9XH8Pp4irpEomIqJlI7ymtSnqmIyIbkW54ZIz0gludnKxCnAkv+UKc9enrL//EcaP9IU7i4ss/HxEZll9ajUHrkxD2acMw56b+Ufh45RFkF1ZKl0hEREEmvae0KumZjohsRLrhkTHSC25NWpoKcaY87wtxVqSsuPwTp23zhzhRH1z++Yjoop0rr8GwaBdu+WxjgzDnxn5R6Ls0EWkF5dIlEhFRkEjvKa1KeqYjIhuRbnhkjPSCW5uVpUKc6c/6QpwFrgWXf+KqYn+I89XvLv98RHTJCitqMXrTCTg/39QgzLnh4w3os/AQkvNKpUskIqLLJL2ntCrpmY6IbES64ZEx0gtuXW6uCnFmPe0LcWYdmxWck0+8xxfiDPo5UM+35BBJK6mqwxdbTuKOAZsbhDnXf7QBf5/7NY7kFEuXSEREl0h6T2lV0jMdEdmIdMMjY6QX3Ppz51SIM7erL8T5MvHL4Jx81Rv+u3FyDgbnnER02cpr6jF1RxruGRwTEOb8ddYBHMgolC6RiIgukvSe0qqkZzoishHphkfGSC+47uJiFeIs6OwLccYfHB+ckx/4yh/i7J8enHMSUdBU1boxa1cG2g3dEhDm/HnqHmw/kQ+v1ytdJhERGSC9p7Qq6ZmOiGxEuuGRMdILrqeiQoU4S570hTgjDowIzslPH/SHOCt7B+ecRBR0NfVuLNifiQ4jYwPCnK4Td2HjsVx4PAxziIh0Jr2ntCrpmY6IbES64ZEx0guut7ZWhTgrHg+HM9KJAXsHBOfk9TW+5+FEXO17Pg4Raa3e7cHKQzl4bOyOgDDnsbE7sOJgDurcHukyiYioEdJ7SquSnumIyEakGx4ZI73ger1eFeKs+Z0vxOm/q3/wLvDV7/x341TxoalEZuDxeBF9NBedJ+wMCHMeHB6LuXtPobrOLV0mERF9i/Se0qqkZzoishHphkfG6LDgupy3wxUWjg2P+EKcvtv7Bu/kUR/4Q5y0bcE7LxE1O6/Xi20n8vH81L0BYc49g2MwZXsqSqvrpMskIiLosae0IumZjohsRLrhkTE6LLjJd90NV1g4NnXwhTh9tvYJ3skTF/tDnLjRwTsvEYXUgYxC9Jh9ICDMcX6+CSM3JqOgrEa6RCIiW9NhT2lF0jMdEdmIdMMjY3RYcE/c1w6usHBsecAX4vTa3Ct4Jz930h/iLHopeOclIhHHTpfgrYWHcMPHDcOcmz+JxqerjyG7sFK6RCIiW9JhT2lF0jMdEdmIdMMjY3RYcFMefAiusHBsb+8Lcf4a/dfgndzjAYb9yhfijLoJ4OuKiSwhvaAcH604gpv6RzUIc27sF4V3FifAlVsqXSIRka3osKe0IumZjohsRLrhkTE6LLgnH3kUrrBw7LrXF+I8v+754F5gbjf/3TglOcE9NxGJyiupxpANSbjls40BP7XqMfsA9qWfh5fhLRFRs9NhT2lF0jMdEdmIdMMjY3RYcFMf/z1cYeHYf/ctcEY60W11t+BeYOsgf4iTtCa45yYiLRRX1mLC1pO4a+DmgDDnmSm7sel4HjwehjlERM1Fhz2lFUnPdERkI9INj4zRYcFNe+oPcIWF4+CdvhDnyRVPBvcCyVH+ECfms+Cem4i0Ullbjzm7M/Dg8NiAMKfTmO1YGp+Nmnq+npyIKNh02FNakfRMR0Q2It3wyBgdFtz0P3aDKywch52+EOfRpY8G9wJlef4QZ06X4J6biLRU5/ZgdcJpPDk+LiDMuW/IFkzdkcbXkxMRBZEOe0orkp7piMhGpBseGaPDgpvx7HNwhYXj2C2+Z+I8sPCB4F9k7K2+EGfoLwEP/ys8kV14vV5sS87H89P2BoQ5t32+CcOiXMgrqZYuk4jI9HTYU1qR9ExHRDYi3fDIGB0W3FMvvgRXWDhcYeG4fc5tuHve3cG/yJJX/Hfj5LuCf34i0t6hrCK8Me9gwOvJb+ofhb5LE3Eir0y6RCIi09JhT2lF0jMdEdmIdMMjY3RYcDNf+asKce6aeRuckU64g323zK7x/hDn0LzgnpuITCWtoBwfrzyC3/aPbvSNVnvSzvGNVkREF0mHPaUVSc90RGQj0g1PNytXrkT79u3x05/+FNdeey26du2KI0eOXNQ5jh49iu7du+N//ud/8KMf/Qi/+MUv8MQTT+DgwYOXXJcOC25Wz9dViHPvdF+IU1VfFdyLZOz0hzjr/hnccxORKeWXVWPkxmTcHrEpIMzpOnEX1iWeQb3bI10mEZEp6LCntCLpmY6IbES64elk5syZcDgccDqdmDRpEkaPHo1f//rXuPLKK5GYmGjoHMuWLcOPfvQj3HnnnRg6dChmz56N0aNH4y9/+QvWr19/ybXpsOBm9e6tQpz2U30hTnF1cXAvUlMGRFzjC3GmdgjuuYnI1Mpr6jFzV+NvtHpoRCxm7cpARU29dJlERFrTYU9pRcIjHRHZiXTD00VRURGuvvpqtG7dGqWlperzrKwstGrVCh07dvzec5w8eRJXXHEFunfvDrc7uD8z0mHBze7TR4U4D032hTh5FXnBv9Dk9r4QZ8B1QF2Q7/QhItOrc3uw5vBpdJ6wMyDMuT1iE0ZsTMbZUj4EmYioMTrsKa1IeqYjIhuRbni6mDNnDhwOBwYMGBBwrEePHnA4HDh16tQFz9G7d2/88Ic/REFBAQCgsrIStbW1QalPhwU35913VYjzyARfiJNZmhn8C61+y/+Tqqz9wT8/EVmC1+vF7tRzeHXWgYAw56b+UXh/WSKS80q//0RERDaiw57SimQnOiKyFemGp4s333wTDocDMTExAcemT58Oh8OBpUuXXvAcv/zlL+F0OrFhwwbcdtttcDgcaNGiBe6++26sW7fusurTYcE9/a9/qRDnsXG+EOdE4YngX+jrWf4QZ8+k4J+fiCznRF4ZPliWiJv6RwUEOq/M3I8dKQV8CDIREfTYU1qR6EBHRPYi3fB00bVrVzgcDrhcga+1joqKgsPhwNixY5v89yUlJXA4HPjZz36GH/7wh+jduzdWrlyJCRMm4Be/+AVatGjxvSHQNzIzMxEXF9fgb+LEieIL7pn+/VWI8+QYX4hzOP9w8C+Ud9Qf4ix5JfjnJyLLyi+txqhNybhjwOaAMOf343ZgaXw2quuC/FY9IiITYYjTPEQHOiKyF+mGp4tOnTrB4XAgPT094FhsbCwcDgcGDx7c5L/PycmBw+GAw+HAe++91+BYUlISfvCDH+BXv/qVof8SHBERoc713T/JBTf38wgV4nQZ6QtxdubsDP6FPG5gWGtfiDPqJoD/9ZyILlJFTT0i95xCx5HbAsKcewbH4IstJ3G+vEa6TCKikGOI0zyERjkisiPphqeLy70Tp7CwUAUtSUlJAcc7duwIh8OB5OTk761F1ztx8gYPUSHO08N8Ic7GjI3Nc7F5f/LfjVMYGKwRERnh9nix8Vge/jx1T0CY89tPovHRiiNIOVsmXSYRUcgwxGkeguMcEdmNdMPTxeU+E8fr9eLKK6+Ew+FAcXHga7dfeOEFOBwO7Nmz55Lq02HBPTtipApxnhviC3GWpSxrnovtGOUPcQ4vbJ5rEJGtHM4uxlsLD+HGfoHPzfnrrAN8bg4R2YIOe0orkpzniMhmpBueLmbPng2Hw4GBAwcGHHvttdfgcDiQkZFxwXM89thjcDgcOHLkSMCxBx54AA6HA2lpaZdUnw4Lbv7YcSrEeXHgrXBGOjHn2JzmuVjGTn+Is/YfzXMNIrKlnKJKDNmQBOfnmwLCnMfH7sCiA1l8bg4RWZYOe0orkpzniMhmpBueLoqKinDVVVehdevWKC31v5I2KysLrVq1QocOHdRnlZWVSE5ORm5uboNzLFy4EA6HA3/7298afB4fH48WLVrg1ltvveT6dFhwCyZOUiHOy5/7QpyJCROb52K1lcDAn/lCnEn3Ns81iMjWymvqMWtXBjqMjA0Ic+4auBmjNiUjr6RaukwioqDSYU9pRcIjHRHZiXTD08m0adPgcDjgdDoxadIkjBkzBtdffz1atWqFhIQE9b3t27fD4XCgR48eDf691+tVz9Z55plnMGXKFPTv3x9XX301fvzjH1/WYqnDgntu6lQV4vT4xBfiDD8wvPku+FUn/904Feea7zpEZGvfPDfn+al7A8KcNv2i8M7iBCRmB/5MlojIjHTYU1qR6EBHRPYi3fB0s3z5crRr1w5XXHEFrrnmGnTp0gWJiYkNvtNUiAMAtbW1GDp0KMLCwvAf//EfuO666/D00083CIEuhQ4L7vmZM1WI83o/X4jTf1f/5rvgpv7+ECd5Q/Ndh4jo347mlODdJYfRppHn5vxpym6sSzyDOrdHukwiokumw57SioRHOiKyE+mGR8bosOAWzp2rQpzeH/pCnH9u+2fzXdC13h/ibP60+a5DRPQdZ0urMXrTCdw1cHNAmHP/sK2YvC0VRRW10mUSEV00HfaUViQ90xGRjUg3PDJGhwW3aNEiFeK89b4vxOm1qVfzXbDinD/EmfF4812HiKgJ1XVuLD6QhSfGxQWEOTf/+xXlyXml338iIiJN6LCntCLpmY6IbES64ZExOiy4xcuXqxDnn+/5XjH+4voXm/eiE9v6QpyB/wnUVTXvtYiImuD1erEn9Rx6RX6NGz7eEBDovDR9HzYdz4Pbw1eUE5HedNhTWpH0TEdENiLd8MgYHRbckjVrVIjT/7274Yx0osuqLs170TVv+e/GObW7ea9FRGRA5vkKDFyXhNsaeUX5g8NjMT0uDSWVddJlEhE1Soc9pRVJz3REZCPSDY+M0WHBLdmwQYU4Q967H85IJx5Z8kjzXjRhvj/EiRvdvNciIroI5TX1iNxzCr8bvT0gzAn7NBofr+RPrYhIPzrsKa1IeqYjIhuRbnhkjA4LbunmzSrEGfvew3BGOnHP/Hua96Ln0/whzvznmvdaRESXwOPxYkdKAV6bfSAgzLn+ow14YdpeRB3NRT3fakVEGtBhT2lF0jMdEdmIdMMjY3RYcMu2bVMhztT3Hocz0glnpBN17mb82YDXC4xq4wtxhv0K8HAIIiJ9pReUI2Lt8UZ/avXNW63OlddIl0lENqbDntKKpGc6IrIR6YZHxuiw4Jbv2q1CnMh3n1IhTlF1UfNeeMnL/rtxzh5v3msREQVBeU095u49hU5jAn9q9dv+0XhvyWEczi6WLpOIbEiHPaUVSc90RGQj0g2PjNFhwa3Yf0CFOEv+2VWFONll2c174b2T/SFO/IzmvRYRURB5vV7sPFmAXpHxjb7VqtukXVhxMAfVdW7pUonIJnTYU1qR9ExHRDYi3fDIGB0W3MpDh1SIs/qdZ1SI4zrvat4Lnz7oD3FW9GreaxERNZPswkoMi3LhjgGbA8KcuwfFYHh0MrILK6XLJCKL02FPaUXSMx0R2Yh0wyNjdFhwq44eVSFO9NvPqRAnPi++eS/srgOG/LcvxBl3W/Nei4iomVXVurE0Pht/+GJnQJhzw8cb8PqceGw/kQ+PxytdKhFZkA57SiuSnumIyEakGx4Zo8OCW52crEKc2D7PqxBnW9a25r/4nC7+u3FKcpr/ekREzczr9eJgZiHeXpSAm/pHBQQ6D4/ahq/i0lFUUStdKhFZiA57SiuSnumIyEakGx4Zo8OCW5OWpkKcXf/3ogpx1qWta/6Lxw7xhzhHlzf/9YiIQqigrAaTYk/i/mFbA8Kcmz+JRt+liTicXQyvl3fnENHl0WFPaUXSMx0R2Yh0wyNjdFhwa7OyVIiz/42/qBBnUfKi5r946lZ/iLPh/ea/HhGRgHq3B5uO5+HlGfsDwpzrP9qArhN3YUl8Fqpq+SBkIro0OuwprUh6piMiG5FueGSMDgtu3ZkzKsQ51Lu7CnFmHA3BG6OqS4EB1/pCnC8fav7rEREJSysox8B1SXBGbAoIc5wRmxCx9jhS88ukyyQik9FhT2lF0jMdEdmIdMMjY3RYcOsLClSIc6SXP8QZd3BcaAqY2uHfd+NcA1SXhOaaRETCvnkQcpeJgQ9Cvv6jDXhx+l6sSzyD2nqPdKlEZAI67CmtSHqmIyIbkW54ZIwOC667uFiFOEmv+UOcwfsGh6aAqH/5f1J1cktorklEpAmv14vD2cV4f1kibv4kOiDMuWfwFozaxNeUE9GF6bCntCLpmY6IbES64ZExOiy4nooKFeKc+Kv/mTgfxn0YmgKOrfSHOFsHhuaaREQaKq6sxYyd6fjd6O2Nvqa8x+wD2Hw8D/Vu3p1DRA3psKe0IumZjohsRLrhkTE6LLje2loV4qR2f0mFOH229glNAWV5/hBnxuOhuSYRkca8Xi/2pJ7D/y04iDb9Al9T3n7oVoyLSUFuSZV0qUSkCR32lFYkPdMRkY1INzwyRocF1+v1qhAn/YUXVIjzavSroSti0n2+EGfAdUANH+hJRPSN/NJqTIo9iQeHxwaEOb/5eAN6RX6N2OSzcHv4mnIiO9NhT2lF0jMdEdmIdMMjY3RZcF23OeEKC0fGs8+h7by2cEY68dza50JXwIb3/XfjpGwO3XWJiEzC7fFiW3I+ekV+jd98HPgg5AeGbcUXW07y7hwim9JlT2k10jMdEdmIdMMjY3RZcJPvutt3J84fu+HhJQ/DGenEkyueDF0BSWv9Ic6m/qG7LhGRCZ0prsK4mBS0H7qVd+cQEQB99pRWIz3TEZGNSDc8MkaXBffEfe3gCgtH2lN/QOeVneGMdOKhxQ+FroDKQt8rxiOuBqaG8LpERCZW7/ZgS9JZ9JwT3+jdOfcP8z0753Qx784hsjpd9pRWIz3TEZGNSDc8MkaXBTflwYd8DzZ+7HE8v+55OCOduHPunfB6Q/hfcad19N+NU1kYuusSEVnA6eIqjG3i7pwbPt6A12YfwKbjeajjm62ILEmXPaXVSM90RGQj0g2PjNFlwT35yKMXJllmAAAgAElEQVRwhYXj5MOP4PVNr6uHG1fVh/C/3m7+xB/iJK0J3XWJiCzkm7tzXm/i7px7h2zBiI3JyDxfIV0qEQWRLntKq5Ge6YjIRqQbHhmjy4Kb+tjjcIWFI+XBh/B27NsqxCmoLAhdESdj/CHOhr6huy4RkUXlllThiy2Nv9nq+o824C9f7cOaw6dRXeeWLpWILpMue0qrkZ7piMhGpBseGaPLgpv21B/gCgvHifvaof+u/irEySjJCF0RNeXAwJ/5QpyJ94TuukREFuf2eLHtRD7emHcQbfpFBYQ5dw7cjIi1x5GcVypdKhFdIl32lFYjPdMRkY1INzwyRpcFN/2P3eAKC0fyXXdj6P6hKsQ5WnA0tIXMfMJ/N07pmdBem4jIBvLLqjF1RxoeHb290btzuk3ahYX7s1BWXSddKhFdBF32lFYjPdMRkY1INzwyRpcFN+PZ5+AKC4frNicmHJqgQpy9Z/aGtpDYIf4QJ3FJaK9NRGQjXq8X+9LP45+LE3DzJ9EBYU74pxvRd2kiDmQUhvYh90R0SXTZU1qN9ExHRDYi3fAuZODAgRg0aBA8Ho/639/3N2jQIOGqm4cuC+6pF1/yhThh4Zh1dKYKcWIyY0JbSMZOf4iz+q3QXpuIyKZKKuswd+8pdJ6ws9G7cx4dvR1Ttqciv7RaulQiaoIue0qrkZ7piMhGpBvehbRo0QItW7ZEbW2t+t/f99eyZUvhqpuHLgtu5suvqBBn2bGFKsRZdXJVaAupqwYG/5cvxBl3G8D/+ktEFFLHTpfg09XH4IzYFBDm3NgvCq/PicfGY3xVOZFudNlTWo30TEdENiLd8C4kMzMTmZmZAf/7+/6sSJcFN6tnTxXiRB9fpUKceUnzQl9M5B/9d+MUpof++kREhOo6N1YnnMZfvtrX6N05bQfFYPD6JJzIK5MulYigz57SaqRnOiKyEemG15zq6uoQFxeHkpIS6VIumy4Lblbv3irE2ZkUrUKcLxO/DH0xO8f4Q5yDc0J/fSIiaiDrfCXGbj6B+4dtbfJhyPP2ZaKkig9DJpKiy57SaqRnOiKyEemG15zOnj2Lli1bIjY2VrqUy6bLgpvdp48KcQ4lxaoQZ1T8qNAXk/O1P8RZ3jP01ycioka5PV7sSCnAWwsP4bf9Ax+GfPMn0Xh7UQLiUgrg9vDnsEShpMue0mqkZzoishHphteczp49ixYtWjDECaKcd99VIc4J124V4kTsiQh9Me56YOj/+kKcUW34XBwiIg0VV9Yics8pdJnY+MOQ7x+2FaM2JSPjXIV0qUS2oMue0mqkZzoishHphtecGOIE3+l//UuFONnJX6sQp+/2vjIFLXzBfzfO2SSZGoiIyJDjZ0oQsfY47hq4udFA57kv92DxgSyUVfPnVkTNRZc9pdVIz3REZCPSDa85McQJvjP9+qsQ53xyogpx3oh5Q6agvZP9Ic6+qTI1EBHRRampd2PjsVy8PiceN/aLCghzwj6NxjuLE7DzJH9uRRRsuuwprUZ6piMiG5FueM2JIU7w5X4eoUKcyqTjKsTpHtVdpqC8Y/4QZ9FfZGogIqJLll9WjelxaXh87I4mf241cmMy0grKpUslsgRd9pRWIz3TEZGNSDe85sQQJ/jyBg9RIU7V0aNot6AdnJFOPL36aZmCPB5g5G98Ic6wXwEet0wdRER0WbxeL47kFOPzNcdwZxM/t3p68m7M23sKxZW10uUSmZYue0qrkZ7piMhGpBtec2KIE3xnR4z034lz6BA6Le0EZ6QTnZZ1kitq6av+u3FOH5Srg4iIgqKm3o3oo7noFdn4z61u6h+FN+YdxObjeait90iXS2QquuwprUZ6piMiG5FueM2JIU7w5Y8dp0Kcin370W11NzgjnWi/sL1cUfEz/SHOzrFydRARUdAVlNVgxs50/OGLxt9udfegGHy+5hgSs4vh5VsKib6XLntKq5Ge6YjIRqQbXnNiiBN8BRMmqhCnfNdudN/QXT0Xxy31U6bzaf4QJ7KrTA1ERNTsXLmlGLw+CfcM3tJooNNpzHZM3paK08VV0qUSaUuXPaXVSM90RGQj0g3vUuzcuRPvvPMOOnfujM6dO+Odd95pdCGqrq5GZGQkzp49K1BlcOmy4J6bOlWFOGXbtqF3TG8V4pTVlskU5fUC42/3hTgD/xOoEaqDiIhCot7twbbkfLy18BB++0l0o4HOi9P3Yml8Nkr5unKiBnTZU1qN9ExHRDYi3fAuhsfjQc+ePdGyZUu0aNGiwV/Lli3Ro0cPeDzW/G28Lgvu+ZkzVYhTunkz3tv+ngpxcstz5Qrb8L7/bhzXerk6iIgopEqq6rD4QBaen7a30TDn5k+i8dbCQ9jqOos6tzX3CEQXQ5c9pdVIz3REZCPSDe9iDBs2DC1atECXLl2wZ88elJSUoKSkBLt370bnzp3RsmVLDBs2TLrMZqHLgls4d64KcUo2bMDnez5XIc7JopNyhaVs8oc4696Rq4OIiMRkF1Zi4taTeHT09kYDnbaDYhCx9jgSsor4/ByyLV32lFYjPdMRkY1IN7yL0aZNGzz88MONbrw8Hg86duyINm3aCFTW/HRZcIsWLVIhTvHq1RgZP1KFOAn5CXKF1VYCg/6fL8QZe6vvJ1ZERGRLXq8XCVlF+HzNMdw9KKbRQOeRUdswfksKTp2rkC6XKKR02VNajfRMR0Q2It3wLsaPf/xjTJgwocnjX3zxBX7yk5+EsKLQ0WXBLVq2zB/iLF+OLw9/qUKcnTk7RWvDvGf8d+OcTZKthYiItFDn9mBL0tkLPj/n6cm7MWd3Bs6V10iXS9TsdNlTWo30TEdENiLd8C5GmzZtMGTIkCaPDxkyBDfddFMIKwodXRbc4tWrVYhTtGgR5h6fq0Kc6Ixo0dqw70t/iLP7C9laiIhIO6XVdVj6dTb+8tU+3PBxYJhzY78ovDrrAFYl5KCipl66XKJmocue0mqkZzoishHphncxhg4dijZt2qCkpCTgWFFREW688UY+E6eZlWzYoEKcwrlzserkKhXiLEtZJlobzqX6Q5w5XWRrISIireWWVGF6XBqe+mJno3fnhH0ajX8sSsBW11nU1vOByGQduuwprUZ6piMiG5FueBcjNjYW9913H1q3bo3hw4dj7dq1WLt2LYYNG4bWrVujXbt22LZtG+Li4hr8WYEuC27p5s0qxDk/cyY2n9qsQpzZx2aL1gavF/jiDv+rxqtLZeshIiJTOJFXhhEbk/Hg8NhGA507B25Gv1VHsT/9PDwePnONzE2XPaXVSM90RGQj0g3vYjT2WvHvvm78m8+++bxly5bSZQeFLgtu2bZtKsQ5N3Uq9pzZo0KciQkTRWsD8J1Xja+TroaIiEzE4/HiQEYh+q86ijsHbm400Ll/2FYMi3Lh+JkSvuGKTEmXPaXVSM90RGQj0g3vYkRGRl7SnxXosuCW79qtQpyCiZNwpOCICnGG7dfgp2wpm/0hztq3pashIiKTqq33PRD57UUJCP90Y6OBTqcx2/HFlpPI4BuuyER02VNajfRMR0Q2It3wyBhdFtyKfftViJM/dhzSS9JViNN/V3/R2gB851Xjt/BV40REdNkqauqx5vBp9JwTjzb9ohoNdLpO3IWv4tKRW1IlXS7RBemyp7Qa6ZmOiGxEuuGRMbosuJWHDqkQ5+yIkcivzFchzjux74jWpsz7E181TkREzaKwohbz92Xi+Wl7Gw1zrv9oA56fuhfz9mXyleWkJV32lFYjPdMRkY1INzwyRpcFt+roURXi5A0egsq6ShXi9NrUS7Q25duvGt81XroaIiKyqNySKnwVl44uExt/w9WN/aLwysz9WPp1Nkqq6qTLJQKgz57SaqRnOiKyEemGR8bosuBWJyerECf38wh4vV7cOfdOOCOdeGH9C6K1KefT+KpxIiIKqfSCcozfkoJOY7Y3Gujc1D8Kr8+Jx+qE0yivqZcul2xMlz2l1UjPdERkI9INj4zRZcGtSUtTIc6Z/r5n4Dy46EE4I53oskqjwOSLO//9qvGf8VXjREQUMl6vF0lnSjFiYzIeGtH4K8tv/iQab8w7iPVHzqCyloEOhZYue0qrkZ7piMhGpBseGaPLglubmalCnNP/+hcA4InlT8AZ6cTDSx4Wra2BqA/4qnEiIhLl9XpxOLsYA9clod3QLY0GOuGfbkSfhYew8Vguquvc0iWTDeiyp7Qa6ZmOiGxEuuGRMbosuHVnzqgQJ+fddwEAz659Fs5IJ+6Zf49obQ00eNX4P6SrISIim/N4vNiffh6frj6GewbHNBro3PrZRryzOAGbj+cx0KFmo8ue0mqkZzoishHphkfG6LLg1hcUqBAnu08fAMCr0a+qhxvXuTV5cOO3XzU+JpyvGiciIm3Uuz3YnXoOH604gjsHbm400HF+vgnvLjmMLUlnUVPPQIeCR5c9pdVIz3REZCPSDY+M0WXBdRcXqxAnq3dvAMBbW99SIU5RdZFofQ3Mf/Zbrxo/Ll0NERFRgDq3BztSCvDBskTcHrGpyUDnvSWHsdXFQIcuny57SquRnumIyEakGx4Zo8uC66mo8Ic4PXsCAP4V9y8V4mSXZovW18C+qXzVOBERmUZtvQfbkvPRd2kinJ83EehE+AKdLUln+ZMruiS67CmtRnqmIyIbkW54ZIwuC66ntlaFOJmv/BUAMGjvIBXiuM67ROtr4NuvGp/1pHQ1REREhtXUu7HVdRbvLT3cZKBz2+eb8M/FCdjEZ+jQRdBlT2k10jMdEdmIdMMjY3RZcL0ejwpxTr34EgBg7MGxKsSJz4sXrS/ApHv/HeRcA5TnS1dDRER00Wrq3diSdBbvLWk60Ln1s434x6IERB/NRVUtAx1qmi57SquRnumIyEakGx4Zo9OC67rNCVdYODKefQ4A8NWRr1SIsy1rm3B137FlgP9unINzpKshIiK6LN/codN3aSKcTTxDJ/zTjfi/BQexLvEMKmrqpUsmzei0p7QS6ZmOiGxEuuGRMTotuMl33Q1XWDjS/9gNALDQtVCFOOvS1glX9x2nD/pDnPnPSVdDREQUNLX1Hmw7kY8PliXijgGNv+Xq5k+i8be5X2PloRyUVGnyBkkSpdOe0kqkZzoishHphkfG6LTgnrivHVxh4Uh76g8AgHVp61SIsyh5kXB13+H1AmNv8YU4g34OVJdKV0RERBR0dW4P4lIK8PHKI7h7UEyjgc5N/aPw6qwDWHQgC+fLa6RLJiE67SmtRHqmIyIbkW54ZIxOC27Kgw/BFRaO1Md/DwCIzYpVIc5XR74Srq4RUR/478Y5uly6GiIiomZV7/ZgT9o5fLr6GO4dsqXRQOc3H2/Ai9P3Ys7uDOSWVEmXTCGk057SSqRnOiKyEemGR8botOCefPgRuMLCcfKRRwEA8XnxKsQZd3CccHWNSN/hD3GW9ZCuhoiIKGTcHi/iTxVi4LokPDg8ttFA5/qPNuDpybsxdUcaMs5VSJdMzUynPaWVSM90RGQj0g2PjNFpwU197HG4wsKR8uBDAICk80kqxBm0d5BwdY1w1wMjrveFOEN/CdRVS1dEREQUcl6vF4nZxRgenYxHRm1rMtB5Ylwcxm4+geNnSuD1eqXLpiDTaU9pJdIzHRHZiHTDI2N0WnDTnvoDXGHhOHFfOwBAdmm2CnE+jPtQuLomrHrTfzdOyibpaoiIiER5vV6cyCvDF1tO4qkvdjYZ6Dw0IhaD1ifhQEYh3B4GOlag057SSqRnOiKyEemGR8botOCm/7EbXGHhSL7rbgBAYXWhCnHe2vqWcHVNSN7gD3HW9JGuhoiISCuZ5yswPS4Nf5qyu8lA557BMfhoxRHEJp9FdZ1bumS6RDrtKa1EeqYjIhuRbnhkjE4Lbsazz8EVFg6X83YAQK27VoU4r0a/KlxdE+qqgCH/7QtxRt4IeLj5JCIiaszZ0mrM25eJV2buR5t+UY0GOrd+thFvLTiENYdPo7Sary43E532lFYiPdMRkY1INzwyRqcF99QLL/pCnLBw9Vv5tvPawhnpxLNrnxWu7gKWvOy/G+fUbulqiIiItFdSWYeVh3LQe97XCPs0uslXl78ycz/m7T3FN12ZgE57SiuRnumIyEakGx4Zo9OCm/nyK/4Qp7YWAPDwkofhjHTiyRVPCld3AYlL/CHOxo+lqyEiIjKVqlo3Nh/Pw/vLEnHnwM1N/uzqj5N2YVLsSZzIK+ODkTWk057SSqRnOiKyEemGR8botOBm9eypQhxPhe9VpJ1XdoYz0okHFz0oXN0FVBUBA3/mC3HGOQFuLImIiC5JvduDvWnnEbH2+AVfXd5x5DYMWp+EfennUe/2SJdN0GtPaSXSMx0R2Yh0wyNjdFpws3r3ViGOu7gYAPDC+hfgjHTizrl36v1f3eY9478bJzdRuhoiIiLT83q9OH6mBONiUvCHC7zp6q6Bm/He0sPYeCwXFTX10mXblk57SiuRnumIyEakG55uVq5cifbt2+OnP/0prr32WnTt2hVHjhy5pHMdPnwYP/zhD+FwODBnzpzLqkunBTe7Tx8V4tSfOwcAeH3T6+rhxpV1lcIVXkD8TH+IEztEuhoiIiLLyS6sxKxdGXhp+j7c2MSDkX/bPxo9Zh/A/H2ZyCupli7ZVnTaU1qJ8EhHRHYi3fB0MnPmTDgcDjidTkyaNAmjR4/Gr3/9a1x55ZVITLy4uzbq6+vRtm1bXHnllZYLcXL++a4KcepycwEA78S+o0KcgsoC4QovoCwPiLjGF+JMuV+6GiIiIksrrqzF6oTTeGvBIdz62cYm79LpOnEXxm9JwbHTJXrf0WsBOu0prUR2oiMiW5FueLooKirC1VdfjdatW6O0tFR9npWVhVatWqFjx44Xdb7hw4fjqquuwuDBgy0X4pz+4F8qxKnNygIA9N/VX4U46SXpwhV+jxmP++/GOZ8mXQ0REZEt1NS7sf1EPj5ZfRTth25tMtC5f9hW9F91FNtO5KO6zi1dtuXotKe0EuGRjojsRLrh6WLOnDlwOBwYMGBAwLEePXrA4XDg1KlThs6VkpKCn/zkJ5g4caI6r5VCnDP9+qsQpybNF4IM2z9MhThHC44KV/g9dn/hD3F2fyFdDRERke14vV4cO+17jk7nCU0/R+eWzzbi73O/xtL4bOSX8WdXwaDTntJKRAc6IrIX6YanizfffBMOhwMxMTEBx6ZPnw6Hw4GlS5d+73m8Xi86dOiA9u3bw+PxWDLEyf08QoU41S4XAGDCoQkqxNlzZo9whd/jfJo/xPmqk3Q1REREtnemuArz9mXi1VkH8Nv+0U2GOt0m78aErSdx/Ax/dnWpdNpTWonoQEdE9iLd8HTRtWtXOBwOuP4dSnxbVFQUHA4Hxo4d+73nmTx5Mn70ox/h6FHf3SiXEuJkZmYiLi6uwd/EiRO1WXDPjhipQpzKgwcBALOPzVYhTkxmYBCmnS8f8gc5hRnS1RAREdG/VdTUY+OxPHywLBFtB8Vc8GdX/VYdxVbXWVTV8mdXRjHEaR6iAx0R2Yt0w9NFp06d4HA4kJ4e+DyX2NhYOBwODB48+ILnyMrKwlVXXYV+/fqpzy4lxImIiIDD4Wj0T4cFt2DyZBXilO/YAQBYemKpCnFWnVwlXKEBu8b7Q5y4UdLVEBERUSPcHi8OZRVh1KZkPDk+rslA5+ZPotFzTjzm7cvE6eIq6bK1xhCneUjNckRkQ9INTxfBuBPnqaeewk033YTqav9vtq14J07h3LkqxClZvwEAEJ0RrUKceUnzhCs0oDjbH+JMbgfwlmwiIiLt5RRVYt7eU76fXX3S9M+unhwfhxEbkxF/qhD1bo902VphiNM8RAc6IrIX6Yani8t9Js6qVavgcDgwffp0pKamqr+RI0fC4XBg5MiRSE1NRWVl5SXVp9OCW7xipQpxihYvAQDE5cSpEOfLw18KV2jQrCf9QU7eMelqiIiI6CJU1tYjJuksPl55BO2Gbmky0LljwGb8Y1ECViXkoLCiVrpscTrtKa1Ecp4jIpuRbni6mD17NhwOBwYOHBhw7LXXXoPD4UBGRtPPThk/fnyTP4H69t/69esvqT6dFtzSzZtViHN+xgwAQEJ+ggpxRsWb5OdJ8TP8IU7M59LVEBER0SX65m1XE7aeRLfJu3HDx40HOjd8vAHPTPE9HPnY6RJ4PPa7E1enPaWViAxyRGRP0g1PF0VFRbjqqqvQunVrlJaWqs+zsrLQqlUrdOjQQX1WWVmJ5ORk5Obmqs9SU1OxfPnygL8+ffrA4XCgT58+WL58OfLy8i6pPp0W3Io9e1SIkz9+PAAgpShFhTif7zFJIFJxDhhwnS/EGXcb4OHt1kRERFZwrrwGKw7m4K2Fh+CM2NTkXTr3DtmCD5YlIupoLkqr66TLDgmd9pRWIjzSEZGdSDc8nUybNg0OhwNOpxOTJk3CmDFjcP3116NVq1ZISEhQ39u+fTscDgd69Ojxvee04ivGq44cUSFO3iDfw55zy3NViNN3e1/hCi/C/Of8d+Nk7ZOuhoiIiIKszu3BvvTzGBblwu/H7Wgy0LmxXxSen7YXU7anIulMqWVfYa7TntJKRAc6IrIX6Yanm+XLl6Ndu3a44oorcM0116BLly5ITExs8B27hzg16RkqxDnz4UcAgNLaUhXi9I7pLVzhRUhc4g9xNpgofCIiIqJLklNUifn7MtErMh7hn25sMtRpP3QrPlx+xHJ36ei0p7QS2YmOiGxFuuGRMTotuHX5+SrEye7TBwDg9rhViNM9qrtwhRehpgwY/F++EGfkbwC3dTZpREREdGHVdW7sSCnAgHXH8bvR2y98l87UvZi8LRXHz5SY+i4dnfaUViI90xGRjUg3PDJGpwXXU1WlQpzMV3uoz9staAdnpBPdVneTK+5SLOvhvxvn5BbpaoiIiEhI5vkKRO45hR6zD+DmC7zC/N4hW9B3aSLWJp5BkcneeKXTntJKpGc6IrIR6YZHxui04Hq9XrhuvQ2usHBkPPuc+rzTsk5wRjrRaVknweougWu9P8RZaaKfghEREVGzqa5zY/uJ/O+9S+eGjzfg6cm7MTYmBQczi1Dv1vtFCTrtKa1EeqYjIhuRbnhkjG4Lbkq79nCFhSP1iSfUZ91Wd4Mz0ol2C9oJVnYJ6muAYb/yhThDfwnUVUlXRERERJrJOl+JuXtPoeecCz9L5/aITXhrwSEsic9Cbol+ewrd9pRWIT3TEZGNSDc8Mka3BTe102NwhYUj5cGH1Gfdo7qr5+K4PW7B6i7Bmj7+u3GOr5KuhoiIiDRWU+/G7tRzGBrlwhPj4poMdK7/aAN+P24HBq9Pwo6UAlTXye+PdNtTWoX0TEdENiLd8MgY3Rbc9G5PwxUWjuTb71Cf9Y7prUKc0tpSweouQfp2f4iz2EQPZiYiIiJxuSVVWBKfhbcWHMLtEZuaDHRu/iQar8zcj6/i0nEir0zkAcm67SmtQnqmIyIbkW54ZIxuC+6pl19WDzf21Poe6Nd3e18V4uSW5wpXeJE8bmD0b30hzqCfA1XF0hURERGRCdW7PTiYWYRxMSl4Zspu/Objpu/SaTd0CxYfyAppfbrtKa1CeqYjIhuRbnhkjG4LbnbvN1SIU19UBAD4fM/nKsRJKUoRrvASbPzYfzfOoXnS1RAREZEFFFfWYsORXHy04ggeGLY1IMhZc/h0SOvRbU9pFdIzHRHZiHTDI2N0W3BPv/+BCnFqs3z/BWlU/CgV4hw6e0i4wkuQc9Af4kR2la6GiIiILMbr9SI1vxyzdmXgtdkHcOtnG3G+vCakNei2p7QK6ZmOiGxEuuGRMbotuLkRESrEqU5KAgBMPzJdhTixWbHCFV4CrxeYcJc/yCk6JV0RERERWVidwOvIddtTWoX0TEdENiLd8MgY3Rbc/NGjVYhTsf8AAGDlyZUqxFl6YqlwhZdo5xh/iBM7RLoaIiIioqDSbU9pFdIzHRHZiHTDI2N0W3DPTZ2mQpyyWN9dN3E5cSrE+fLwl8IVXqLSXGDAtb4QZ+wtvgceExEREVmEbntKq5Ce6YjIRqQbHhmj24JbOH+BCnFK1qwBABw/f1yFOIP2DhKu8DIsfMF/N87JLdLVEBEREQWNbntKq5Ce6YjIRqQbHhmj24JbsmaNCnEKFywAAJytOKtCnHdi3xGu8DK41vtDnKV/la6GiIiIKGh021NahfRMR0Q2It3wyBjdFtyyrVtViHNu2nQAQJ2nToU43aO6C1d4Gdx1wKibfCHOwP8EKs5JV0REREQUFLrtKa1CeqYjIhuRbnhkjG4LbsX+AyrEyR8zRn3ecXFHOCOdeHLFk4LVBcHmT/134+yZJF0NERERUVDotqe0CumZjohsRLrhkTG6LbhVx4+rECd3wAD1+TNrnoEz0ol75t8Dr9crWOFlOnfSH+JMbud7/TgRERGRyem2p7QK6ZmOiGxEuuGRMbotuLWZmSrEOf3+B+rzv23+m/pJVVltmWCFQTDrSX+Qkx0vXQ0RERHRZdNtT2kV0jMdEdmIdMMjY3RbcOsLC1WIk/3Gm+rzj3d+rEKcjJIMwQqDIGGBP8RZ00e6GiIiIqLLptue0iqkZzoishHphkfG6LbgemprVYhz6uWX1edjvh6jQpz4PJPfvVJbAQz9X1+IM/SXQE25dEVEREREl0W3PaVVSM90RGQj0g2PjNFxwU2+/Q64wsKR/vQz6rPI45EqxNmYsVGwuiBZ+7b/bpxD86SrISIiIrosOu4prUB6piMiG5FueGSMjgtuygMPwhUWjtTHHlefrU9fr0Kc+UnzBasLkpyD/hBn5u+lqyEiIiK6LDruKa1AeqYjIhuRbnhkjI4Lburvn4ArLBwp7dqrz/bl7lMhzviD4wWrCxKvF5hyvz/IKTghXRERERHRJdNxT2kF0jMdEdmIdMMjY3RccDP+9KzvuTi3OdXrxFOLUlWI88muT4QrDKyHaVoAACAASURBVJK9U/whzqb+0tUQERERXTId95RWID3TEZGNSDc8MkbHBTfzr6+qhxt7qqoAAMXVxSrEeWPLG8IVBknFeWDgf/pCnJG/AeqqpSsiIiIiuiQ67imtQHqmIyIbkW54ZIyOC272W31UiFNfUAAA8Hg9uGveXXBGOvHndX8WrjCIlvf0342TsEC6GiIiIqJLouOe0gqkZzoishHphkfG6LjgnvnwQxXi1KRnqM8fW/YYnJFOPLr0UcHqgiz7gD/EmdrB96wcIiIiIpPRcU9pBdIzHRHZiHTDI2N0XHDzBg1WIU7V0aPq8xfXvwhnpBN3zL0Dbo9bsMIg8nqB6Y/4g5ysfdIVEREREV00HfeUViA90xGRjUg3PDJGxwU3f9x4FeJU7N2rPu+ztY96Ls65qnOCFQbZ4UX+EGdZD+lqiIiIiC6ajntKK5Ce6YjIRqQbHhmj44J77quvVIhTunmz+jxiT4QKcZILkwUrDLL6GmBUG1+IM+A6oOS0dEVEREREF0XHPaUVSM90RGQj0g2PjNFxwS1avFiFOMUrV6nPJyZMVCHOrtO7BCtsBrFD/HfjbB0kXQ0RERHRRdFxT2kF0jMdEdmIdMMjY3RccEvWrVchTuHcuerzRcmLVIizOnW1YIXNoDQXGPgzvm6ciIiITEnHPaUVSM90RGQj0g2PjNFxwS3bvl2FOAVTpqjPYzJjVIgz4+gMwQqbybdfN354oXQ1RERERIbpuKe0AumZjohsRLrhkTE6LriVX3+tQpyzI0aqzxPyE1SIM+LACMEKmwlfN05EREQmpeOe0gqkZzoishHphkfG6LjgVicnqxAn99PP1OfZZdkqxPlgxweCFTYTvm6ciIiITErHPaUVSM90RGQj0g2PjNFxwa3NOa1CnNPvvac+r6yrVCHOaxtfE6ywGSUu/tbrxi36/5GIiIgsR8c9pRVIz3REZCPSDY+M0XHBdRcXqxAn629/b3Cs/cL2cEY60XVVV6HqmhlfN05EREQmpOOe0gqkZzoishHphkfG6LjgeuvrVYhz6qW/NDjWZVUXOCOdeGDhA0LVhQBfN05EREQmo+Oe0gqkZzoishHphkfG6LrgJt91N1xh4Ujv2vCOm1ejX1U/qaqut+hruL/7uvHaSumKiIiIiC5I1z2l2UnPdERkI9INj4zRdcE92aEjXGHhOPno7xp83nd7XxXinC638E+NVvTy342zf5p0NUREREQXpOue0uykZzoishHphkfG6Lrgpj31B7jCwnHinnsbfD5s/zAV4iQWJApVFwJ5x/whzthbgfpa6YqIiIiImqTrntLspGc6IrIR6YZHxui64Gb8+Xnfc3HCb4HX41Gff3XkKxXibM3aKlhhCCx8wR/kJCyQroaIiIioSbruKc1OeqYjIhuRbnhkjK4LblbPnurhxu7yCvX5qpOrVIiz9MRSwQpDIGu/P8SZeA/gcUtXRERERNQoXfeUZic90xGRjUg3PDJG1wU35x9vqxCnLi9PfR6XE6dCnCmHpwhWGCKz/+APcpLWSFdDRERE1Chd95RmJz3TEZGNSDc8MkbXBfdMv/4qxKlJTVWfJ51PUiHOwL0DBSsMkZNb/CHOtIcBr1e6IiIiIqIAuu4pzU56piMiG5FueGSMrgtu3tChKsSpTEhQn+dX5qsQ5+3YtwUrDBGvF5jawR/kpFr8OUBERERkSrruKc1OeqYjIhuRbnhkjK4LbsGECSrEKd+5S31e56nD7ZG3wxnpRPcN3QUrDKHjq/whzpwu0tUQERERBdB1T2l20jMdEdmIdMMjY3RdcM/Pmq1CnNLo6AbHHl7yMJyRTjyx/Amh6kLM4wYmtvUHOdkHpCsiIiIiakDXPaXZSc90RGQj0g2PjNF1wS1aulSFOEXLljU49qe1f4Iz0om289rCa5dnxBya5w9xFr4oXQ0RERFRA7ruKc1OeqYjIhuRbnhkjK4Lbml0tApxzs+e0+DY3zf/XT0Xp7S2VKbAUKuvBcbe4g9yzh6XroiIiIhI0XVPaXbSMx0R2Yh0wyNjdF1wy3fuVCFOwYSJDY7129lPhTjpJelCFQrYO8Uf4qzoJV0NERERkaLrntLspGc6IrIR6YZHxui64FYmJKgQ5+ywYQ2Ojf16rApx4vPihSoUUFsBjLjBF+IMuBYoSJGuiIiIiAiAvntKs5Oe6YjIRqQbHhmj64Jbc/KkCnHO9Ovf4Fjk8UgV4kRnRDdxBouKG+2/G2fpq9LVEBEREQHQd09pdtIzHRHZiHTDI2N0XXDrcnNViJPz9jsNjm1I36BCnHlJ84QqFFJTDoxq4w9yzhyWroiIiIhI2z2l2UnPdERkI9INj4zRdcF1l5erECerZ88Gx/bn7lchzriD44QqFLRvqj/Emf+cdDVERERE2u4pzU56piMiG5FueGSMrguu1+OBK/wWuMLCkfH8Cw2OpRWnqRCn/67+TZzBwuprgHG3+YOczD3SFREREZHN6bqnNDvpmY6IbES64ZExOi+4J+65F66wcKT9oXODz0tqSlSI80bMG0LVCUuY7w9xZj0JeL3SFREREZGN6bynNDPpmY6IbES64ZExOi+4Jx95FK6wcJzs0LHB516vF3fNuwvOSCeeW2vTnxO564GJ9/iDnJMx0hURERGRjem8pzQz6ZmOiGxEuuGRMTovuGldusAVFo7ku9sGHHt8+eNwRjrxyJJHQl+YLo6v8oc4UzsAHo90RURERGRTOu8pzUx6piMiG5FueGSMzgvuqRdfUg839tbXNzj20vqX4Ix04o65d8DtcQtVKMzjAaZ19Ac5x1ZKV0REREQ2pfOe0sykZzoishHphkfG6LzgZvX6mwpx3CUlDY79Y+s/1HNxzlWdE6pQAye3+EOciW19P7MiIiIiCjGd95RmJj3TEZGNSDc8MkbnBTfn3XdViFObc7rBsYg9ESrESS5MFqpQA14vMOspf5BzaJ50RURERGRDOu8pzUx6piMiG5FueGSMzgtu7qefqhCn+sSJBscmJUxSIc7OnJ1CFWoic68/xBl7K1BXJV0RERER2YzOe0ozk57piMhGpBseGaPzgnt2xEgV4lR+/XWDY4uTF6sQZ9XJVUIVamTBn/1Bzo5R0tUQERGRzei8pzQz6ZmOiGxEuuGRMTovuAWTJ6sQp2z79gbHtmRuUSHOjKMzZArUSb4LGHCdL8QZ8t9Ayenv/zdEREREQaLzntLMpGc6IrIR6YZHxui84BZGRqoQp2T9hgbHDucfViHO8APDhSrUTNS//HfjrOglXQ0RERHZiM57SjOTnumIyEakGx4Zo/OCW7xipQpxihYvbnAsuyxbhTjv73hfqELNVBYCI27wBzlZ+6QrIiIiIpvQeU9pZtIzHRHZiHTDI2N0XnBLN21WIc75GQ1/MlVZV6lCnB4be8gUqKP4Gf4QZ9rDgMcjXRERERHZgM57SjOTnumIyEakGx4Zo/OCW7Fnjwpx8seNDzjefmF7OCOd6Lqqq0B1mnLXA1Me4CvHiYiIKKR03lOamfRMR0Q2It3wyBidF9yqI0dUiJM3aHDA8S6rusAZ6cT9C+8XqE5jGXH+EGdUG6C6RLoiIiIisjid95RmJj3TEZGNSDc8MkbnBbcmPV2FOGc+/DDg+KvRr6qfVFXVVwlUqLElr/iDnM2fSFdDREREFqfzntLMpGc6IrIR6YZHxui84Nbl56sQJ/utPgHH+27vq0KcnLIcgQo1VpQJDPp/vhBn4H8C51KlKyIiIiIL03lPaWbSMx0R2Yh0wyNjdF5wPZWVKsTJfLVHwPHhB4arEOdw/uHQF6i72MH+u3EWPC9dDREREVmYzntKM5Oe6YjIRqQbHhmj84Lr9XrhuvU2uMLCkfGnZwOOzzg6Q4U4MZkxAhVqrrYCGBPuD3Jc66QrIiIiIovSeU9pZtIzHRHZiHTDI2N0X3BPtGsPV1g4Up94IuBYdEa0CnFmHJ3RyL8mHFvhD3FG3wxUFUtXRERERBak+57SrKRnOiKyEemGR8bovuCmdnoMrrBwpDzwYMCx5MJkFeJ8sosP722U1wss+LM/yFn3jnRFREREZEG67ynNSnqmIyIbkW54ZIzuC256t6fhCgtH8u13BByrrKtUIU73qO4C1ZlEcTYw9Jf+IOfULumKiIiIyGJ031OalfRMR0Q2It3wdLJy5Uq0b98eP/3pT3Httdeia9euOHLkiKF/u27dOvTq1Qu33norrrzySvz85z/H/fffj1mzZqG+vv6ya9N9wT3V/WX1cGNPbW3A8d8v/z2ckU48sOgBeL1egQpNYv90f4gz4W6gjq9kJyIiouDRfU9pVtIzHRHZiHTD08XMmTPhcDjgdDoxadIkjB49Gr/+9a9x5ZVXIjEx8Xv//S9+8QvceOON6Nu3L2bMmIExY8bg3nvvhcPhQOfOnS87uNB9wc3u/YYKceoLCwOO947pre7GOVd1TqBCk/B4gBmP+4OcLQOkKyIiIiIL0X1PaVayEx0R2Yp0w9NBUVERrr76arRu3RqlpaXq86ysLLRq1QodO3b83nNs3bo1IKhxu93o0KEDHA4HoqKiLqtG3Rfc033fVyFObVZWwPFvv2Y8Pi9eoEITyU8GBv3cF+IMuA7IOypdEREREVmE7ntKsxIe6YjITqQbng7mzJkDh8OBAQMC73ro0aMHHA4HTp06dUnnnjBhAhwOB4YPH35ZNeq+4OZGRKgQp+r48YDjS5KXqBBn6YmlAhWazPYR/rtxpj0MuC//J3lEREREuu8pzUp0oCMie5FueDp488034XA4EBMTE3Bs+vTpcDgcWLr00oKHDz/8EA6HA7Nnz76sGnVfcPNHj1YhTsX+AwHH9+fuVyHOyPiRAhWaTH0tMLm9P8jZM1G6IiIiIrIA3feUZiU60BGRvUg3PB107doVDocDLpcr4FhUVBQcDgfGjh170efNycnBNddcg+uuuw6FjTwnpimZmZmIi4tr8Ddx4kStF9xzU6epEKds69aA4/mV+SrEeXPLmwIVmlD2ASDiGl+IM/gXwLlU6YqIiIjI5BjiNA/ZiY6IbEW64emgU6dOcDgcSE9PDzgWGxsLh8OBwYMHX9Q5y8vL0bZtW7Ro0QKrVq26qH8bEREBh8PR6J+uC27h/AUqxClZsybguNfrRfuF7eGMdOLJFU8KVGhS0R/678aZ/ijgrpOuiIiIiEyMIU7zEBvmiMh+pBueDoJ9J055eTk6duyIFi1aYMqUKRddjxnvxClevVqFOIXzFzT6nZfWvwRnpBO3R96O6vrqEFdoUrUVwMS2/iBn6yDpioiIiMjEGOI0D9mJjohsRbrh6SCYz8QpKyvDQw89hBYtWmDatGlBq1H3Bbds61YV4pyb2vj/7347+6mfVJ0oPBHiCk3sTAIw8Gf/DnKuAU7tlq6IiIiITEr3PaVZyU50RGQr0g1PB7Nnz4bD4cDAgQMDjr322mtwOBzIyMj43vOUlJTg/vvvR8uWLTFr1qyg1qj7gluxb78KcfLHjGn0O9OPTFchzqZTm0JcocntHOu/G2fcbUBVsXRFREREZEK67ynNSnaiIyJbkW54OigqKsJVV12F1q1bo7S0VH2elZWFVq1aoUOHDuqzyspKJCcnIzc3t8E5SkpK0K5dO/zgBz/AvHnzgl6j7gtu1fHjKsTJjYho9DsxmTEqxJmaODW0BZqdxw3M7uwPcpb3BLxe6aqIiIjIZHTfU5qV9ExHRDYi3fB0MW3aNDgcDjidTkyaNAljxozB9ddfj1atWiEhIUF9b/v27XA4HOjRo0eDf3/vvffC4XDg6aefxvz58wP+9u7de1n16b7g1mZmqhDn9PsfNPqd1KJUFeJ8GPdhiCu0gOJsYNiv/EFO4hLpioiIiMhkdN9TmpXoQEdE9iLd8HSyfPlytGvXDldccQWuueYadOnSBYmJiQ2+01SI42jibVLf/H33+xdL9wW3/vx5FeJk936j0e/Uumtxx9w74Ix04vl1z4e4Qos4tsIf4gz9X6DolHRFREREZCK67ynNSmiUIyI7km54ZIzuC66ntlaFOKdefrnJ73Ve2RnOSCfuW3AfvPw50KVZ9YY/yJn5e8BdL10RERERmYTue0qzkp7piMhGpBseGWOGBTfZeTtcYeFI7/Z0k9/ps7WP+klVXkVeCKuzkOpSYPzt/iAn5jPpioiIiMgkzLCnNCPpmY6IbES64ZExZlhwUx54EK6wcKR2eqzJ74yOH61CnL1nLu85QbaWfeBbrx2/GkhaI10RERERmYAZ9pRmJD3TEZGNSDc8MsYMC27q75+AKywcKe3aN/mdFSkrVIiz0LUwhNVZ0L6p33o+zi+BghPSFREREZHmzLCnNCPpmY6IbES64ZExZlhwM/70rO+5OLfe1uTzbg6dPaRCnCH7hoS4QovxeoEVvfxBzqR7fT+1IiIiImqCGfaUZiQ90xGRjUg3PDLGDAtu5l9fVQ839lRVNfqdouoiFeL02twrxBVaUG0FMOUBf5Cz5GVfuENERETUCDPsKc1IeqYjIhuRbnhkjBkW3Oz/e0uFOHX5+U1+r8PiDnBGOtFpWacQVmdh59OAYb/yBzm7xklXRERERJoyw57SjKRnOiKyEemGR8aYYcE98+GHKsSpSc9o8nuvRL2i7sapqKsIYYUWdmKjP8QZcC2Qvl26IiIiItKQGfaUZiQ90xGRjUg3PDLGDAtu3sBBKsSpOnKkye99tvszFeIcP388hBVa3Lah/iBnxA1AUaZ0RURERKQZM+wpzUh6piMiG5FueGSMGRbc/PHjVYhTfoE6Zx+brUKc9enrQ1ihxXk8wII/f+tBx/cBVcXSVREREZFGzLCnNCPpmY6IbES64ZExZlhwi5YtUyFO4YIFTX5ve/Z2FeJMTJgYwgptoKoImNjWH+TM6QLU10pXRURERJoww57SjKRnOiKyEemGR8aYYcGt2H9AhThnhw1r8nuZpZkqxHlv+3shrNAmCtOBkTf6g5yVvfnGKiIiIgJgjj2lGUnPdERkI9INj4wxw4Jbl5enQpzsN95s8nv1nnrcNe8uOCOd+NPaP4WwQhvJjgcG/5c/yNk2VLoiIiIi0oAZ9pRmJD3TEZGNSDc8MsYMC67X40Hy7XfAFRaOtM5dLvjdbqu7wRnpRNt5beH2uENUoc0krQUirvEHOQlN/8SNiIiI7MEMe0ozkp7piMhGpBseGWOWBTetSxe4wsKR7LwdXnfT4cw/t/1T/aQquyw7hBXazN7J/hBn4M/46nEiIiKbM8ue0mykZzoishHphkfGmGXBzf6/t9RPqurOnGnye18c+kKFOHE5ev9/MjWvF4j6wB/kDGsN5B2VroqIiIiEmGVPaTbSMx0R2Yh0wyNjzLLgnh0+QoU4Ffv2Nfm9tWlrVYgTeTwyhBXakMcNLHzRH+SMvBEoSJGuioiIiASYZU9pNtIzHRHZiHTDI2PMsuAWLVqkQpyipUub/N7RgqMqxInYExG6Au2qtgKY8Zg/yBkT5nuLFREREdmKWfaUZiM90xGRjUg3PDLGLAtu+e7dKsTJHz26ye+V1ZapEKfHxh6hK9DOqoqBqR38Qc6424BiPo+IiIjITsyypzQb6ZmOiGxEuuGRMWZZcGuzs1WIk/OPty/43UeXPgpnpBMPL3k4RNURKs4Dk9v7g5wv7gRKc6WrIiIiohAxy57SbKRnOiKyEemGR8aYZcH11tfDdZsTrrBwpHd7+oLf7bmpp7obp6SmJEQVEsrOAhPu9gc5k+4DKs5JV0VEREQhYJY9pdlIz3REZCPSDY+MMdOCm/bEk77XjN/dFl6vt8nvDdo7SIU4h/MPh7BCQkkOMN7pD3K+fAioLJSuioiIiJqZmfaUZiI90xGRjUg3PDLGTAtu1t//rn5SVV9Q0OT35ifNVyHOipQVIayQAABFp4Ax4f4gZ8oDvrt0iIiIyLLMtKc0E+mZjohsRLrhkTFmWnDzBg9RIU7lwYNNfu/Q2UMqxOm3s18IK6T/396dh1lZlg0AfxFFAbcvcyuTPs2dCg13AdNSUzJNTS0VrU8lkooSSdLAUERlUcAEBAHRBJFwQU1x37JExO2IK4sLgogCAjLMzP39ceTgNAOcAWbeOef8ftd1X5ec857jM/Po/Tz3zbvkfPRmxDW7rWrkXNcq4pNZaY8KAKgjhbSnLCRp13RACUk74ZGfQlpwPx49OtfE+WTCP1Z7XFl5Wex/y/7RclTLOOL2I9Z46RV1aP5b2SdVrWzk9NsrYt7raY8KAKgDhbSnLCRp13RACUk74ZGfQlpwFz366KrHjA8YsMZjz3/w/NzZODM+nVE/A6S6T9+NGPi9VY2cq3aJ+GBa2qMCADawQtpTFpK0azqghKSd8MhPIS24n7/9Tq6J816XLms8dsTLI3JNnHHTx9XTCKnR4nkRNxy6qpHT+xsRs/6V9qgAgA2okPaUhSTtmg4oIWknPPJTSAtuxfLlkdlr78jssWe8c9LJazz2lY9eyTVx/vDoH+pphKzW0k8ihh+1qpFz+Q4Rrz+Q9qgAgA2kkPaUhSTtmg4oIWknPPJTaAvum0ccGZk99ozprfdf471uyivK4+BbD46Wo1pGm9vaREVlRT2Okhot/yzi5hNWNXJ6bh3x7JC0RwUAbACFtqcsFGnXdEAJSTvhkZ9CW3Bnnn32qseML1iwxmM7P9w5dzbO9I+n19MIWaMVn0fc3mFVI6fHlhGT/hhRviLtkQEA66HQ9pSFIu2aDighaSc88lNoC+4Hf+mRa+IsnbbmG+Tekrkl18S5+dWb62mErFVFRcRDl1Vt5Iz5acSyhWmPDABYR4W2pywUadd0QAlJO+GRn0JbcOcPH5Fr4nx69z1rPPaNBW/kmjgXPHRBPY2QvE29JeKybVY1cq4/KOKTWWmPCgBYB4W2pywUadd0QAlJO+GRn0JbcBdNnpxr4swbPHiNx1ZWVkbbsW2j5aiWcdCtB8WKCpfsNDgznozo02JVI+fqXSNmPZv2qACAWiq0PWWhSLumA0pI2gmP/BTagrvs9ddzTZz3L7porcdf+NiFubNxXpr3Uj2MkFqb/1bEdfuuauRc9pWIZ66PWMONqwGAhqXQ9pSFIu2aDighaSc88lNoC27F0qW5Js6MU09b6/G3v357rolz40s31sMIWSdLPo4YeVzV++SMO8t9cgCgQBTanrJQpF3TASUk7YRHfgpxwX2jTdvI7LFnvH7wIWs9dtbCWbkmzrkPnFsPo2Odla+IePDSqo2cgftFfPhq2iMDANaiEPeUhSDtmg4oIWknPPJTiAvuzF+ckTsbp3zx4jUeW1lZGT8Y/4NoOapltB7TOpaXL6+nUbLOXpsU0fsbqxo5l+8QMW1s2qMCANagEPeUhSDtmg4oIWknPPJTiAvu+92755o4y15d+1ka3Z/snjsb57k5z9XDCFlvH78dccOhVc/Kmdgp4vNFaY8MAKhBIe4pC0HaNR1QQtJOeOSnEBfcj4YMzTVxFt5//1qPv+utu3JNnOtfuL4eRsgGUbY04q4LqjZyBnw7YuYzaY8MAPgvhbinLARp13RACUk74ZGfQlxwF95/f66J89GQoWs9fs5nc3JNnLPuO6seRsgG9cKtEVd87UvNnK2y985Z8XnaIwMAvlCIe8pCkHZNB5SQtBMe+SnEBXfpK6+sesx49+55fea4fxwXLUe1jFY3t4olZUvqeIRscAtmRIw4uupZOX87JOLDV9IeGQAQhbmnLARp13RACUk74ZGfQlxwyxctyjVxZp5xZl6fueyZy3Jn4zz93tN1PELqREV5xJMDIi7bZlUj569fjXiiX0R5WdqjA4CSVoh7ykKQdk0HlJC0Ex75KdQF9/WDD4nMHnvGG23b5XX8/TPuzzVx+k/pX7eDo27NeSni+oOqnpVz/UERs/+d9sgAoGQV6p6yoUu7pgNKSNoJj/wU6oI749TTcmfjVCxdutbj5y+dn2vinHbPafUwQupU2bKIB/4c0XPrqvfKuadLxNJP0h4dAJScQt1TNnRp13RACUk74ZGfQl1w37/oolWPGX/99bw+c+JdJ0bLUS3jO6O/EwuXL6zjEVIv3ns+4obDqp6Vc81uEa/8I6KyMu3RAUDJKNQ9ZUOXdk0HlJC0Ex75KdQFd96gwbkmzqKHHsrrM33+3Sd3Ns7Dsx6u4xFSb8pXRDwzOOLyHas2c24+MWJuJu3RAUBJKNQ9ZUOXdk0HlJC0Ex75KdQF99O77841ceaPuCmvzzw6+9FcE6fLo13qeITUu09mRdz6s6qNnJ7/EzHpDxGfzU97dABQ1Ap1T9nQpV3TASUk7YRHfgp1wV06bVquifNBjx55faasvCzajW0XLUe1jO+O/m7M+WxO3Q6S+ldZGfHqnRH996nazOn9jYinB0WsWJ72CAGgKBXqnrKhS7umA0pI2gmP/BTqgrtiwYJcE2fWOefk/bnrX7g+dzbOtc9fW4cjJFVlSyMev7r6JVbXtco2eSoq0h4hABSVQt1TNnRp13RACUk74ZGfQl1wKysrY/r+B0Rmjz3jzSOOzPtz85bMi1ajW0XLUS2jzW1t4vPyz+twlKRu0ZyIiZ2yT676cjPnhkMjpt/n5scAsIEU6p6yoUu7pgNKSNoJj/wU8oL7zkknZ8/G2WvvqFye/2UyXR/vmjsbZ+KbE+twhDQY778QcdOxVRs5PbaMGPb9iDcna+YAwHoq5D1lQ5Z2TQeUkLQTHvkp5AX3vS5dcpdUff7OO3l/btq8abkmzil3nxKVCvjSUFkZ8foDEUPaVG/mjDg64u1HNXMAYB0V8p6yIUu7pgNKSNoJj/wU8oI7d8CAWj9mPCJ7Kdap95yaa+RMnTu1DkdJg1NZGZG5J+L6g6o3c4a2i3jlHxEV5WmPEgAKSiHvKRuytGs6oISknfDITyEvuIsmT841cd7/08W1+uxdb92Va+Jc+NiFdTRCGrSKgysESgAAIABJREFUioiX74gY+L3qzZxrvxvxn+HZGyQDAGtVyHvKhiztmg4oIWknPPJTyAtuxbJlMX2/70Vmjz1j+vdaR8Xn+d+keHn58mg7tm3uceMffvZhHY6UBq2iPOKl8dmbHf93M+fqXSMeuypi8dy0RwkADVoh7ykbsrRrOqCEpJ3wyE+hL7jvX9QtdzbOwgcfrNVnB04dmDsbZ+DUgXU0QgpGZWXEWw9HjPpx9WbOZdtEjP9lxKxn3TcHAGpQ6HvKhirtmg4oIWknPPJT6Avu4ieeyDVx3v3d72v12Q8/+zD3uPG2Y9vG8vL8n3BFkXvv+YjbO0T03Lp6Q+eGQyOmjIpYviTtUQJAg1Hoe8qGKu2aDighaSc88lPoC25lWVm8ftDBkdljz3jtO9+N8sWf1erzFz52Ye5snLveuquORknBWjAz4sG/RPT5ZvVmTu+dIu7+bcTs/zg7B4CSV+h7yoYq7ZoOKCFpJzzyUwwL7gc9e+bOxvn07rtr9dmpc6fmmjin3nOqx41Ts7JlES/8PWLY96s3c3psGTFo/4gnB0QsmpP2SAEgFcWwp2yI0q7pgBKSdsIjP8Ww4C557rlcE2f2eefX6rOVlZVxyt2n5Bo5L8x9oY5GSdF4b0rExE4Rl+9YvZnTc+uIMSdlGz7LFqY9UgCoN8Wwp2yI0q7pgBKSdsIjP8Ww4FZWVMQb7Q7PNnL2aRkrFiyo1ecnvjkx18Q55e5Toqy8rI5GSlH5fHHE1FsibvpRzWfn/HXbiNt+HvHyhIjltbvMDwAKTTHsKRuitGs6oISknfDIT7EsuB9edXXubJwFY8fV6rPLy5fHjyf+ONfI6T+lfx2NkqL18dsRD/eK6L9PzQ2dy3fI3ij5pfERyz5Ne7QAsMEVy56yoUm7pgNKSNoJj/wUy4K79JVXck2cmWeeVevPZ+ZnotXN2SdVfXvUt+M/c/5TB6Ok6FVURMz6V8S9XSOu/lbNDZ3LvhIx+icR/x4W8em7aY8YADaIYtlTNjRp13RACUk74ZGfYllwKysr462jj8k2cvbcK8o+/LDW3zHi5RG5s3F+MP4H8ennzphgPVSUR7z9WPYJVn1a1NzQ6bFlxA2HRUzuGTHjqQiX8gFQoIplT9nQpF3TASUk7YRHfoppwZ133cDc2TjzR46s9efLK8rjnH+ek2vkdH2sq6dVsWGUl0W883jEfd0iBrRcfUPniq9n76Pz3IiIBTPSHjUA5K2Y9pQNSdo1HVBC0k545KeYFtzP334718R555SfrdN3zPlsThz894NzjZy736rdI8thrSorI+a8HPHYVRFD2qy+odNjy2zDZ2Kn7NOuXHoFQANWTHvKhiTtmg4oIWknPPJTbAvu2yecmGvkLJ81a52+4/4Z9+eaOAfdelC8t/i9DTxK+JLFcyOm3RZxx68irvrfNTd1rv1uxJ2/iZg6JuKjN7MNIQBoAIptT9lQpF3TASUk7YRHfoptwZ1/4425Js5HN9ywzt/T/cnuuUbOWfedFeUV5RtwlLAaFRUR7z0f8fjVESOPyz6mfE1Nnav+N+Lvp0U82T9i5tMeZQ5AaoptT9lQpF3TASUk7YRHfoptwS17//1cE+ft9u3X+XsWL18cR99xdK6Rc+lTl0ZZhZvOUs/KlkW880TEI1dEjDgm4rJt1tzU6bl1xPUHR9zZKeI/wyPenxqxYnnaPwUAJaDY9pQNRdo1HVBC0k545KcYF9wZp/8818hZ+tLL6/w9L8x9Ib4z+ju5Rs6vHviVJ1aRruVLImY8GfH4NRG3nBJx5c5rbur02DLir1/N3ntnYqeIf92QfQrWMv8dA7BhFeOesiFIu6YDSkjaCY/8FOOC+/Gtt+aaOG/+4Iex4uOP1/m77n/n/tjv5v1yjZwfT/xxzF40ewOOFtZDRUXEvOkRU0ZF3HVBxN8Ojej5P2tv7Ky8afKtP4t48C/Ze/J8MC2ibGnaPxEABaoY95QNQdo1HVBC0k545KcYF9yKpUvj7eN/kmvkzDjt9Kj4/PN1/r4X5r4Qbce2zTVy2tzWJqbOnboBRwwb0PIlEbOezZ51M+HciEH7Zy+zyqex03PriOtaZZs7/+weMWVk9sydxXPdRBmANSrGPWVDkHZNB5SQtBMe+SnWBbdszpx4o03bXCPn3d//PiorKtb5+2Yvmh3HTzw+18jZ9+Z9Y9LbkzbgiKEOLV8S8d6UbFNm0h8ihv8w4oqv5dfYWRm9vxExpG3E7R0iHros4vmbs5d2LXw/e0YQACWtWPeUaUu7pgNKSNoJj/wU84K77NVX47V998s1cub2679e37dw+cL41QO/yjVyWo5qGX964k8xe6HLqyhAlZURn8yKeP2BiKeujfhHx2yT5vIdatfcWXnfnev2jRj9k4i7Omfv2fPi7REzn8n+O8rdFByg2BXznjJNadd0QAlJO+GRn2JfcBc98khk9to718hZcPvt6/V9ZRVl0ePpHlUaOd8d/d3o8XSP+GDxBxto1JCiioqIT9+NeOuRiH8Pi7i3a8TNJ0T0b5n/ZVnVYquIa3aPGPb9iLFnRNx3Ufax6NNui3j70Yh5r0csW+iSLYACVux7yrSkXdMBJSTthEd+SmHB/XjMLbkmTmbvfWLxU0+t1/dVVlbGba/dFofedmiVZs6+N+8bVzx7RcxbMm8DjRwamBXLIz56M+KNByOeHRJxX7fs/XOuPyji8h3XscHzpei1fcSAb0fceGTEbT+PuOf3EY/0jvjPjRGvTMxevjVvesRn813CBdDAlMKeMg1p13RACUk74TU0EyZMiAMPPDCaNWsWW2+9dbRv3z5efPHFvD+/ZMmS6NatW7Ro0SKaNGkSLVq0iG7dusWSJUvWa1ylsuB+2Lt3rpEzfb/vxcejR0fFev7uFi9fHH+b9rc46NaDqjRzvjfme9Hl0S5xz9v3eCQ5paOyMmLJxxHvT4149c6IpwdmmzxjfxEx9PDsmTg9tlr/Rs+Xb8J81S4Rg1pHDD8q4u+nR9zZKeKBS7Jn+Tx3U7bx8/aj2SdvLZiZfbS65g9AnSiVPWV9S7umA0pI2gmvIRk+fHgkSRItW7aMQYMGxTXXXBM777xzbL755jFt2rS1fr68vDzatWsXSZLEmWeeGTfeeGNccMEF0bhx4zj88MOjvLx8ncdWKgtuZXl5zO70m1Vn5OyxZ7x+4EExb9DgWLFgwXp996effxrXPn9t7H/L/lWaOS1HtYxWo1vFrx74VdyaudXlVrBiebaZMuvZbIPlXzdkH3E+4dyIUe0jBh8Q0afFhmv0rO7Sriu/kb087G+HRtx0bMTfT8uOYdIfIyb3jHiiX/ZSsmljI16blG0EvTslexbQp+9lm0HlK1L+ZQI0LKWyp6xv6VZ0QElJO+E1FAsWLIgtt9wydtppp1i4cGHu9VmzZkXz5s2jTZs2a/2OESNGRJIk0blz5yqv9+3bN5IkiREjRqzz+Eppwa1YsiTe/d3vqzRyMnvsGa+12jfmXHFFlL3//np9//yl8+Pq/1wdh912WLVmzso48vYj4zcP/SYGTh0YD858MGYtnBUVlc4MgCpWLM82S957PmL6/RFTx2TPrvln94h/nB8x5qTsTZj7t6z9U7Y2ZPx124g+38yOY/CB2Xv+jDwu4pZTsk/xmvjrbGPogUuyl4U92T97GdqUUdkbP2fujnhjcsQ7T0S8+1zEnJeyl6t9Mjvis4+y9wlasdy9goCCUEp7yvqUbkUHlJS0E15DMXLkyEiSJHr27FntvQ4dOkSSJDFjxow1fsfKs3BmzpxZ5fWlS5dG06ZNo127dus8vlJccJdNfz3e69o1MnvvU62h88b3vx+zf90p5g0cFIsmT47l774XlbUsoFZUrIjn5jwXV/3nqjj6jqNX29BZGQfcckCccOcJ0XFyx+j5TM8YMm1I3PnmnfGvD/4V0z+eHnM+mxNLypbUehxQMlZ8HrFoTsSHr2YbIq/eFfH86OxTtyb3jLj7d9mmyuifZBstA/eLuHrX7FO10moA1fbsoV7bZ88guvpbEf33yT4N7PqDIoa2y15ONvK4iDE/zZ5VNO7MiDv+L2Jip+zPfm/XbANsco+IR66IePzqiCcHRDwzOOLZodlLz6aOyZ559PId2d/fa/dm73301iPZ3+msf2UbTe+/EDHn5Yi5r2UbTgtmZJtOCz+IWDwve0ndsk8jln+WnZfyFZpQUCJKcU9ZH1It6IDSknbCayg6duwYSZLEgw8+WO29oUOHRpIkMW7cuNV+vrKyMpo1axZf+9rXanz/4IMPjubNm69zgV/KC+7yd9+LOX/tFa99t1W1Zk6VM3X23S/ePOLIeOenJ8WsX/1fvPfHC2NOr8tj3nUD46Ohw+LjUaNiwW23xScT/hGfTpoUCx98MBY9/HAsfuyxWPTEEzH9n+Pitlu6xyWDfxpn9W4dJ/XaJ356+T5x4uX7xIlX7BMnXLFP/KT3qjj+ymz8+Mp94sd9VsWJV303zuh/SHQcfFT8fsjx0W34z+LSm86Iy0f/Mq65tVMMHNslbrj9orjxju4x6h894pY7e8W4u/rEhEl94857B8Q99w+Me/85OO5/4IZ48MGh8dBDw+PRh2+Kxx4eFY8/MiqeemRMPPXoLfHMY7fGs4/dFv9+fGz8+4lx8Z8nxsWUJ8bHlCfGx/NP3BHPPzkhpj45IV546h8x7amJuXjx6Tu/iLvixafvipeevjteevruePmZVfHKM/esNV59ZlKNkXnm3rqNf90nSjGeujMyj/w9Mg/cFJl7B0fmrr6RuaNXZMb+OTJjukTmpl9HZtg5kfnb6ZEZeGJk+v0oMld9PzJXHBKZy1pH5i8tI9N9t8hctHNk/ridWF1cuENkLvxaZLruFJluLSLT7ZuRuXiXyFy8a2S67x6ZP+8ZmUv3jsyl+0TmL9+OTI/vRqZnq8hctl/299xr/8hcfmBkrjg4+7vvfVhkrmwbmT7tInPV4dk5ufrIyFzzw8j0PSoyfY/OzlX/Y7MxoH1kBhwfmWuPj8x1J2TncuBJ2Rh0cmQGnRKZwadG5vpTI/O30yJzw88jc8MvvogzIzPkrMgM7RCZYWd/EedE5sZffRH/F5nh50Zm+HmRGXFeZEacH5kRHSNzU8fsfz8jO0Vm5G8iM/KCyIzqnI3RnSMz+reRGf27yIz+fWRu7pKNMV0iM+YPkbnlj1/EhV+Krtm49aLI3NotMn/vFpm//ykyt10cmdu6R2bsyvjzl+KSyIy99Iv4S2TG/Vfc/pfI3N4jG+N7Rmb8Zdm446//Fb2+iMu/iCuyMaF3zfGPlXFlNib2+SKuWnvcefWX4pqqcdeXo+9qol/NcXf/L8WAPOLamuOe1cV1NcekgauJQTXHvRsuPpn9Sr3uq0p5T1mX0q3ogJKSdsJrKNq3bx9JkkQmk6n23r333htJkkS/fv1W+/n58+dHkiRxwAEH1Pj+KaecEkmSxMcff7zWscycOTMef/zxKjFw4MCSX3BXfPxxzBs0OGb84hcxfb/vrbGhI4QQQghRCPHEgHPrdT+liVM30qzngBKTdsJrKI444ohIkiTefvvtau89/PDDkSRJ9OrVa7Wfnz17diRJstp755x55pmRJEm8++67ax1Ljx49IkmSGsOCm1VZURHLZ82Khf98IOZee23MPu/8eOtHx8brBx8Smb32Tn1DJoQQQgiRT2jiFIeUSjmgFKWd8BoKZ+IUj8qKiij/9NNYPmNGLH3hhVj8+OOx8MEH49NJk+KTCf+IBbfdFh+PGhUfDR0WH91wQ8wbPDjmXTcw5g4YEHP79osPr746Przq6vjwyj7xYe8r48PevWPOFVfEnF6XZ+OvvbJx2V+/iMtqjA969owPevSMd/9yacy8pHu89eeLYnr3P8Srf/pdvNztgnjxok4xtWvHmHLhefGfP/5fPNvlnHimy9nx9O/Piid/d2Y88btfxOO//Xk82vn0eLTzafFI51Pj4QtOjYcv+Fk8dMEpMfk3J8eDvzkpHvzNSfFAp5/GA51+Gv/s9NP4Z6cT45+dToz7O50Q9//6hLjv1yfEfb/+SY1x76+Pz0bHVTGpSvw4lbinY3shRDHE+e3jnvOP+yKOjXvOOzbuOe9H/xXHZOPcY+Kec4+uGv931Bfxw6rxqx/GPb/6wX/Fkavil0f8V3x/VZyzMg6vIdpVj7PbriXaZKPDl+OwWsahq+KsL8chtY8zD16HOGg94sANF2esLg5oYLH/Bo1X772+XvdJmjh1I816DigxaSe8hsI9cQAAKHb2lHUj3YoOKClpJ7yG4qabbookSeKyyy6r9t7ZZ58dSZLEO++8s8bvaNu2radTAQDQYNlT1o1UCzqgtKSd8BqKBQsWxBZbbBE77bRTLFy4MPf6rFmzonnz5nHYYYflXluyZEm89tpr8cEHH1T5jhtvvDGSJInOnTtXeb1fv36RJEkMHz58ncdnwQUAYH3ZU9aNdCs6oKSknfAakiFDhkSSJNGyZcsYNGhQ9O3bN1q0aBHNmzePqVOn5o579NFHI0mS6NChQ5XPl5eXR5s2bSJJkjjrrLNi+PDh0blz52jcuHG0adMmysvL13lsFlwAANaXPWXdSLWgA0pL2gmvoRk/fnwccMAB0bRp09hqq63iuOOOi2nTplU5ZnVNnIiIxYsXR9euXWPnnXeOTTbZJHbeeefo2rVrLF68eL3GZcEFAGB92VPWjZRLOqCUpJ3wyI8FFwCA9WVPWTfSrumAEpJ2wiM/FlwAANaXPWXdSLumA0pI2gmP/FhwAQBYX/aUdSPtmg4oIWknPPJjwQUAYH3ZU9aNtGs6oISknfDIjwUXAID1ZU9ZN9Ku6YASknbCIz8WXAAA1pc9Zd1Iu6YDSkjaCY/8WHABAFhf9pR1I+2aDighaSc88mPBBQBgfdlT1o20azqghKSd8MiPBRcAgPVlT1k30q7pgBKSdsIjPxZcAADWlz1l3Ui7pgNKSNoJj/xYcAEAWF/2lHUj7ZoOKCFpJzzyY8EFAGB92VPWjbRrOqCEpJ3wyI8FFwCA9WVPWTfSrumAEpJ2wiM/FlwAANaXPWXdSLumA0pI2gmP/FhwAQBYX/aUdSPtmg4oIWknPPIzadKkSJIkBg4cGI8//rgQQgghhBC1joEDB0aSJDFp0qS0t7dFJe2aDighaSc88rNywRVCCCGEEGJ9Y+DAgWlvb4tKAlBf0k545GfmzJkxcODAmDRpUip/W+MMoOIM81vcYX6LO8xv8Yc5Lu5Ia34nTZoUAwcOjJkzZ6a9vS0qadZzQIlJO+HRsD3+uOumi5n5LW7mt7iZ3+Jnjoub+S0uadZzQIlJO+HRsNlgFDfzW9zMb3Ezv8XPHBc381tc0qzngBKTdsKjYbPBKG7mt7iZ3+JmfoufOS5u5re4pFnPASUm7YRHw2aDUdzMb3Ezv8XN/BY/c1zczG9xSbOeA0pM2gmPhm3mzJnRo0cPN78rUua3uJnf4mZ+i585Lm7mt7ikXdMBJSTthAcAAFDI0q7pgBKSdsIDAAAoZGnXdEAJSTvhAQAAFLK0azqghKSd8AAAAApZ2jUdUELSTngAAACFLO2aDighaSc8AACAQpZ2TQeUkLQTHgAAQCFLu6YDSkjaCY+GacKECXHggQdGs2bNYuutt4727dvHiy++mPawqIU33ngjevToEYccckhsv/320axZs9hrr72ic+fO8cEHH9T4mWHDhsV3vvOd2GyzzeKrX/1qnH766TFz5sx6HjnroqKiIg488MBIkiTatWtX7f0VK1ZEnz59Yvfdd48mTZrEjjvuGB07doz58+fX/2DJ2+LFi6Nnz56xzz77RNOmTWPLLbeMVq1aRf/+/ascZ34Lz8KFC+Ovf/1rtGzZMjbffPP4yle+Eq1bt47BgwdHWVlZlWPNb8N15ZVXxs9+9rP41re+FY0aNYq1ba1rO5fz58+Pjh07xo477hhNmjSJ3XffPfr06RMrVqyoix+H9ZB2TQeUkLQTHg3P8OHDI0mSaNmyZQwaNCiuueaa2HnnnWPzzTePadOmpT088tStW7do3rx5nHbaaXHttdfG0KFD45xzzonGjRvH//zP/8Rrr71W5fhLLrkkkiSJQw89NIYMGRK9evWKbbbZJnbcccd49913U/opyFe/fv1i8803X20T54wzzogkSaJ9+/YxbNiwuPjii6Np06ax9957x6JFi+p/wKzVBx98EHvttVdstdVW8dvf/jZuvPHGGDx4cHTp0iU6d+5c5VjzW1hWrFgRrVu3jo022ig6dOgQQ4YMieuuuy7atm0bSZLEz3/+8yrHm9+GK0mS2HrrreP73/9+7LDDDmtt4tRmLhctWhR77713NG7cODp37hw33nhjnHnmmZEkSZxxxhl1+WOxDlIq5YBSlHbCo2FZsGBBbLnllrHTTjvFwoULc6/PmjUrmjdvHm3atElxdNTGc889F5988km114cOHRpJksQpp5ySe+3111+Pxo0bx3777Vflb/eee+65aNSoUZx55pn1MmbWzdtvvx3NmjWLa6+9tsYmzsMPPxxJksTxxx9f5fU77rgjkiSJSy+9tB5HS75+8IMfxPbbbx8zZsxY43Hmt/BMnjw5kiSJ3/3ud1VeLy8vj1atWkWjRo1y+dv8NmxvvfVW7p/btWu3xiZObefy0ksvjSRJol+/flVev+CCCyJJknj44Yc3wE/AhpJGHQeUqLQTHg3LyJEjI0mS6NmzZ7X3OnToEEmSrLWgoGFbuHBhJEkSe+yxR+61Hj16RJIkMWrUqGrHt2vXLpo2bRpLly6tz2FSC0cccUTsv//+UVFRUWMTZ+X/u4899li1z37zm9+MFi1a1M9AydszzzwTSZLkLpsqLy9f7RkX5rfwrCzar7rqqmrvHXPMMbHxxhvncq75LRxra+LUdi5btGgRzZo1q7b+zpgxI5IkiQ4dOmyIYbOBpFLIAaUp7YRHw9KxY8dIkiQefPDBau+tPINj3LhxKYyMDSWTyUSSJNG2bdvca8ccc0wkSRJvvPFGteMvvvjiSJIk/v3vf9fnMMnTsGHDYuONN85d6pjU0MTZc889Y6ONNorPP/+82udPP/30SJIk5s6dWx/DJU8r/7+7++674+STT44mTZpEkiSx3XbbxUUXXVRlLs1v4fnwww9j8803j2222SbGjh0bs2bNijfeeCN69eoVjRo1qvIXKea3cKytiVObufzwww8jSZI45JBDavyuHXfcMfbaa68NM3A2iDTqOKBEpZ3waFjat28fSZJEJpOp9t69995b42m9FJaTTjopkiSJkSNH5l5r2bJlJElS49k2119/fSRJEhMmTKjHUZKP999/P7baaqvo1q1b7rWkhibO5ptvHtttt12N39G1a9dIkiSef/75uhwqtXTCCSfkmjb77rtv3HTTTfH3v/89jjrqqEiSJI477rjcsea3MD3yyCOx++67R5Ikudhss81i2LBhVY4zv4VjbU2c2szllClTIkmS+NnPflbj8fvvv39sscUW6z9oNph6L+KA0pV2wqNhOeKIIyJJknj77bervbfyWu5evXqlMDI2hCuuuCKSJIkTTjghKisrc6/vsssukSRJVFRUVPvMiBEjIkmSGDNmTH0OlTwcf/zxseuuu1ZpviU1NHE22mij+MY3vlHjd6y858KTTz5Zl0Ollo488shIkiR22mmnWLJkSe71ysrKOPTQQyNJkpg8eXJEmN9CNWXKlGjfvn388pe/jNtvvz1uvfXWOOGEE6JRo0Zx9dVX544zv4VjbU2c2szlE088EUmSrPaedG3atInGjRuv/6DZYNKo44ASlXbCo2FxJk7xWnnT28MPP7xKURjhTJxCdNttt1Up5FdKnIlTFH784x9HkiTRtWvXau+tbKyuPAPL/BaeadOmxaabblrj/J588smx0UYbxUsvvRQR5reQOBOntKVQxgGlKu2ER8PinjjFqV+/fpEkSRx55JHVGjgR7olTaD7//PPYdttt46ijjoo333yzSiRJEgcccEC8+eabMWfOnIhwT41C1KlTp0iSJAYMGFDtvfvuuy+SJIlzzz03IsxvITrnnHMiSZKYMmVKtffGjx8fSZLEddddFxHmt5C4J05pq/8qDihZaSc8GpabbropkiSJyy67rNp7Z599diRJEu+8804KI2Nd9enTJ5IkiWOOOSaWLVtW4zF/+ctfIkmSGD16dLX3Dj/88GjatGmNzR/S8cknn1S5j8bq4qSTToqIiLPOOiuSJInHH3+82nd5uk3DNGbMmEiSJLp06VLtvZUN9UsuuSQizG8hOvroo1fbHF95ll3fvn0jwvwWkrU1cWo7lzvvvHONT6eaOXOmp1M1QPVYvgGlLu2ER8OyYMGC2GKLLWKnnXaKhQsX5l6fNWtWNG/ePA477LAUR0dtrbwHTvv27Wv8m7+Vpk+fHo0bN4799tsvVqxYkXv9ueeei0aNGsUZZ5xRH8MlT2VlZTF+/PgaI0mS2HvvvWP8+PHxr3/9KyIiJk+eHEmSxPHHH1/leyZMmFClGUDDsWjRothmm21i2223jQULFuReLysri3333bdKA8D8Fp4//OEPkSRJnHfeeVVer6ysjB/+8IeRJEk89dRTEWF+C8namji1ncs///nPNV7G3rlz50iSJB566KENN3jWW/1XcUDJSjvh0fAMGTIkkiSJli1bxqBBg6Jv377RokWLaN68eUydOjXt4ZGnwYMHR5Iksf3228dNN90UY8aMqRZftvKyqUMPPTSGDBkSl19+eWyzzTax/fbbx+zZs1P6KaitpIZ74kSsOlW/ffv2ceONN0b37t2jadOmseeee1Zp2NJwjBs3Lho1ahS77LJL9OnTJwYMGBCtW7eOJEmiY8eOVY41v4Vl9uzZse2220aSJPGjH/0oBg0aFP369YuDDjookiSJE088scrx5rfhuvnmm6NXr159myd5AAAMA0lEQVTRq1ev+OY3v5l7AMTK+G+1mcuFCxfGHnvsEY0bN47OnTvH8OHD48wzz4wkSeL000+vrx+RPKVSyAGlKe2ER8M0fvz4OOCAA6Jp06ax1VZbxXHHHRfTpk1Le1jUQocOHdZ6uc2XVVZWxpAhQ+Lb3/52bLrpprHNNtvEaaed5vK5ApOspolTVlYWvXv3jt122y2aNGkSO+ywQ5x33nkxb968+h8keXvooYfiiCOOiC222CI23XTTaNWqVQwZMqTK0+UizG8hmjVrVpx77rnRokWL2GSTTaJp06bRqlWr6Nu3b5UzIiPMb0O28uybfNbZiNrP5bx58+K8886LHXbYIZo0aRK77bZb9O7dO8rKyur6R6OW6r+KA0pW2gkPAACgkKVd0wElJO2EBwAAUMjSrumAEpJ2wgMAAChkadd0QAlJO+EBAAAUsrRrOqCEpJ3wAAAAClnaNR1QQtJOeAAAAIUs7ZoOKCFpJzwAAIBClnZNB5SQtBMeAABAIUu7pgNKSNoJDwAAoJClXdMBJSTthAcAAFDI0q7pgBKSdsIDAAAoZGnXdEAJSTvhAQAAFLK0azqghKSd8AAoPjNmzIgkSdYY48ePT3uYALBBpFfNASUn7YQHQPFZ2cRp06ZNjBkzpsaYNWtW2sMEgA0i7ZoOKCFpJzwAis/KJk6HDh3SHko1K1asiKVLl6Y9DACKSNo1HVBC0k54ABSf2jRx2rVrFy1atIi5c+fG2WefHV/96ldj0003jf333z8efvjhGj/z1FNPRfv27eMrX/lKbLLJJrHrrrvGn//851i2bFmV4zp06BBJksT8+fPj/PPPj6997Wux0UYbxcSJEyMiorKyMvr37x/f+ta3okmTJrHLLrtE796946GHHookSWLkyJEREfHcc89FkiTRtWvXGsfzpz/9KZIkiSeffDL/XxIARSPVgg4oLWknPACKz8omzmmnnRYfffRRjbFSu3bt4qtf/Wrstttu8dOf/jQGDRoUV1xxRWy77bax2WabxezZs6t895gxY6Jx48bxne98J3r37h1Dhw6N8847LzbeeONo165drFixInfsyibOvvvuG4cffnj0798/rrvuupg6dWpERFx44YWRJEm0bt06+vbtG717947ddtst9t9//ypNnIiI1q1bx3bbbRdlZWVVxrNixYrYYYcdYu+9966D3yQAhSDdig4oKWknPACKTz43Nl68eHFEZJs4SZJEz549q3zH008/HUmSRPfu3XOvzZ07N5o1axbHHntsVFRUVDl+3LhxkSRJjB49OvfayibOKaecEpWVlVWOf/3116NRo0Zx4IEHxvLly3Ovf/rpp/GNb3yjWhNn+PDhkSRJjBs3rsr3TJgwIZIkieuuu27dflkAFLwUyjigVKWd8AAoPiubOEcddVRMnjy5xigvL4+IbBNno402iiVLllT7ns033zxOPvnk3J8HDx4cSZLEnXfeWe3Mnnnz5kWzZs3i5z//ee74lU2c559/vtp3X3XVVZEkSYwdO7bae717967WxFmyZElstdVWceSRR1Y59phjjommTZvGJ598UuvfEwDFIdWCDigtaSc8AIpPbe+J8/Wvf73G91q0aBGHH3547s+dOnVa6xk+RxxxRO74lU2czz77rNp3n3/++ZEkSUybNq3aexMnTqzWxImI+O1vfxuNGjWKt956KyIiZs2aFRtttFGDvIEzAPUnnUoOKElpJzwAis+63Ni4Ji1atIh27drl/tyxY8dIkiSGDh262jN8pkyZkjt+ZROnJuvSxMlkMpEkSXTr1i0iIi699NJIkiSeeeaZtf6cABSvFMs5oNSknfAAKD511cTp37//ai+Bqsmamji1vZzqy+PdfvvtY9myZfH1r389vv3tb+c1FgCKV6oFHVBa0k54ABSfumrivP/++7HZZpvFnnvuGQsXLqx2fFlZWXz88ce5P6+piTN9+vRo1KhRHHTQQXnd2HilsWPH5n62JEli8ODBa/0ZAShuqRZ0QGlJO+EBUHxWNnHatGkTY8aMqTFefPHFiKhdEyci+4jxjTfeOLbbbru46KKLYujQoXHNNdfE+eefH9ttt12VxsuamjgREV26dMk9Yrxfv35x5ZVXxu677x4HHHBAJEkSo0aNqvaZsrKy2G677SJJkmjWrFl8+umntf79AFBcUi3ogNKSdsIDoPjk84jxHj16RETtmzgREVOmTIlTTz01dtxxx9hkk01i2223jdatW0f37t1j9uzZuePW1sSprKyMa665Jnbddddo0qRJ/O///m/07t07d0+c/36c+EoXX3xxJEkSv/zlL/P+nQBQvFIq5YBSlHbCA4CG5uqrr44kSeLZZ5+t8f0ePXqs8X0ASkvaNR1QQtJOeACQlqVLl1Z7beU9cbbddtsq98r58me233772G+//epjiAAUgLRrOqCEpJ3wACAtI0eOjP322y969uwZw4YNi0suuSS+/vWvR5IkMWLEiCrHvvzyyzFmzJg49thjI0mSmDhxYkqjBqChSbumA0pI2gkPANLy/PPPx49+9KPYYYcdYpNNNoktttgi2rZtG3fddVe1Y1deQrXDDjvElVdemcJoAWio0q7pgBKSdsIDAAAoZGnXdEAJSTvhAQAAFLK0azqghKSd8AAAAApZ2jUdUELSTngAAACFLO2aDighaSc8AACAQpZ2TQeUkLQTHgAAQCFLu6YDSkjaCQ8AAKCQpV3TASUk7YQHAABQyNKu6YASknbCAwAAKGRp13RACUk74QEAABSytGs6oISknfAAAAAKWdo1HVBC0k54AAAAhSztmg4oIWknPAAAgEKWdk0HlJC0Ex4AAEAhS7umAwAAAAAAAAAAAAAAAAAAAAAAAAAAAAAAAAAAAAAAAAAAAAAAAAAAAAAAAAAAAAAAAAAAAAAAAAAAAAAAAAAAAAAAAAAAAAAAAAAAAAAAAAAAAAAAAAAAAAAAAAAAAAAAAAAAAAAAAAAAAAAAAAAAAAAAAAAAAAAAAAAAAAAAAAAAAAAAAAAAAAAAAAAAAAAAAAAAAAAAAAAAAAAAAAAAAAAAAAAAAAAAAAAAAAAAAAAAAAAAAAAAAAAAAAAAAAAAAAAAAAAAAAAAAAAAAAAAAAAAAAAAAAAAAAAAAAAAAAAAAAAAAAAAAAAAAAAAAAAAAAAAAAAAAAAAAAAAAAAAAAAAAAAAAAAAAAAAAAAAAAAAAAAAAAAAAAAAAAAAAAAAAAAAAAAAAAAAAAAAAAAAAAAAAAAAAAAAAAAAAAAAAAAAAAAAAAAAAAAAAAAAAAAAAAAAAAAAAAAAAAAAAAAAAAAAAAAAAAAAAAAAAAAAAAAAAAAAAAAAAAAAAAAAAAAAAAAAAAAAAAAAAAAAAAAAAAAAAAAAAAAAAAAAAAAAAAAAAAAAAAAAAAAAAAAAAAAAAAAAAAAAAAAAAAAAAAAAAAAAAAAAAAAAAAAAAAAAAAAAAAAAAAAAAAAAAAAAAAAAAAAAAAAAAAAAAAAAAAAAAAAAAAAAAAAAAAAAAAAAAAAAAAAAAAAAAAAAAAAAAAAAAAAAAAAAAAAAAAAAAAAAAAAAAAAAAAAAAAAAAAAAAAAAAAAAAAAAAAAAAAAAAAAAAAAAAAAAAAAAAAAAAAAAAAAAAAAAAAAAAAAAAAAAAAAAAAAAAAAAAAAAAAAAAAAAAAAAAAAAAAAAAAAAAAAAAAAAAAAAAAAAAAAAAAAAAAAAAAAAAAAAAAAAAAAAAAAAAAAAAAAAAAAAAAAAAAAAAAAAAAAAAAAAAAAAAAAAAAAAAAAAAAAAAAAAAAAAAAAAAAAAAAAAAAAAAAAAAAAAAAAAAAAAAAAAAAAAAAAAAAAAAAAAAAAAAAAAAAAAAAAAAAAAAAAAAAAAAAAAAAAAAAAAAAAAAAAAAAAAAAAAAAAAAAAAAAAAAAAAAAAAAAAAAAAAAAAAAAAAAAAAAAAAAAAAAAAAAAAAAAAAAAAAAAAAAAAAAAAAAAAAAAAAAAAAAAAAAAAAAAAAAAAAAAAAAAAAAAAAAAAAAAAAAAAAAAAAAAAAAAAAAAAAAAAAAAAAAAAAAAAAAAAAAAAAAAAAAAAAAAAAAAAAAAAAAFL0/yvFpax6AdCnAAAAAElFTkSuQmCC\" width=\"852.75\">"
      ],
      "text/plain": [
       "<IPython.core.display.HTML object>"
      ]
     },
     "metadata": {},
     "output_type": "display_data"
    },
    {
     "name": "stdout",
     "output_type": "stream",
     "text": [
      "  beta    avg energy    entropy\n",
      "  0.01 2634.296862103942 26.342968621039425\n",
      "  0.1 98.86866292417308 9.886866292417308\n",
      "  0.5 3.8768876977180815 1.9384438488590408\n",
      "  0.9 1.14141458776212 1.027273128985908\n"
     ]
    }
   ],
   "source": [
    "import numpy as np\n",
    "import matplotlib.pyplot as plt\n",
    "\n",
    "%matplotlib notebook\n",
    "\n",
    "E = np.linspace(0,100, 100)\n",
    "\n",
    "betas = [.01, .1, .5, .9]\n",
    "\n",
    "plt.figure()\n",
    "plt.xlabel(\"Energy\")\n",
    "plt.ylabel(\"p_i\")\n",
    "\n",
    "print(\"  beta    avg energy    entropy\")\n",
    "for beta in betas:\n",
    "    p_i = np.exp(-beta * E)\n",
    "    plt.plot(E, p_i, label = 'beta: ' + str(beta));\n",
    "    plt.legend();\n",
    "    \n",
    "    avg_energy = np.dot(p_i, E)\n",
    "    entropy = - np.dot(p_i, np.log(p_i))\n",
    "    print(\" \",beta, avg_energy, entropy)\n"
   ]
  },
  {
   "cell_type": "markdown",
   "metadata": {},
   "source": [
    "Note that the smaller $\\beta$, the larger the average energy $E$.\n",
    "\n",
    "\n",
    "\n",
    "$\\beta$ **is the thing that you tune to change the average energy.**\n",
    "\n",
    "> in fact, **beta is the inverse temperature**:  $\\beta = \\frac 1T$\n",
    "\n",
    "** Rewriting constraint (1.) above, using $p_i = \\frac1z e^{-\\beta E_i}$**\n",
    "\n",
    "$$\n",
    "\\frac1z \\sum_i e^{-\\beta E_i} = 1  \\implies\n",
    "$$\n",
    "\n",
    "<p style=\"border: 1px solid black\">\n",
    "$$\n",
    "z = \\sum_i e^{-\\beta E_i},\n",
    "$$\n",
    "</p> \n",
    "\n",
    "which we re-write as a function of $\\beta$ (called the **partition function**)\n",
    "\n",
    "$$\n",
    "\\sum_i e^{-\\beta E_i} = z(\\beta)\n",
    "$$\n",
    "\n",
    "** Rewriting constraint (2.) above, similarly, **\n",
    "\n",
    "**3.**\n",
    "$$\n",
    "\\sum_i E_i p_i = \\sum_i \\frac1z e^{-\\beta E_i} E_i = E\n",
    "$$\n",
    "\n",
    "This is an equation relating $\\beta$ to the average energy $E$.\n",
    "\n",
    "Now, if we differentiate the partition function: $\\sum_i e^{-\\beta E_i} = z(\\beta)$, we obtain\n",
    "\n",
    "$$\n",
    "\\frac{\\partial z}{\\partial \\beta} = - \\sum_i E_i e^{-\\beta E_i}\n",
    "$$\n",
    "\n",
    "Dividing by $z$ we get\n",
    "\n",
    "$$\n",
    "\\frac1z \\frac{\\partial z}{\\partial \\beta} = - \\frac{\\sum_i E_i e^{-\\beta E_i}}{z} (= E) \n",
    "$$\n",
    "\n",
    "\n",
    "But this is the same as (3.) above!\n",
    "\n",
    "**Therefore we have written the average energy as a function of derivative of the partition function.**\n",
    "\n",
    "$$\n",
    "E = - \\frac1z \\frac{\\partial z}{\\partial \\beta} = \\frac{\\sum_i E_i e^{-\\beta E_i}}{z}\n",
    "$$\n",
    "\n",
    "Thus\n",
    "\n",
    "$$\n",
    "E = - \\frac1z \\frac{\\partial z}{\\partial \\beta}  = - \\frac{\\partial \\log z}{\\partial \\beta}\n",
    "$$\n",
    "\n",
    "> (since $\\frac{d}{dx} \\log z = \\frac1z$)"
   ]
  },
  {
   "cell_type": "markdown",
   "metadata": {
    "collapsed": true
   },
   "source": [
    "<p style=\"border: 1px solid black\">\n",
    "We now have a relation between $E$ and $\\beta$:\n",
    "\n",
    "$$\n",
    "E(\\beta) = \\frac{- \\partial \\log z}{\\partial \\beta}\n",
    "$$\n",
    "</p> "
   ]
  },
  {
   "cell_type": "markdown",
   "metadata": {},
   "source": [
    "** Calculate Entropy as function of partition function $z$ **\n",
    "\n",
    "$$\n",
    "p_i = \\frac1z e^{-\\beta E_i}\n",
    "$$\n",
    "\n",
    "$$\n",
    "S = -\\sum_i p_i \\log p_i\n",
    "$$\n",
    "\n",
    "$$\n",
    "= -\\sum_i \\frac1z e^{-\\beta E_i}[-\\beta E_i - \\log z]\n",
    "$$\n",
    "\n",
    "$$\n",
    "= \\sum_i \\frac1z e^{-\\beta E_i}[\\beta E_i + \\log z]\n",
    "$$\n",
    "\n",
    "$$\n",
    "= \\beta \\sum_i p_i E_i + \\frac1z \\log z \\sum_i e^{-\\beta E_i}\n",
    "$$\n",
    "\n",
    "$$\n",
    "= \\beta E + \\frac1z z \\log z \n",
    "$$\n",
    "\n",
    "$$\n",
    "= S = \\beta E + \\log z\n",
    "$$"
   ]
  },
  {
   "cell_type": "markdown",
   "metadata": {},
   "source": [
    "<table style=\"border: 1px solid black\">\n",
    "<tr>\n",
    "<td>\n",
    "Entropy defined in terms of average energy and the partition function:\n",
    "\n",
    "$$\n",
    "S = \\beta E + \\log z\n",
    "$$\n",
    "</td>\n",
    "</tr>\n",
    "</table>"
   ]
  },
  {
   "cell_type": "markdown",
   "metadata": {},
   "source": [
    "** Temperature: **\n",
    "\n",
    "$$\n",
    "dE = Tds\n",
    "$$\n",
    "\n",
    "$$\n",
    "T = \\frac{dE}{dS}\n",
    "$$\n",
    "\n",
    "also\n",
    "\n",
    "$$\n",
    "\\frac1T = \\frac{dS}{dE}\n",
    "$$\n",
    "\n",
    "Taking derivative of entropy ($S$):\n",
    "\n",
    "** ?? understand derivative **\n",
    "$$\n",
    "dS = \\beta dE + E d \\beta + \\frac{\\partial \\log z}{\\partial \\beta} d \\beta \n",
    "$$\n",
    "\n",
    "$$\n",
    "= \\beta dE + E d\\beta - E d \\beta\n",
    "$$\n",
    "\n",
    "$$\n",
    "dS = \\beta dE\n",
    "$$\n",
    "\n",
    "$$\n",
    "\\frac1\\beta dS = dE\n",
    "$$\n",
    "\n",
    "<p style=\"border: 1px solid black\">\n",
    "$\\beta$ is the **inverse temperature**:\n",
    "\n",
    "$$\n",
    "T = \\frac1\\beta\n",
    "$$\n",
    "</p> "
   ]
  },
  {
   "cell_type": "markdown",
   "metadata": {},
   "source": [
    "## important equations\n",
    "\n",
    "<p style=\"border: 1px solid black\">\n",
    "$$\n",
    "p_i = \\frac1z e^{-\\beta E_i}\n",
    "$$\n",
    "\n",
    "$$\n",
    "z = \\sum_i e^{-\\beta E_i} \\text{  or  } \\int e^{-\\beta E_i}\n",
    "$$\n",
    "\n",
    "$$\n",
    "E = -\\frac{\\partial \\log z}{\\partial \\beta}\n",
    "$$\n",
    "\n",
    "$$\n",
    "T = \\frac1\\beta\n",
    "$$\n",
    "\n",
    "$$\n",
    "S = \\beta E + \\log z\n",
    "$$\n",
    "\n",
    "</p> \n"
   ]
  },
  {
   "cell_type": "markdown",
   "metadata": {},
   "source": [
    "## Example - The Ideal Gas"
   ]
  },
  {
   "cell_type": "markdown",
   "metadata": {},
   "source": [
    "Gas in a box:\n",
    "![avolume](./images/volume.JPG)\n",
    "\n",
    "\n",
    "\n",
    "assumption: molecules' interaction is negligible (0 interaction)\n",
    "\n",
    "$N$ = number of particles\n",
    "\n",
    "$V$ = volume\n",
    "\n",
    "$\\rho$ = Density = $\\frac{N}{V}$ \n",
    "\n",
    "States are: the collection of position and momentum for all the particles\n",
    "\n",
    "positions: $x_1, ... x_{3N}$\n",
    "\n",
    "momenta: $p_1, ..., p_{3N}$\n",
    "\n",
    "State is point in [x,p] (6-dimensional)\n",
    "\n",
    "replaces sums by integrals\n",
    "\n",
    "**find the partition function $z$**\n",
    "\n",
    "$$\n",
    "z = \\int d^{3N}x d^{3N} p e^{-\\beta E_i} \n",
    "$$\n",
    "\n",
    "\n",
    "> kinetic energy = $\\frac12 m v^2$\n",
    "\n",
    "> assume all particles have same mass $m$\n",
    "\n",
    "> $p$ = momentum = $mv$\n",
    "\n",
    "> so the kinetic energy of each particle is $E_i = \\frac1{2m}[m^2 v_1^2 + m^2v_2^2 + m^2v_3^2]  = \\frac1{2m}[p_1^2 + p_2^2 + p_3^2]$\n",
    "\n",
    "> Note that $p_1, p_2, p_3$ are the 3 momentum components in 3 directions of each particle, having the same mass $m$.\n",
    "The $n$'s denote the coordinates.\n",
    "\n",
    "\n",
    "$$\n",
    "z =  \\int d^{3N}x d^{3N} P e^{-\\beta \\sum_{n = 1}^{3N} \\frac{P_n^2}{2m}}\n",
    "$$\n",
    "\n",
    "\n",
    "$$\n",
    "=  \\int d^{3N}x d^{3N} P e^{-\\frac{\\beta}{2m} \\sum_{n = 1}^{3N} P_n^2}\n",
    "$$"
   ]
  },
  {
   "cell_type": "markdown",
   "metadata": {},
   "source": [
    "> (sum in the exponent = product)\n",
    "\n",
    "$$\n",
    "=  \\int d^{3N}x d^{3N} P e^{-\\frac{\\beta}{2m}} \\prod_{n = 1}^{3N} e^{P_n^2}\n",
    "$$\n",
    "\n",
    "> Note: This integral can be factored into $x$ and $P$ terms.  The $P$ terms look like: \n",
    "\n",
    "> $dp_1 e^{-\\frac{\\beta}{2m}p_1^2} dp_2 e^{-\\frac{\\beta}{2m}p_2^2} dp_2 e^{-\\frac{\\beta}{2m}p_2^2}$\n",
    "\n",
    "> This is the integral over all possible states (all positions and momenta)\n",
    "\n",
    "> The **$x$ integral gives the volume of the box:**\n",
    "\n",
    "> $\\int d^3 x = V$\n",
    "\n",
    "> The integral over all the particles and $x$, $d^{3N}x$, gives $V^N$.\n",
    "\n",
    "> common practice to divide by $N!$, and say we over-counted the ways of substituting particles for each other: $\\frac{V^N}{N!}$\n",
    "\n",
    "\n"
   ]
  },
  {
   "cell_type": "markdown",
   "metadata": {},
   "source": [
    "> ** The $P$ part gives **\n",
    "\n",
    "$$\n",
    "\\big[\\int dP e^{- \\frac\\beta{2m} P^2}\\big]^{3N}\n",
    "$$\n",
    "\n",
    "Solving \n",
    "$$\n",
    "\\int dP e^{- \\frac\\beta{2m} P^2},$$ \n",
    "\n",
    "Let $q^2 = \\frac{\\beta}{2m} P^2$, giving\n",
    "\n",
    "$P = \\sqrt{\\frac{2m}{\\beta} }q $"
   ]
  },
  {
   "cell_type": "markdown",
   "metadata": {},
   "source": [
    "$dP = \\sqrt{\\frac{2m}{\\beta} }dq$, giving\n",
    "\n",
    "$$\n",
    "\\sqrt{\\frac{2m}{\\beta}} \\int dq e^{-q^2}\n",
    "$$\n",
    "\n",
    "> This integral happens to equal $\\sqrt\\pi$\n",
    "\n",
    ">  https://en.wikipedia.org/wiki/Gaussian_integral\n",
    "\n",
    "$$\n",
    "= \\sqrt{\\frac{2m \\pi}{\\beta}}\n",
    "$$"
   ]
  },
  {
   "cell_type": "markdown",
   "metadata": {
    "collapsed": true
   },
   "source": [
    "$$\n",
    "z = \\frac{V^N}{N!} \\big(\\frac{2m \\pi}{\\beta}\\big)^{\\frac{3N}{2}}\n",
    "$$\n",
    " \n",
    "\n",
    "Using Stirling's approximation, we get\n",
    "\n",
    "$$\n",
    "\\frac{V^N}{N!} = \\frac{V^N}{N^N e^{-N}} = \\big( \\frac{eV}{N}\\big) ^N = \\big(\\frac e\\rho\\big)^N, \n",
    "$$\n",
    "\n",
    "> since $\\rho = \\frac NV$, giving\n",
    "\n",
    "<p style=\"border: 1px solid black\">\n",
    "** the partition function:**\n",
    "$$\n",
    "z = \\big(\\frac{2m \\pi}{\\beta}\\big)^{\\frac{3N}{2}} \\big(\\frac e\\rho\\big)^N\n",
    "$$\n",
    "</p>"
   ]
  },
  {
   "cell_type": "markdown",
   "metadata": {},
   "source": [
    "useful to find the logarithm of $z$:\n",
    "\n",
    "$$\n",
    "\\log z = N \\big[ \\frac32 \\log \\frac{2m\\pi}\\beta + \\log e - \\log \\rho \\big]\n",
    "$$\n",
    "\n",
    "$$\n",
    "N \\big[ \\frac32 \\log \\frac{2m\\pi}\\beta - \\log \\rho + 1\\big]\n",
    "$$\n",
    "\n",
    ">  our goal is to maximize $z$, so we can get rid of constant terms for the derivative\n",
    "\n",
    "$$\n",
    "\\approx -\\frac{3N}2 \\log \\beta + \\text{const}\n",
    "$$\n",
    "\n",
    ">  the 3 comes from the 3 dimensions of space\n",
    "\n",
    ">  the 1/2 comes from the change of variables $p \\to q$\n"
   ]
  },
  {
   "cell_type": "markdown",
   "metadata": {},
   "source": [
    "## Now, let's calculate the total energy of the system\n",
    "\n",
    "Since\n",
    "\n",
    "$$\n",
    "E = -\\frac{\\partial \\log z}{\\partial \\beta},\n",
    "$$\n",
    "\n",
    "and\n",
    "\n",
    "$$\n",
    "\\beta = \\frac1T,\n",
    "$$"
   ]
  },
  {
   "cell_type": "markdown",
   "metadata": {},
   "source": [
    "$$\n",
    "\\frac{\\partial \\log z}{\\partial \\beta} = -\\frac{3N}{2}T,\n",
    "$$\n",
    "\n",
    "<p style=\"border: 1px solid black\">\n",
    "\n",
    "Therefore, the ** total energy is**\n",
    "\n",
    "$$\n",
    "E = - \\frac{\\partial \\log z}{\\partial \\beta} = \\frac{3N}{2}T.\n",
    "$$\n",
    "\n",
    "The energy per particle:\n",
    "\n",
    "$$\n",
    "\\frac EN = \\frac32 T\n",
    "$$\n",
    "</p>\n",
    "\n",
    "To convert from theoretical energy units to \"laboratory units\", multiply by the Boltzmann constant:\n",
    "\n",
    "$$\n",
    "\\frac EN = \\frac32 Tk_B\n",
    "$$\n",
    "\n",
    "> This is for all 3 directions in space.  \n",
    "\n",
    "> For each direction in space, the energy is \n",
    "\n",
    "$$\n",
    "\\frac EN = \\frac12 Tk_B\n",
    "$$\n"
   ]
  },
  {
   "cell_type": "markdown",
   "metadata": {
    "collapsed": true
   },
   "source": [
    "## Aside:  sharply peaked Gaussian\n",
    "\n",
    "$$\n",
    "g \\approx 2^N e^\\frac{− 2 n^2}{N}\n",
    "$$"
   ]
  },
  {
   "cell_type": "code",
   "execution_count": 15,
   "metadata": {
    "collapsed": true
   },
   "outputs": [],
   "source": [
    "N = 6.0 * 10**2\n",
    "\n",
    "n = np.linspace(-1000,1000)\n",
    "\n",
    "g = (2 **N) * np.exp((-2 * n ** 2)/(N))"
   ]
  },
  {
   "cell_type": "code",
   "execution_count": 16,
   "metadata": {
    "collapsed": false,
    "scrolled": false
   },
   "outputs": [
    {
     "data": {
      "image/png": "[encoded data removed]",
      "text/plain": [
       "<Figure size 432x288 with 1 Axes>"
      ]
     },
     "metadata": {},
     "output_type": "display_data"
    }
   ],
   "source": [
    "plt.plot(n, g);\n",
    "#plt.ylim([0,1])\n",
    "#plt.xlim([-1000,1000])"
   ]
  },
  {
   "cell_type": "code",
   "execution_count": null,
   "metadata": {
    "collapsed": true
   },
   "outputs": [],
   "source": []
  }
 ],
 "metadata": {
  "kernelspec": {
   "display_name": "Python 3",
   "language": "python",
   "name": "python3"
  },
  "language_info": {
   "codemirror_mode": {
    "name": "ipython",
    "version": 3
   },
   "file_extension": ".py",
   "mimetype": "text/x-python",
   "name": "python",
   "nbconvert_exporter": "python",
   "pygments_lexer": "ipython3",
   "version": "3.6.0"
  }
 },
 "nbformat": 4,
 "nbformat_minor": 2
}
